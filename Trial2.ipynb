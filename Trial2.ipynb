{
  "nbformat": 4,
  "nbformat_minor": 0,
  "metadata": {
    "colab": {
      "name": "Trial2.ipynb",
      "provenance": [],
      "toc_visible": true,
      "mount_file_id": "1p3nErIYBFaLxxWo_yCKHf7ny9b7tuOAG",
      "authorship_tag": "ABX9TyPAL67UzXlQCXVe+cY85kuL",
      "include_colab_link": true
    },
    "kernelspec": {
      "name": "python3",
      "display_name": "Python 3"
    },
    "language_info": {
      "name": "python"
    }
  },
  "cells": [
    {
      "cell_type": "markdown",
      "metadata": {
        "id": "view-in-github",
        "colab_type": "text"
      },
      "source": [
        "<a href=\"https://colab.research.google.com/github/adityab-28/WTurbine_FS_based_CM/blob/main/Trial2.ipynb\" target=\"_parent\"><img src=\"https://colab.research.google.com/assets/colab-badge.svg\" alt=\"Open In Colab\"/></a>"
      ]
    },
    {
      "cell_type": "code",
      "metadata": {
        "id": "bDiooXhVUpfy"
      },
      "source": [
        "import numpy as np\n",
        "import pandas as pd\n",
        "import matplotlib.pyplot as plt"
      ],
      "execution_count": null,
      "outputs": []
    },
    {
      "cell_type": "code",
      "metadata": {
        "id": "IRjWGI6UU-9u"
      },
      "source": [
        "data = pd.read_csv('drive/MyDrive/new/T01_1009.csv')"
      ],
      "execution_count": null,
      "outputs": []
    },
    {
      "cell_type": "code",
      "metadata": {
        "colab": {
          "base_uri": "https://localhost:8080/",
          "height": 342
        },
        "id": "BAf9G7SCWCIP",
        "outputId": "26dd0307-5640-45b7-cadc-d48f46f81fb2"
      },
      "source": [
        "data.head()"
      ],
      "execution_count": null,
      "outputs": [
        {
          "output_type": "execute_result",
          "data": {
            "text/html": [
              "<div>\n",
              "<style scoped>\n",
              "    .dataframe tbody tr th:only-of-type {\n",
              "        vertical-align: middle;\n",
              "    }\n",
              "\n",
              "    .dataframe tbody tr th {\n",
              "        vertical-align: top;\n",
              "    }\n",
              "\n",
              "    .dataframe thead th {\n",
              "        text-align: right;\n",
              "    }\n",
              "</style>\n",
              "<table border=\"1\" class=\"dataframe\">\n",
              "  <thead>\n",
              "    <tr style=\"text-align: right;\">\n",
              "      <th></th>\n",
              "      <th>Turbine_ID</th>\n",
              "      <th>Timestamp</th>\n",
              "      <th>Gen_RPM_Max</th>\n",
              "      <th>Gen_RPM_Min</th>\n",
              "      <th>Gen_RPM_Avg</th>\n",
              "      <th>Gen_RPM_Std</th>\n",
              "      <th>Gen_Bear_Temp_Avg</th>\n",
              "      <th>Gen_Phase1_Temp_Avg</th>\n",
              "      <th>Gen_Phase2_Temp_Avg</th>\n",
              "      <th>Gen_Phase3_Temp_Avg</th>\n",
              "      <th>Hyd_Oil_Temp_Avg</th>\n",
              "      <th>Gear_Oil_Temp_Avg</th>\n",
              "      <th>Gear_Bear_Temp_Avg</th>\n",
              "      <th>Nac_Temp_Avg</th>\n",
              "      <th>Rtr_RPM_Max</th>\n",
              "      <th>Rtr_RPM_Min</th>\n",
              "      <th>Rtr_RPM_Avg</th>\n",
              "      <th>Amb_WindSpeed_Max</th>\n",
              "      <th>Amb_WindSpeed_Min</th>\n",
              "      <th>Amb_WindSpeed_Avg</th>\n",
              "      <th>Amb_WindSpeed_Std</th>\n",
              "      <th>Amb_WindDir_Relative_Avg</th>\n",
              "      <th>Amb_WindDir_Abs_Avg</th>\n",
              "      <th>Amb_Temp_Avg</th>\n",
              "      <th>Prod_LatestAvg_ActPwrGen0</th>\n",
              "      <th>Prod_LatestAvg_ActPwrGen1</th>\n",
              "      <th>Prod_LatestAvg_ActPwrGen2</th>\n",
              "      <th>Prod_LatestAvg_TotActPwr</th>\n",
              "      <th>Prod_LatestAvg_ReactPwrGen0</th>\n",
              "      <th>Prod_LatestAvg_ReactPwrGen1</th>\n",
              "      <th>Prod_LatestAvg_ReactPwrGen2</th>\n",
              "      <th>Prod_LatestAvg_TotReactPwr</th>\n",
              "      <th>HVTrafo_Phase1_Temp_Avg</th>\n",
              "      <th>HVTrafo_Phase2_Temp_Avg</th>\n",
              "      <th>HVTrafo_Phase3_Temp_Avg</th>\n",
              "      <th>Grd_InverterPhase1_Temp_Avg</th>\n",
              "      <th>Cont_Top_Temp_Avg</th>\n",
              "      <th>Cont_Hub_Temp_Avg</th>\n",
              "      <th>Cont_VCP_Temp_Avg</th>\n",
              "      <th>Gen_SlipRing_Temp_Avg</th>\n",
              "      <th>...</th>\n",
              "      <th>Blds_PitchAngle_Avg</th>\n",
              "      <th>Blds_PitchAngle_Std</th>\n",
              "      <th>Cont_VCP_ChokcoilTemp_Avg</th>\n",
              "      <th>Grd_RtrInvPhase1_Temp_Avg</th>\n",
              "      <th>Grd_RtrInvPhase2_Temp_Avg</th>\n",
              "      <th>Grd_RtrInvPhase3_Temp_Avg</th>\n",
              "      <th>Cont_VCP_WtrTemp_Avg</th>\n",
              "      <th>Grd_Prod_Pwr_Avg</th>\n",
              "      <th>Grd_Prod_CosPhi_Avg</th>\n",
              "      <th>Grd_Prod_Freq_Avg</th>\n",
              "      <th>Grd_Prod_VoltPhse1_Avg</th>\n",
              "      <th>Grd_Prod_VoltPhse2_Avg</th>\n",
              "      <th>Grd_Prod_VoltPhse3_Avg</th>\n",
              "      <th>Grd_Prod_CurPhse1_Avg</th>\n",
              "      <th>Grd_Prod_CurPhse2_Avg</th>\n",
              "      <th>Grd_Prod_CurPhse3_Avg</th>\n",
              "      <th>Grd_Prod_Pwr_Max</th>\n",
              "      <th>Grd_Prod_Pwr_Min</th>\n",
              "      <th>Grd_Busbar_Temp_Avg</th>\n",
              "      <th>Rtr_RPM_Std</th>\n",
              "      <th>Amb_WindSpeed_Est_Avg</th>\n",
              "      <th>Grd_Prod_Pwr_Std</th>\n",
              "      <th>Grd_Prod_ReactPwr_Avg</th>\n",
              "      <th>Grd_Prod_ReactPwr_Max</th>\n",
              "      <th>Grd_Prod_ReactPwr_Min</th>\n",
              "      <th>Grd_Prod_ReactPwr_Std</th>\n",
              "      <th>Grd_Prod_PsblePwr_Avg</th>\n",
              "      <th>Grd_Prod_PsblePwr_Max</th>\n",
              "      <th>Grd_Prod_PsblePwr_Min</th>\n",
              "      <th>Grd_Prod_PsblePwr_Std</th>\n",
              "      <th>Grd_Prod_PsbleInd_Avg</th>\n",
              "      <th>Grd_Prod_PsbleInd_Max</th>\n",
              "      <th>Grd_Prod_PsbleInd_Min</th>\n",
              "      <th>Grd_Prod_PsbleInd_Std</th>\n",
              "      <th>Grd_Prod_PsbleCap_Avg</th>\n",
              "      <th>Grd_Prod_PsbleCap_Max</th>\n",
              "      <th>Grd_Prod_PsbleCap_Min</th>\n",
              "      <th>Grd_Prod_PsbleCap_Std</th>\n",
              "      <th>Gen_Bear2_Temp_Avg</th>\n",
              "      <th>Nac_Direction_Avg</th>\n",
              "    </tr>\n",
              "  </thead>\n",
              "  <tbody>\n",
              "    <tr>\n",
              "      <th>0</th>\n",
              "      <td>T01</td>\n",
              "      <td>2016-01-01T00:00:00+00:00</td>\n",
              "      <td>1277.4</td>\n",
              "      <td>1226.1</td>\n",
              "      <td>1249.0</td>\n",
              "      <td>9.0</td>\n",
              "      <td>41</td>\n",
              "      <td>58</td>\n",
              "      <td>59</td>\n",
              "      <td>58</td>\n",
              "      <td>30</td>\n",
              "      <td>44</td>\n",
              "      <td>48</td>\n",
              "      <td>28</td>\n",
              "      <td>11.3</td>\n",
              "      <td>10.9</td>\n",
              "      <td>11.1</td>\n",
              "      <td>11.6</td>\n",
              "      <td>0.5</td>\n",
              "      <td>3.3</td>\n",
              "      <td>0.9</td>\n",
              "      <td>-12.4</td>\n",
              "      <td>206.1</td>\n",
              "      <td>18</td>\n",
              "      <td>-107</td>\n",
              "      <td>4420</td>\n",
              "      <td>0</td>\n",
              "      <td>4313</td>\n",
              "      <td>-99</td>\n",
              "      <td>-5636</td>\n",
              "      <td>0</td>\n",
              "      <td>-5735</td>\n",
              "      <td>68</td>\n",
              "      <td>76</td>\n",
              "      <td>65</td>\n",
              "      <td>39</td>\n",
              "      <td>39</td>\n",
              "      <td>28</td>\n",
              "      <td>43</td>\n",
              "      <td>25</td>\n",
              "      <td>...</td>\n",
              "      <td>0.6</td>\n",
              "      <td>0.9</td>\n",
              "      <td>91</td>\n",
              "      <td>39</td>\n",
              "      <td>39</td>\n",
              "      <td>38</td>\n",
              "      <td>39</td>\n",
              "      <td>26.2</td>\n",
              "      <td>0.7</td>\n",
              "      <td>50.0</td>\n",
              "      <td>401.6</td>\n",
              "      <td>399.9</td>\n",
              "      <td>399.2</td>\n",
              "      <td>46.5</td>\n",
              "      <td>61.1</td>\n",
              "      <td>45.5</td>\n",
              "      <td>118.4</td>\n",
              "      <td>-33.5</td>\n",
              "      <td>38</td>\n",
              "      <td>0.1</td>\n",
              "      <td>3.6</td>\n",
              "      <td>35.3</td>\n",
              "      <td>-34.9</td>\n",
              "      <td>13.2</td>\n",
              "      <td>-100.0</td>\n",
              "      <td>36.2</td>\n",
              "      <td>29.4</td>\n",
              "      <td>119.3</td>\n",
              "      <td>0.0</td>\n",
              "      <td>31.9</td>\n",
              "      <td>-144.4</td>\n",
              "      <td>0.0</td>\n",
              "      <td>-584.5</td>\n",
              "      <td>157.1</td>\n",
              "      <td>144.4</td>\n",
              "      <td>584.5</td>\n",
              "      <td>0.0</td>\n",
              "      <td>157.1</td>\n",
              "      <td>37</td>\n",
              "      <td>218.5</td>\n",
              "    </tr>\n",
              "    <tr>\n",
              "      <th>1</th>\n",
              "      <td>T01</td>\n",
              "      <td>2016-01-01T00:10:00+00:00</td>\n",
              "      <td>1268.3</td>\n",
              "      <td>93.3</td>\n",
              "      <td>999.7</td>\n",
              "      <td>435.9</td>\n",
              "      <td>41</td>\n",
              "      <td>58</td>\n",
              "      <td>59</td>\n",
              "      <td>59</td>\n",
              "      <td>30</td>\n",
              "      <td>44</td>\n",
              "      <td>48</td>\n",
              "      <td>28</td>\n",
              "      <td>11.2</td>\n",
              "      <td>0.0</td>\n",
              "      <td>8.8</td>\n",
              "      <td>12.5</td>\n",
              "      <td>0.4</td>\n",
              "      <td>3.2</td>\n",
              "      <td>0.9</td>\n",
              "      <td>-1.1</td>\n",
              "      <td>217.4</td>\n",
              "      <td>18</td>\n",
              "      <td>-753</td>\n",
              "      <td>2488</td>\n",
              "      <td>0</td>\n",
              "      <td>1735</td>\n",
              "      <td>-867</td>\n",
              "      <td>-3871</td>\n",
              "      <td>0</td>\n",
              "      <td>-4738</td>\n",
              "      <td>68</td>\n",
              "      <td>76</td>\n",
              "      <td>65</td>\n",
              "      <td>38</td>\n",
              "      <td>39</td>\n",
              "      <td>28</td>\n",
              "      <td>42</td>\n",
              "      <td>25</td>\n",
              "      <td>...</td>\n",
              "      <td>8.1</td>\n",
              "      <td>14.7</td>\n",
              "      <td>91</td>\n",
              "      <td>37</td>\n",
              "      <td>36</td>\n",
              "      <td>37</td>\n",
              "      <td>37</td>\n",
              "      <td>10.1</td>\n",
              "      <td>0.7</td>\n",
              "      <td>50.0</td>\n",
              "      <td>401.9</td>\n",
              "      <td>400.7</td>\n",
              "      <td>399.5</td>\n",
              "      <td>34.3</td>\n",
              "      <td>41.9</td>\n",
              "      <td>33.6</td>\n",
              "      <td>101.5</td>\n",
              "      <td>-38.2</td>\n",
              "      <td>38</td>\n",
              "      <td>4.0</td>\n",
              "      <td>3.3</td>\n",
              "      <td>30.2</td>\n",
              "      <td>-28.0</td>\n",
              "      <td>1.8</td>\n",
              "      <td>-100.1</td>\n",
              "      <td>34.6</td>\n",
              "      <td>21.7</td>\n",
              "      <td>102.3</td>\n",
              "      <td>0.0</td>\n",
              "      <td>24.7</td>\n",
              "      <td>-79.6</td>\n",
              "      <td>0.0</td>\n",
              "      <td>-501.0</td>\n",
              "      <td>123.7</td>\n",
              "      <td>79.6</td>\n",
              "      <td>501.0</td>\n",
              "      <td>0.0</td>\n",
              "      <td>123.7</td>\n",
              "      <td>37</td>\n",
              "      <td>218.5</td>\n",
              "    </tr>\n",
              "    <tr>\n",
              "      <th>2</th>\n",
              "      <td>T01</td>\n",
              "      <td>2016-01-01T00:20:00+00:00</td>\n",
              "      <td>1394.4</td>\n",
              "      <td>220.3</td>\n",
              "      <td>774.0</td>\n",
              "      <td>486.1</td>\n",
              "      <td>41</td>\n",
              "      <td>57</td>\n",
              "      <td>57</td>\n",
              "      <td>57</td>\n",
              "      <td>30</td>\n",
              "      <td>43</td>\n",
              "      <td>46</td>\n",
              "      <td>29</td>\n",
              "      <td>12.3</td>\n",
              "      <td>1.9</td>\n",
              "      <td>6.8</td>\n",
              "      <td>8.8</td>\n",
              "      <td>0.7</td>\n",
              "      <td>4.3</td>\n",
              "      <td>1.0</td>\n",
              "      <td>-5.8</td>\n",
              "      <td>207.4</td>\n",
              "      <td>18</td>\n",
              "      <td>-784</td>\n",
              "      <td>10488</td>\n",
              "      <td>0</td>\n",
              "      <td>9704</td>\n",
              "      <td>-410</td>\n",
              "      <td>-1865</td>\n",
              "      <td>0</td>\n",
              "      <td>-2275</td>\n",
              "      <td>68</td>\n",
              "      <td>76</td>\n",
              "      <td>65</td>\n",
              "      <td>39</td>\n",
              "      <td>39</td>\n",
              "      <td>28</td>\n",
              "      <td>42</td>\n",
              "      <td>25</td>\n",
              "      <td>...</td>\n",
              "      <td>10.4</td>\n",
              "      <td>12.4</td>\n",
              "      <td>87</td>\n",
              "      <td>38</td>\n",
              "      <td>37</td>\n",
              "      <td>37</td>\n",
              "      <td>38</td>\n",
              "      <td>59.0</td>\n",
              "      <td>0.7</td>\n",
              "      <td>50.0</td>\n",
              "      <td>401.4</td>\n",
              "      <td>400.5</td>\n",
              "      <td>398.8</td>\n",
              "      <td>78.6</td>\n",
              "      <td>92.7</td>\n",
              "      <td>86.1</td>\n",
              "      <td>219.4</td>\n",
              "      <td>-34.1</td>\n",
              "      <td>38</td>\n",
              "      <td>4.3</td>\n",
              "      <td>4.1</td>\n",
              "      <td>77.5</td>\n",
              "      <td>-13.9</td>\n",
              "      <td>999.9</td>\n",
              "      <td>-108.1</td>\n",
              "      <td>154.8</td>\n",
              "      <td>88.9</td>\n",
              "      <td>224.9</td>\n",
              "      <td>0.0</td>\n",
              "      <td>54.3</td>\n",
              "      <td>-314.0</td>\n",
              "      <td>0.0</td>\n",
              "      <td>-1000.0</td>\n",
              "      <td>357.4</td>\n",
              "      <td>314.0</td>\n",
              "      <td>1000.0</td>\n",
              "      <td>0.0</td>\n",
              "      <td>357.4</td>\n",
              "      <td>37</td>\n",
              "      <td>213.3</td>\n",
              "    </tr>\n",
              "    <tr>\n",
              "      <th>3</th>\n",
              "      <td>T01</td>\n",
              "      <td>2016-01-01T00:30:00+00:00</td>\n",
              "      <td>1306.6</td>\n",
              "      <td>1212.4</td>\n",
              "      <td>1257.1</td>\n",
              "      <td>17.0</td>\n",
              "      <td>40</td>\n",
              "      <td>56</td>\n",
              "      <td>57</td>\n",
              "      <td>57</td>\n",
              "      <td>30</td>\n",
              "      <td>44</td>\n",
              "      <td>48</td>\n",
              "      <td>28</td>\n",
              "      <td>11.5</td>\n",
              "      <td>10.7</td>\n",
              "      <td>11.1</td>\n",
              "      <td>9.9</td>\n",
              "      <td>0.7</td>\n",
              "      <td>4.4</td>\n",
              "      <td>1.1</td>\n",
              "      <td>9.6</td>\n",
              "      <td>232.0</td>\n",
              "      <td>18</td>\n",
              "      <td>0</td>\n",
              "      <td>22673</td>\n",
              "      <td>0</td>\n",
              "      <td>22673</td>\n",
              "      <td>0</td>\n",
              "      <td>-15822</td>\n",
              "      <td>0</td>\n",
              "      <td>-15822</td>\n",
              "      <td>68</td>\n",
              "      <td>76</td>\n",
              "      <td>65</td>\n",
              "      <td>39</td>\n",
              "      <td>39</td>\n",
              "      <td>28</td>\n",
              "      <td>42</td>\n",
              "      <td>25</td>\n",
              "      <td>...</td>\n",
              "      <td>-0.5</td>\n",
              "      <td>0.8</td>\n",
              "      <td>87</td>\n",
              "      <td>38</td>\n",
              "      <td>38</td>\n",
              "      <td>38</td>\n",
              "      <td>38</td>\n",
              "      <td>135.7</td>\n",
              "      <td>0.8</td>\n",
              "      <td>50.0</td>\n",
              "      <td>399.7</td>\n",
              "      <td>398.1</td>\n",
              "      <td>396.9</td>\n",
              "      <td>128.1</td>\n",
              "      <td>160.8</td>\n",
              "      <td>136.8</td>\n",
              "      <td>250.3</td>\n",
              "      <td>-27.7</td>\n",
              "      <td>38</td>\n",
              "      <td>0.1</td>\n",
              "      <td>4.6</td>\n",
              "      <td>53.9</td>\n",
              "      <td>-94.9</td>\n",
              "      <td>0.0</td>\n",
              "      <td>-105.1</td>\n",
              "      <td>18.4</td>\n",
              "      <td>135.3</td>\n",
              "      <td>261.4</td>\n",
              "      <td>0.0</td>\n",
              "      <td>53.1</td>\n",
              "      <td>-654.0</td>\n",
              "      <td>0.0</td>\n",
              "      <td>-1000.0</td>\n",
              "      <td>245.8</td>\n",
              "      <td>654.0</td>\n",
              "      <td>1000.0</td>\n",
              "      <td>0.0</td>\n",
              "      <td>245.8</td>\n",
              "      <td>36</td>\n",
              "      <td>222.4</td>\n",
              "    </tr>\n",
              "    <tr>\n",
              "      <th>4</th>\n",
              "      <td>T01</td>\n",
              "      <td>2016-01-01T00:40:00+00:00</td>\n",
              "      <td>1320.9</td>\n",
              "      <td>1224.1</td>\n",
              "      <td>1257.7</td>\n",
              "      <td>18.0</td>\n",
              "      <td>40</td>\n",
              "      <td>57</td>\n",
              "      <td>58</td>\n",
              "      <td>57</td>\n",
              "      <td>30</td>\n",
              "      <td>44</td>\n",
              "      <td>48</td>\n",
              "      <td>28</td>\n",
              "      <td>11.7</td>\n",
              "      <td>10.8</td>\n",
              "      <td>11.1</td>\n",
              "      <td>9.9</td>\n",
              "      <td>0.8</td>\n",
              "      <td>4.1</td>\n",
              "      <td>1.2</td>\n",
              "      <td>23.3</td>\n",
              "      <td>245.6</td>\n",
              "      <td>18</td>\n",
              "      <td>-75</td>\n",
              "      <td>16581</td>\n",
              "      <td>0</td>\n",
              "      <td>16506</td>\n",
              "      <td>-79</td>\n",
              "      <td>-13314</td>\n",
              "      <td>0</td>\n",
              "      <td>-13394</td>\n",
              "      <td>68</td>\n",
              "      <td>76</td>\n",
              "      <td>65</td>\n",
              "      <td>39</td>\n",
              "      <td>39</td>\n",
              "      <td>28</td>\n",
              "      <td>42</td>\n",
              "      <td>25</td>\n",
              "      <td>...</td>\n",
              "      <td>-0.1</td>\n",
              "      <td>1.2</td>\n",
              "      <td>88</td>\n",
              "      <td>39</td>\n",
              "      <td>38</td>\n",
              "      <td>38</td>\n",
              "      <td>39</td>\n",
              "      <td>98.9</td>\n",
              "      <td>0.7</td>\n",
              "      <td>50.0</td>\n",
              "      <td>399.5</td>\n",
              "      <td>397.9</td>\n",
              "      <td>396.8</td>\n",
              "      <td>104.7</td>\n",
              "      <td>130.3</td>\n",
              "      <td>108.3</td>\n",
              "      <td>212.5</td>\n",
              "      <td>-50.2</td>\n",
              "      <td>38</td>\n",
              "      <td>0.2</td>\n",
              "      <td>4.3</td>\n",
              "      <td>65.9</td>\n",
              "      <td>-80.3</td>\n",
              "      <td>17.8</td>\n",
              "      <td>-107.1</td>\n",
              "      <td>35.8</td>\n",
              "      <td>102.7</td>\n",
              "      <td>221.8</td>\n",
              "      <td>0.0</td>\n",
              "      <td>60.2</td>\n",
              "      <td>-496.1</td>\n",
              "      <td>0.0</td>\n",
              "      <td>-1000.0</td>\n",
              "      <td>302.7</td>\n",
              "      <td>496.1</td>\n",
              "      <td>1000.0</td>\n",
              "      <td>0.0</td>\n",
              "      <td>302.7</td>\n",
              "      <td>36</td>\n",
              "      <td>222.4</td>\n",
              "    </tr>\n",
              "  </tbody>\n",
              "</table>\n",
              "<p>5 rows × 83 columns</p>\n",
              "</div>"
            ],
            "text/plain": [
              "  Turbine_ID                  Timestamp  ...  Gen_Bear2_Temp_Avg  Nac_Direction_Avg\n",
              "0        T01  2016-01-01T00:00:00+00:00  ...                  37              218.5\n",
              "1        T01  2016-01-01T00:10:00+00:00  ...                  37              218.5\n",
              "2        T01  2016-01-01T00:20:00+00:00  ...                  37              213.3\n",
              "3        T01  2016-01-01T00:30:00+00:00  ...                  36              222.4\n",
              "4        T01  2016-01-01T00:40:00+00:00  ...                  36              222.4\n",
              "\n",
              "[5 rows x 83 columns]"
            ]
          },
          "metadata": {},
          "execution_count": 4
        }
      ]
    },
    {
      "cell_type": "markdown",
      "metadata": {
        "id": "hQG4fQ-GWZv3"
      },
      "source": [
        "#Feature Reduction"
      ]
    },
    {
      "cell_type": "code",
      "metadata": {
        "id": "bd3th5liWWVt"
      },
      "source": [
        "from sklearn.decomposition import PCA\n"
      ],
      "execution_count": null,
      "outputs": []
    },
    {
      "cell_type": "code",
      "metadata": {
        "id": "F88qEZCfWsit"
      },
      "source": [
        "timestamp = data['Timestamp']\n",
        "turbine_id = data['Turbine_ID']\n",
        "Y = data['Gear_Oil_Temp_Avg']\n",
        "data = data.drop(['Timestamp','Turbine_ID','Gear_Oil_Temp_Avg'], axis = 1)"
      ],
      "execution_count": null,
      "outputs": []
    },
    {
      "cell_type": "markdown",
      "metadata": {
        "id": "MQ3uoISfX0k6"
      },
      "source": [
        "data.shape"
      ]
    },
    {
      "cell_type": "markdown",
      "metadata": {
        "id": "xJOEKCzwYKLC"
      },
      "source": [
        "**NCA(Neighbourhood Component Analysis**"
      ]
    },
    {
      "cell_type": "code",
      "metadata": {
        "colab": {
          "base_uri": "https://localhost:8080/"
        },
        "id": "Wnrqrt_QYCPC",
        "outputId": "f8f2b117-185d-4391-9815-b78636ff9bfc"
      },
      "source": [
        "from sklearn.neighbors import NeighborhoodComponentsAnalysis\n",
        "nca = NeighborhoodComponentsAnalysis(random_state=42, n_components=54) \n",
        "nca.fit(data, Y)"
      ],
      "execution_count": null,
      "outputs": [
        {
          "output_type": "execute_result",
          "data": {
            "text/plain": [
              "NeighborhoodComponentsAnalysis(n_components=54, random_state=42)"
            ]
          },
          "metadata": {},
          "execution_count": 7
        }
      ]
    },
    {
      "cell_type": "code",
      "metadata": {
        "id": "Q104WuDdY-wV"
      },
      "source": [
        "transform_data = nca.transform(data)"
      ],
      "execution_count": null,
      "outputs": []
    },
    {
      "cell_type": "code",
      "metadata": {
        "colab": {
          "base_uri": "https://localhost:8080/"
        },
        "id": "oopwILw1ZEDF",
        "outputId": "3a14de19-d112-4066-f922-b927a2935b8b"
      },
      "source": [
        "transform_data.shape"
      ],
      "execution_count": null,
      "outputs": [
        {
          "output_type": "execute_result",
          "data": {
            "text/plain": [
              "(1008, 54)"
            ]
          },
          "metadata": {},
          "execution_count": 9
        }
      ]
    },
    {
      "cell_type": "code",
      "metadata": {
        "id": "3PF74ujnYnc0"
      },
      "source": [
        "from sklearn.model_selection import train_test_split\n",
        "#from sklearn.discriminant_analysis import LinearDiscriminantAnalysis\n",
        "from sklearn.neighbors import (KNeighborsClassifier, NeighborhoodComponentsAnalysis)\n",
        "from sklearn.pipeline import make_pipeline\n",
        "from sklearn.preprocessing import StandardScaler"
      ],
      "execution_count": null,
      "outputs": []
    },
    {
      "cell_type": "code",
      "metadata": {
        "id": "WA8LAPI0YqE1"
      },
      "source": [
        "X_train, X_test, y_train, y_test = train_test_split(transform_data, Y, test_size=0.3)"
      ],
      "execution_count": null,
      "outputs": []
    },
    {
      "cell_type": "markdown",
      "metadata": {
        "id": "tWmrRB5Nak6Q"
      },
      "source": [
        "#Linear Regression"
      ]
    },
    {
      "cell_type": "markdown",
      "metadata": {
        "id": "LZVfO6lDcDCe"
      },
      "source": [
        "**Training the linear regression model on training set**\n"
      ]
    },
    {
      "cell_type": "code",
      "metadata": {
        "id": "EniAK0FEaic_"
      },
      "source": [
        "from sklearn import linear_model\n",
        "from sklearn.linear_model import LinearRegression\n",
        "regressor = LinearRegression()\n",
        "\n",
        "lin = regressor.fit(X_train, y_train)"
      ],
      "execution_count": null,
      "outputs": []
    },
    {
      "cell_type": "markdown",
      "metadata": {
        "id": "MhqC1NfNdClJ"
      },
      "source": [
        "**Predicting the test set results**"
      ]
    },
    {
      "cell_type": "code",
      "metadata": {
        "id": "U4himumJbAPL"
      },
      "source": [
        "y_pred = regressor.predict(X_test)"
      ],
      "execution_count": null,
      "outputs": []
    },
    {
      "cell_type": "code",
      "metadata": {
        "id": "ZywJ5oX3eiMd"
      },
      "source": [
        "# plt.scatter(X_train, y_train, color = 'red')\n",
        "# plt.plot(X_train, regressor.predict(X_train), color = 'blue')"
      ],
      "execution_count": null,
      "outputs": []
    },
    {
      "cell_type": "code",
      "metadata": {
        "colab": {
          "base_uri": "https://localhost:8080/"
        },
        "id": "DvsOwBvre57r",
        "outputId": "de7dcefc-33c0-4631-ddbf-9e0016c3e6da"
      },
      "source": [
        "print(X_train.size)\n",
        "print(y_train.size)\n",
        "print(X_train.shape)\n",
        "print(y_train.shape)"
      ],
      "execution_count": null,
      "outputs": [
        {
          "output_type": "stream",
          "name": "stdout",
          "text": [
            "38070\n",
            "705\n",
            "(705, 54)\n",
            "(705,)\n"
          ]
        }
      ]
    },
    {
      "cell_type": "code",
      "metadata": {
        "id": "aGhZlMczf4Np",
        "colab": {
          "base_uri": "https://localhost:8080/"
        },
        "outputId": "fec0f401-91be-428f-8773-8722ec0e6746"
      },
      "source": [
        "# y' = m.x' + c\n",
        "print(regressor.coef_)\n",
        "print(regressor.intercept_)"
      ],
      "execution_count": null,
      "outputs": [
        {
          "output_type": "stream",
          "name": "stdout",
          "text": [
            "[ 3.92166109e-05  3.84258397e-04  2.89496806e-03  2.14157890e-03\n",
            " -3.05853265e-03 -1.17854253e-03 -9.91420075e-04 -1.36907039e-03\n",
            " -6.20704513e-04 -3.09384836e-04  5.59428075e-03  2.60928300e-03\n",
            " -3.00150485e-04  1.78086243e-03 -1.38465584e-02  9.08593720e-04\n",
            " -5.39111583e-03 -7.91519032e-03  2.32660575e-03  1.61248596e-02\n",
            " -9.76842818e-03 -3.09733336e-03 -6.68538603e-02 -1.81417639e-02\n",
            " -8.13786562e-03 -1.13716725e-02 -3.14406202e-02  2.09960204e-02\n",
            "  1.08215842e-01 -5.10131018e-02 -1.70347232e-01 -1.36760267e-01\n",
            " -2.61542993e-02  1.72809328e-02  4.91687213e-02 -4.07778105e-02\n",
            "  2.80540402e-01  1.53896669e-02 -2.02843297e-01  8.72887050e-02\n",
            "  1.46112950e-02 -1.12565320e-02  9.54275923e-01 -2.94445513e-01\n",
            " -1.59649473e-01 -6.47588975e-02  3.39915805e-02  2.67705340e-02\n",
            " -4.14668865e-02  6.20148155e-02  3.50987485e-01 -1.73388790e-02\n",
            " -1.58523732e-01 -2.84818359e-01]\n",
            "0.9806212757144408\n"
          ]
        }
      ]
    },
    {
      "cell_type": "code",
      "metadata": {
        "id": "b1jrRps-bnL3",
        "colab": {
          "base_uri": "https://localhost:8080/"
        },
        "outputId": "a6e365a1-c3ca-48fe-d794-640ee3d14569"
      },
      "source": [
        "# X_train_norm = (X_train - X_train.mean())/X_train.std()\n",
        "# y_train_norm = (y_train - y_train.mean())/y_train.std()\n",
        "# plt.scatter(X_train_norm, y_train_norm, color = 'red')\n",
        "# plt.plot(X_train_norm, regressor.predict(X_train_norm), color = 'blue')\n",
        "regressor.score(X_test,y_test)"
      ],
      "execution_count": null,
      "outputs": [
        {
          "output_type": "execute_result",
          "data": {
            "text/plain": [
              "0.976601676036673"
            ]
          },
          "metadata": {},
          "execution_count": 17
        }
      ]
    },
    {
      "cell_type": "markdown",
      "metadata": {
        "id": "Bs55YGVeiFRQ"
      },
      "source": [
        "# Decision Tree Model"
      ]
    },
    {
      "cell_type": "code",
      "metadata": {
        "id": "txDYfPEiiTeG"
      },
      "source": [
        "from sklearn.tree import DecisionTreeRegressor\n",
        "from sklearn.metrics import mean_squared_error, mean_absolute_error, mean_absolute_percentage_error"
      ],
      "execution_count": null,
      "outputs": []
    },
    {
      "cell_type": "code",
      "metadata": {
        "colab": {
          "base_uri": "https://localhost:8080/"
        },
        "id": "QJIcDWNoiV9k",
        "outputId": "d016b25c-3176-47ca-9fe0-d3b94ea0c697"
      },
      "source": [
        "reg = DecisionTreeRegressor()\n",
        "reg.fit(X_train, y_train)\n",
        "pred_train = reg.predict(X_train)\n",
        "pred_test = reg.predict(X_test)\n",
        "print(\"Train Score : - \", mean_squared_error(y_train, pred_train))\n",
        "print(\"Test Score : - \", mean_squared_error(y_test, pred_test))"
      ],
      "execution_count": null,
      "outputs": [
        {
          "output_type": "stream",
          "name": "stdout",
          "text": [
            "Train Score : -  0.0\n",
            "Test Score : -  6.887788778877888\n"
          ]
        }
      ]
    },
    {
      "cell_type": "code",
      "source": [
        "print(\"MSE\", mean_squared_error(y_test, pred_test))\n",
        "print(\"MAE\", mean_absolute_error(y_test,pred_test))\n",
        "print(\"MAPE\", mean_absolute_percentage_error(y_test, pred_test))\n"
      ],
      "metadata": {
        "colab": {
          "base_uri": "https://localhost:8080/"
        },
        "id": "X_vywu7nnJIo",
        "outputId": "aa2f7ee1-e866-4f53-8e21-d46c25012e1c"
      },
      "execution_count": null,
      "outputs": [
        {
          "output_type": "stream",
          "name": "stdout",
          "text": [
            "MSE 6.887788778877888\n",
            "MAE 1.5874587458745875\n",
            "MAPE 0.036619329934931874\n"
          ]
        }
      ]
    },
    {
      "cell_type": "markdown",
      "source": [
        "#ANN"
      ],
      "metadata": {
        "id": "nr6WSZ_mSrvi"
      }
    },
    {
      "cell_type": "code",
      "source": [
        "X_train.shape, y_test.shape"
      ],
      "metadata": {
        "colab": {
          "base_uri": "https://localhost:8080/"
        },
        "id": "jvvVwASpSvaM",
        "outputId": "3064c436-b366-40b6-a52d-eb77523c36aa"
      },
      "execution_count": null,
      "outputs": [
        {
          "output_type": "execute_result",
          "data": {
            "text/plain": [
              "((705, 54), (303,))"
            ]
          },
          "metadata": {},
          "execution_count": 19
        }
      ]
    },
    {
      "cell_type": "code",
      "source": [
        "from keras.models import Sequential\n",
        "from keras.layers import Dense"
      ],
      "metadata": {
        "id": "qRO6lGaCTOg5"
      },
      "execution_count": null,
      "outputs": []
    },
    {
      "cell_type": "code",
      "source": [
        "model=Sequential()\n",
        "model.add(Dense(units=64, activation='relu', input_shape=(54,)))\n",
        "model.add(Dense(5))\n",
        "\n",
        "model.compile(optimizer='adam', loss='mse')"
      ],
      "metadata": {
        "id": "NaSEXIQxTnYh"
      },
      "execution_count": null,
      "outputs": []
    },
    {
      "cell_type": "code",
      "source": [
        "model.fit(X_train, y_train, epochs=20, verbose=1, validation_split=0.3)"
      ],
      "metadata": {
        "colab": {
          "base_uri": "https://localhost:8080/"
        },
        "id": "E3bs8Y6qTtfH",
        "outputId": "c504f7a9-b1de-4f30-dfde-8aaadba74869"
      },
      "execution_count": null,
      "outputs": [
        {
          "output_type": "stream",
          "name": "stdout",
          "text": [
            "Epoch 1/20\n",
            "16/16 [==============================] - 1s 13ms/step - loss: 837244544.0000 - val_loss: 374532352.0000\n",
            "Epoch 2/20\n",
            "16/16 [==============================] - 0s 4ms/step - loss: 268264464.0000 - val_loss: 95778488.0000\n",
            "Epoch 3/20\n",
            "16/16 [==============================] - 0s 4ms/step - loss: 52191780.0000 - val_loss: 9970946.0000\n",
            "Epoch 4/20\n",
            "16/16 [==============================] - 0s 3ms/step - loss: 4893603.0000 - val_loss: 2322831.0000\n",
            "Epoch 5/20\n",
            "16/16 [==============================] - 0s 4ms/step - loss: 2566403.5000 - val_loss: 1977346.8750\n",
            "Epoch 6/20\n",
            "16/16 [==============================] - 0s 3ms/step - loss: 1590164.3750 - val_loss: 1053113.5000\n",
            "Epoch 7/20\n",
            "16/16 [==============================] - 0s 3ms/step - loss: 1019603.0000 - val_loss: 796406.5000\n",
            "Epoch 8/20\n",
            "16/16 [==============================] - 0s 4ms/step - loss: 752610.3750 - val_loss: 547364.6250\n",
            "Epoch 9/20\n",
            "16/16 [==============================] - 0s 3ms/step - loss: 488261.6250 - val_loss: 322384.4062\n",
            "Epoch 10/20\n",
            "16/16 [==============================] - 0s 4ms/step - loss: 271397.1562 - val_loss: 164562.9375\n",
            "Epoch 11/20\n",
            "16/16 [==============================] - 0s 4ms/step - loss: 99381.7031 - val_loss: 47362.9180\n",
            "Epoch 12/20\n",
            "16/16 [==============================] - 0s 5ms/step - loss: 35599.0508 - val_loss: 22733.3906\n",
            "Epoch 13/20\n",
            "16/16 [==============================] - 0s 4ms/step - loss: 19752.5020 - val_loss: 15007.5186\n",
            "Epoch 14/20\n",
            "16/16 [==============================] - 0s 4ms/step - loss: 14177.9932 - val_loss: 12951.7100\n",
            "Epoch 15/20\n",
            "16/16 [==============================] - 0s 3ms/step - loss: 12764.8828 - val_loss: 12103.8252\n",
            "Epoch 16/20\n",
            "16/16 [==============================] - 0s 5ms/step - loss: 11797.9922 - val_loss: 11599.7510\n",
            "Epoch 17/20\n",
            "16/16 [==============================] - 0s 3ms/step - loss: 11356.6455 - val_loss: 11011.4414\n",
            "Epoch 18/20\n",
            "16/16 [==============================] - 0s 4ms/step - loss: 10807.8877 - val_loss: 10535.8359\n",
            "Epoch 19/20\n",
            "16/16 [==============================] - 0s 4ms/step - loss: 10229.4492 - val_loss: 9907.7793\n",
            "Epoch 20/20\n",
            "16/16 [==============================] - 0s 3ms/step - loss: 9623.9912 - val_loss: 9477.0264\n"
          ]
        },
        {
          "output_type": "execute_result",
          "data": {
            "text/plain": [
              "<keras.callbacks.History at 0x7f2cac8208d0>"
            ]
          },
          "metadata": {},
          "execution_count": 22
        }
      ]
    },
    {
      "cell_type": "code",
      "source": [
        "model.evaluate(X_test, y_test)"
      ],
      "metadata": {
        "colab": {
          "base_uri": "https://localhost:8080/"
        },
        "id": "JLwpYjoYUTFE",
        "outputId": "bf343830-bdf1-4ac1-e03e-bb0e7ca26e3c"
      },
      "execution_count": null,
      "outputs": [
        {
          "output_type": "stream",
          "name": "stdout",
          "text": [
            "10/10 [==============================] - 0s 2ms/step - loss: 750.5894\n"
          ]
        },
        {
          "output_type": "execute_result",
          "data": {
            "text/plain": [
              "750.58935546875"
            ]
          },
          "metadata": {},
          "execution_count": 25
        }
      ]
    },
    {
      "cell_type": "code",
      "source": [
        "y_pred=model.predict(Y)\n",
        "plt.figure(figsize=(20, 10))\n",
        "plt.plot(Y[:500], label='Y_true')\n",
        "plt.plot(y_pred[:500], label='Y_pred')\n",
        "plt.legend()"
      ],
      "metadata": {
        "id": "A0WbWngpUXkL"
      },
      "execution_count": null,
      "outputs": []
    },
    {
      "cell_type": "markdown",
      "metadata": {
        "id": "vkHjtrN-uva5"
      },
      "source": [
        "# LSSVR - Least Squared Support Vector Regression"
      ]
    },
    {
      "cell_type": "code",
      "metadata": {
        "id": "CO-YLkERngAr"
      },
      "source": [
        "#!pip install  \n",
        "#from lssvr import LSSVR\n"
      ],
      "execution_count": null,
      "outputs": []
    },
    {
      "cell_type": "code",
      "metadata": {
        "id": "jLni4N8spZzC",
        "cellView": "code"
      },
      "source": [
        "from sklearn.base import BaseEstimator, RegressorMixin\n",
        "from sklearn.metrics.pairwise import rbf_kernel\n",
        "from sklearn.utils import check_X_y, check_array\n",
        "from sklearn.exceptions import NotFittedError\n",
        "from scipy.sparse.linalg import lsmr\n",
        "\n",
        "\n",
        "class LSSVR(BaseEstimator, RegressorMixin):\n",
        "    \"\"\"Least Squares Support Vector Regression.\n",
        "    Parameters\n",
        "    ----------\n",
        "    C : float, default=2.0\n",
        "        Regularization parameter. The strength of the regularization is\n",
        "        inversely proportional to C. Must be strictly positive.\n",
        "    kernel : {'linear', 'rbf'}, default='linear'\n",
        "        Specifies the kernel type to be used in the algorithm.\n",
        "        It must be 'linear', 'rbf' or a callable.\n",
        "    gamma : float, default = None\n",
        "        Kernel coefficient for 'rbf'\n",
        "    Attributes\n",
        "    ----------\n",
        "    support_: boolean np.array of shape (n_samples,), default = None\n",
        "        Array for support vector selection.\n",
        "    alpha_ : array-like\n",
        "        Weight matrix\n",
        "    bias_ : array-like\n",
        "        Bias vector\n",
        "    \"\"\"\n",
        "\n",
        "    def __init__(self, C=2.0, kernel='linear', gamma=None):\n",
        "        self.C = C\n",
        "        self.kernel = kernel\n",
        "        self.gamma = gamma\n",
        "\n",
        "    def fit(self, X, y, support=None):\n",
        "        \"\"\"Fit the model according to the given training data.\n",
        "        Parameters\n",
        "        ----------\n",
        "        X : {array-like, sparse matrix} of shape (n_samples, n_features)\n",
        "            Training data\n",
        "        y : array-like of shape (n_samples,) or (n_samples, n_targets)\n",
        "            Target values.\n",
        "        support : boolean np.array of shape (n_samples,), default = None\n",
        "            Array for support vector selection.\n",
        "        Returns\n",
        "        -------\n",
        "        self : object\n",
        "            An instance of the estimator.\n",
        "        \"\"\"\n",
        "\n",
        "        X, y = check_X_y(X, y, multi_output=True, dtype='float')\n",
        "\n",
        "        if not support:\n",
        "            self.support_ = np.ones(X.shape[0], dtype=bool)\n",
        "        else:\n",
        "            self.support_ = check_array(support, ensure_2d=False, dtype='bool')\n",
        "\n",
        "        self.support_vectors_ = X[self.support_, :]\n",
        "        support_labels = y[self.support_]\n",
        "\n",
        "        self.K_ = self.kernel_func(X, self.support_vectors_)\n",
        "        omega = self.K_.copy()\n",
        "        np.fill_diagonal(omega, omega.diagonal()+self.support_/self.C)\n",
        "\n",
        "        D = np.empty(np.array(omega.shape) + 1)\n",
        "\n",
        "        D[1:, 1:] = omega\n",
        "        D[0, 0] = 0\n",
        "        D[0, 1:] = 1\n",
        "        D[1:, 0] = 1\n",
        "\n",
        "        shape = np.array(support_labels.shape)\n",
        "        shape[0] += 1\n",
        "        t = np.empty(shape)\n",
        "\n",
        "        t[0] = 0\n",
        "        t[1:] = support_labels\n",
        "\n",
        "        # TODO: maybe give access to  lsmr atol and btol ?\n",
        "        try:\n",
        "            z = lsmr(D.T, t)[0]\n",
        "        except:\n",
        "            z = np.linalg.pinv(D).T @ t\n",
        "\n",
        "        self.bias_ = z[0]\n",
        "        self.alpha_ = z[1:]\n",
        "        self.alpha_ = self.alpha_[self.support_]\n",
        "\n",
        "        return self\n",
        "\n",
        "    def predict(self, X):\n",
        "        \"\"\"\n",
        "        Predict using the estimator.\n",
        "        Parameters\n",
        "        ----------\n",
        "        X : array-like or sparse matrix, shape (n_samples, n_features)\n",
        "            Samples.\n",
        "        Returns\n",
        "        -------\n",
        "        y : array-like of shape (n_samples,) or (n_samples, n_targets)\n",
        "            Returns predicted values.\n",
        "        \"\"\"\n",
        "\n",
        "        if not hasattr(self, 'support_vectors_'):\n",
        "            raise NotFittedError\n",
        "\n",
        "        X = check_array(X, ensure_2d=False)\n",
        "        K = self.kernel_func(X, self.support_vectors_)\n",
        "        return (K @ self.alpha_) + self.bias_\n",
        "\n",
        "    def kernel_func(self, u, v):\n",
        "        if self.kernel == 'linear':\n",
        "            return np.dot(u, v.T)\n",
        "\n",
        "        elif self.kernel == 'rbf':\n",
        "            return rbf_kernel(u, v, gamma=self.gamma)\n",
        "\n",
        "        elif callable(self.kernel):\n",
        "            if hasattr(self.kernel, 'gamma'):\n",
        "                return self.kernel(u, v, gamma=self.gamma)\n",
        "            else:\n",
        "                return self.kernel(u, v)\n",
        "        else:\n",
        "            # default to linear\n",
        "            return np.dot(u, v.T)\n",
        "\n",
        "    def score(self, X, y):\n",
        "        from scipy.stats import pearsonr\n",
        "        p, _ = pearsonr(y, self.predict(X))\n",
        "        return p ** 2\n",
        "\n",
        "    def norm_weights(self):\n",
        "        A = self.alpha_.reshape(-1, 1) @ self.alpha_.reshape(-1, 1).T\n",
        "\n",
        "        W = A @ self.K_[self.support_, :]\n",
        "        return np.sqrt(np.sum(np.diag(W)))"
      ],
      "execution_count": null,
      "outputs": []
    },
    {
      "cell_type": "code",
      "metadata": {
        "id": "HHt1FQIUqArt",
        "colab": {
          "base_uri": "https://localhost:8080/"
        },
        "outputId": "efcf7c2f-26f0-4ab2-b2a2-d96053b4056d"
      },
      "source": [
        "model = LSSVR(kernel='linear')\n",
        "model.fit(X_train, y_train)\n",
        "y_hat = model.predict(X_test)\n",
        "print('LSSVR Linear\\nMSE', mean_squared_error(y_test, y_hat))\n",
        "print('R2 ',model.score(X_test, y_test))\n",
        "\n",
        "#for Radial basis kernel\n",
        "model = LSSVR(kernel='rbf', gamma=0.01)\n",
        "model.fit(X_train, y_train)\n",
        "y_hat = model.predict(X_test)\n",
        "print('LSSVR RBF\\nMSE', mean_squared_error(y_test, y_hat))\n",
        "print('R2 ',model.score(X_test, y_test))\n",
        "print(\"MAE(train) : - \", mean_absolute_error(y_train, pred_train))\n",
        "print(\"MAE(test) : - \", mean_absolute_error(y_test, pred_test))"
      ],
      "execution_count": null,
      "outputs": [
        {
          "output_type": "stream",
          "name": "stdout",
          "text": [
            "LSSVR Linear\n",
            "MSE 15.60076814137458\n",
            "R2  0.7922391115617073\n",
            "LSSVR RBF\n",
            "MSE 63.16235677067237\n",
            "R2  0.008440906001384706\n",
            "MAE(train) : -  0.0\n",
            "MAE(test) : -  1.5874587458745875\n"
          ]
        }
      ]
    }
  ]
}