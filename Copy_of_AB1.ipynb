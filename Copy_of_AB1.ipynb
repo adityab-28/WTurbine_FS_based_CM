{
  "nbformat": 4,
  "nbformat_minor": 0,
  "metadata": {
    "colab": {
      "name": "Copy of AB1.ipynb",
      "provenance": [],
      "include_colab_link": true
    },
    "kernelspec": {
      "name": "python3",
      "display_name": "Python 3"
    },
    "language_info": {
      "name": "python"
    }
  },
  "cells": [
    {
      "cell_type": "markdown",
      "metadata": {
        "id": "view-in-github",
        "colab_type": "text"
      },
      "source": [
        "<a href=\"https://colab.research.google.com/github/adityab-28/WTurbine_FS_based_CM/blob/main/Copy_of_AB1.ipynb\" target=\"_parent\"><img src=\"https://colab.research.google.com/assets/colab-badge.svg\" alt=\"Open In Colab\"/></a>"
      ]
    },
    {
      "cell_type": "code",
      "metadata": {
        "colab": {
          "base_uri": "https://localhost:8080/"
        },
        "id": "B2VleuoDY9EI",
        "outputId": "71d3198e-5d1e-4d18-8f13-62eee1e33a15"
      },
      "source": [
        "!ls drive/MyDrive/T01(1).csv"
      ],
      "execution_count": null,
      "outputs": [
        {
          "output_type": "stream",
          "name": "stdout",
          "text": [
            "/bin/bash: -c: line 0: syntax error near unexpected token `('\n",
            "/bin/bash: -c: line 0: `ls drive/MyDrive/T01(1).csv'\n"
          ]
        }
      ]
    },
    {
      "cell_type": "code",
      "metadata": {
        "id": "4-bBKx5mZaVg"
      },
      "source": [
        "import pandas as pd\n",
        "from sklearn.neighbors import NeighborhoodComponentsAnalysis as nca"
      ],
      "execution_count": null,
      "outputs": []
    },
    {
      "cell_type": "code",
      "metadata": {
        "id": "hiLKHOlSZcsE"
      },
      "source": [
        "df=pd.read_csv('drive/MyDrive/T01(1).csv')"
      ],
      "execution_count": null,
      "outputs": []
    },
    {
      "cell_type": "code",
      "metadata": {
        "colab": {
          "base_uri": "https://localhost:8080/"
        },
        "id": "-CJ3bDQpagkC",
        "outputId": "8db9d921-a0ec-42f1-bac1-69eba6af9b22"
      },
      "source": [
        "df.columns"
      ],
      "execution_count": null,
      "outputs": [
        {
          "output_type": "execute_result",
          "data": {
            "text/plain": [
              "Index(['Turbine_ID', 'Timestamp', 'Gen_RPM_Max', 'Gen_RPM_Min', 'Gen_RPM_Avg',\n",
              "       'Gen_RPM_Std', 'Gen_Bear_Temp_Avg', 'Gen_Phase1_Temp_Avg',\n",
              "       'Gen_Phase2_Temp_Avg', 'Gen_Phase3_Temp_Avg', 'Hyd_Oil_Temp_Avg',\n",
              "       'Gear_Oil_Temp_Avg', 'Gear_Bear_Temp_Avg', 'Nac_Temp_Avg',\n",
              "       'Rtr_RPM_Max', 'Rtr_RPM_Min', 'Rtr_RPM_Avg', 'Amb_WindSpeed_Max',\n",
              "       'Amb_WindSpeed_Min', 'Amb_WindSpeed_Avg', 'Amb_WindSpeed_Std',\n",
              "       'Amb_WindDir_Relative_Avg', 'Amb_WindDir_Abs_Avg', 'Amb_Temp_Avg',\n",
              "       'Prod_LatestAvg_ActPwrGen0', 'Prod_LatestAvg_ActPwrGen1',\n",
              "       'Prod_LatestAvg_ActPwrGen2', 'Prod_LatestAvg_TotActPwr',\n",
              "       'Prod_LatestAvg_ReactPwrGen0', 'Prod_LatestAvg_ReactPwrGen1',\n",
              "       'Prod_LatestAvg_ReactPwrGen2', 'Prod_LatestAvg_TotReactPwr',\n",
              "       'HVTrafo_Phase1_Temp_Avg', 'HVTrafo_Phase2_Temp_Avg',\n",
              "       'HVTrafo_Phase3_Temp_Avg', 'Grd_InverterPhase1_Temp_Avg',\n",
              "       'Cont_Top_Temp_Avg', 'Cont_Hub_Temp_Avg', 'Cont_VCP_Temp_Avg',\n",
              "       'Gen_SlipRing_Temp_Avg', 'Spin_Temp_Avg', 'Blds_PitchAngle_Min',\n",
              "       'Blds_PitchAngle_Max', 'Blds_PitchAngle_Avg', 'Blds_PitchAngle_Std',\n",
              "       'Cont_VCP_ChokcoilTemp_Avg', 'Grd_RtrInvPhase1_Temp_Avg',\n",
              "       'Grd_RtrInvPhase2_Temp_Avg', 'Grd_RtrInvPhase3_Temp_Avg',\n",
              "       'Cont_VCP_WtrTemp_Avg', 'Grd_Prod_Pwr_Avg', 'Grd_Prod_CosPhi_Avg',\n",
              "       'Grd_Prod_Freq_Avg', 'Grd_Prod_VoltPhse1_Avg', 'Grd_Prod_VoltPhse2_Avg',\n",
              "       'Grd_Prod_VoltPhse3_Avg', 'Grd_Prod_CurPhse1_Avg',\n",
              "       'Grd_Prod_CurPhse2_Avg', 'Grd_Prod_CurPhse3_Avg', 'Grd_Prod_Pwr_Max',\n",
              "       'Grd_Prod_Pwr_Min', 'Grd_Busbar_Temp_Avg', 'Rtr_RPM_Std',\n",
              "       'Amb_WindSpeed_Est_Avg', 'Grd_Prod_Pwr_Std', 'Grd_Prod_ReactPwr_Avg',\n",
              "       'Grd_Prod_ReactPwr_Max', 'Grd_Prod_ReactPwr_Min',\n",
              "       'Grd_Prod_ReactPwr_Std', 'Grd_Prod_PsblePwr_Avg',\n",
              "       'Grd_Prod_PsblePwr_Max', 'Grd_Prod_PsblePwr_Min',\n",
              "       'Grd_Prod_PsblePwr_Std', 'Grd_Prod_PsbleInd_Avg',\n",
              "       'Grd_Prod_PsbleInd_Max', 'Grd_Prod_PsbleInd_Min',\n",
              "       'Grd_Prod_PsbleInd_Std', 'Grd_Prod_PsbleCap_Avg',\n",
              "       'Grd_Prod_PsbleCap_Max', 'Grd_Prod_PsbleCap_Min',\n",
              "       'Grd_Prod_PsbleCap_Std', 'Gen_Bear2_Temp_Avg', 'Nac_Direction_Avg'],\n",
              "      dtype='object')"
            ]
          },
          "metadata": {},
          "execution_count": 8
        }
      ]
    },
    {
      "cell_type": "code",
      "metadata": {
        "colab": {
          "base_uri": "https://localhost:8080/"
        },
        "id": "ndaZRO8Gb1ac",
        "outputId": "ebad1ca8-acfd-4673-dc88-82b862a2b2f5"
      },
      "source": [
        "df.columns.shape"
      ],
      "execution_count": null,
      "outputs": [
        {
          "output_type": "execute_result",
          "data": {
            "text/plain": [
              "(83,)"
            ]
          },
          "metadata": {},
          "execution_count": 9
        }
      ]
    },
    {
      "cell_type": "code",
      "metadata": {
        "id": "21D2jqPHaxTh"
      },
      "source": [
        "\"\"\"df.drop(columns=['Timestamp', 'Gen_RPM_Max', 'Gen_RPM_Min', 'Rtr_RPM_Max', 'Rtr_RPM_Min', 'Amb_WindSpeed_Max',\n",
        "       'Amb_WindSpeed_Min', 'Amb_WindDir_Abs_Avg', 'Prod_LatestAvg_TotActPwr', 'Prod_LatestAvg_TotReactPwr', 'Blds_PitchAngle_Min',\n",
        "       'Blds_PitchAngle_Max', 'Grd_Prod_Pwr_Max', 'Grd_Prod_Pwr_Min', 'Grd_Prod_ReactPwr_Max', 'Grd_Prod_ReactPwr_Min',\n",
        "       'Grd_Prod_PsblePwr_Max', 'Grd_Prod_PsblePwr_Min', 'Grd_Prod_PsbleInd_Max',\n",
        "       'Grd_Prod_PsbleInd_Min', 'Grd_Prod_PsbleCap_Max', 'Grd_Prod_PsbleCap_Min'], inplace=True)\"\"\"\n",
        "df.drop(columns=['Turbine_ID', 'Gen_RPM_Max', 'Gen_RPM_Min', 'Gen_RPM_Avg',\n",
        "       'Gen_RPM_Std', 'Gen_Bear_Temp_Avg', 'Gen_Phase1_Temp_Avg',\n",
        "       'Gen_Phase2_Temp_Avg', 'Gen_Phase3_Temp_Avg', 'Hyd_Oil_Temp_Avg',\n",
        "       'Rtr_RPM_Max', 'Rtr_RPM_Min', 'Amb_WindSpeed_Max',\n",
        "       'Amb_WindSpeed_Min',\n",
        "       'Amb_WindDir_Relative_Avg', 'Amb_WindDir_Abs_Avg',\n",
        "       'Prod_LatestAvg_ActPwrGen0', 'Prod_LatestAvg_ActPwrGen1',\n",
        "       'Prod_LatestAvg_ActPwrGen2', 'Prod_LatestAvg_TotActPwr',\n",
        "       'Prod_LatestAvg_ReactPwrGen0', 'Prod_LatestAvg_ReactPwrGen1',\n",
        "       'Prod_LatestAvg_ReactPwrGen2', 'Prod_LatestAvg_TotReactPwr',\n",
        "       'HVTrafo_Phase1_Temp_Avg', 'HVTrafo_Phase2_Temp_Avg',\n",
        "       'HVTrafo_Phase3_Temp_Avg', 'Grd_InverterPhase1_Temp_Avg',\n",
        "       'Cont_Top_Temp_Avg', 'Cont_Hub_Temp_Avg', 'Cont_VCP_Temp_Avg',\n",
        "       'Gen_SlipRing_Temp_Avg', 'Spin_Temp_Avg', 'Blds_PitchAngle_Min',\n",
        "       'Blds_PitchAngle_Max', 'Blds_PitchAngle_Avg', 'Blds_PitchAngle_Std',\n",
        "       'Cont_VCP_ChokcoilTemp_Avg', 'Grd_RtrInvPhase1_Temp_Avg',\n",
        "       'Grd_RtrInvPhase2_Temp_Avg', 'Grd_RtrInvPhase3_Temp_Avg',\n",
        "       'Cont_VCP_WtrTemp_Avg', 'Grd_Prod_Pwr_Avg', 'Grd_Prod_CosPhi_Avg',\n",
        "       'Grd_Prod_Freq_Avg', 'Grd_Prod_VoltPhse1_Avg', 'Grd_Prod_VoltPhse2_Avg',\n",
        "       'Grd_Prod_VoltPhse3_Avg', 'Grd_Prod_CurPhse1_Avg',\n",
        "       'Grd_Prod_CurPhse2_Avg', 'Grd_Prod_CurPhse3_Avg', 'Grd_Prod_Pwr_Max',\n",
        "       'Grd_Prod_Pwr_Min', 'Grd_Busbar_Temp_Avg', \n",
        "       'Amb_WindSpeed_Est_Avg', 'Grd_Prod_Pwr_Std', 'Grd_Prod_ReactPwr_Avg',\n",
        "       'Grd_Prod_ReactPwr_Max', 'Grd_Prod_ReactPwr_Min',\n",
        "       'Grd_Prod_ReactPwr_Std', 'Grd_Prod_PsblePwr_Avg',\n",
        "       'Grd_Prod_PsblePwr_Max', 'Grd_Prod_PsblePwr_Min',\n",
        "       'Grd_Prod_PsblePwr_Std', 'Grd_Prod_PsbleInd_Avg',\n",
        "       'Grd_Prod_PsbleInd_Max', 'Grd_Prod_PsbleInd_Min',\n",
        "       'Grd_Prod_PsbleInd_Std', 'Grd_Prod_PsbleCap_Avg',\n",
        "       'Grd_Prod_PsbleCap_Max', 'Grd_Prod_PsbleCap_Min',\n",
        "       'Grd_Prod_PsbleCap_Std', 'Gen_Bear2_Temp_Avg', 'Nac_Direction_Avg'], inplace=True)"
      ],
      "execution_count": null,
      "outputs": []
    },
    {
      "cell_type": "code",
      "metadata": {
        "colab": {
          "base_uri": "https://localhost:8080/"
        },
        "id": "EgE7Z1tyfZIy",
        "outputId": "046f7830-788e-4f5c-8dfd-d87bf5306e18"
      },
      "source": [
        "df.columns.shape"
      ],
      "execution_count": null,
      "outputs": [
        {
          "output_type": "execute_result",
          "data": {
            "text/plain": [
              "(9,)"
            ]
          },
          "metadata": {},
          "execution_count": 11
        }
      ]
    },
    {
      "cell_type": "code",
      "metadata": {
        "colab": {
          "base_uri": "https://localhost:8080/",
          "height": 313
        },
        "id": "i1vLV--obYIF",
        "outputId": "0fe4c609-2011-44c0-da7a-bb49af2b79fe"
      },
      "source": [
        "df.head()"
      ],
      "execution_count": null,
      "outputs": [
        {
          "output_type": "execute_result",
          "data": {
            "text/html": [
              "<div>\n",
              "<style scoped>\n",
              "    .dataframe tbody tr th:only-of-type {\n",
              "        vertical-align: middle;\n",
              "    }\n",
              "\n",
              "    .dataframe tbody tr th {\n",
              "        vertical-align: top;\n",
              "    }\n",
              "\n",
              "    .dataframe thead th {\n",
              "        text-align: right;\n",
              "    }\n",
              "</style>\n",
              "<table border=\"1\" class=\"dataframe\">\n",
              "  <thead>\n",
              "    <tr style=\"text-align: right;\">\n",
              "      <th></th>\n",
              "      <th>Timestamp</th>\n",
              "      <th>Gear_Oil_Temp_Avg</th>\n",
              "      <th>Gear_Bear_Temp_Avg</th>\n",
              "      <th>Nac_Temp_Avg</th>\n",
              "      <th>Rtr_RPM_Avg</th>\n",
              "      <th>Amb_WindSpeed_Avg</th>\n",
              "      <th>Amb_WindSpeed_Std</th>\n",
              "      <th>Amb_Temp_Avg</th>\n",
              "      <th>Rtr_RPM_Std</th>\n",
              "    </tr>\n",
              "  </thead>\n",
              "  <tbody>\n",
              "    <tr>\n",
              "      <th>0</th>\n",
              "      <td>2016-01-01T00:00:00+00:00</td>\n",
              "      <td>44</td>\n",
              "      <td>48</td>\n",
              "      <td>28</td>\n",
              "      <td>11.1</td>\n",
              "      <td>3.3</td>\n",
              "      <td>0.9</td>\n",
              "      <td>18</td>\n",
              "      <td>0.1</td>\n",
              "    </tr>\n",
              "    <tr>\n",
              "      <th>1</th>\n",
              "      <td>2016-01-01T00:10:00+00:00</td>\n",
              "      <td>44</td>\n",
              "      <td>48</td>\n",
              "      <td>28</td>\n",
              "      <td>8.8</td>\n",
              "      <td>3.2</td>\n",
              "      <td>0.9</td>\n",
              "      <td>18</td>\n",
              "      <td>4.0</td>\n",
              "    </tr>\n",
              "    <tr>\n",
              "      <th>2</th>\n",
              "      <td>2016-01-01T00:20:00+00:00</td>\n",
              "      <td>43</td>\n",
              "      <td>46</td>\n",
              "      <td>29</td>\n",
              "      <td>6.8</td>\n",
              "      <td>4.3</td>\n",
              "      <td>1.0</td>\n",
              "      <td>18</td>\n",
              "      <td>4.3</td>\n",
              "    </tr>\n",
              "    <tr>\n",
              "      <th>3</th>\n",
              "      <td>2016-01-01T00:30:00+00:00</td>\n",
              "      <td>44</td>\n",
              "      <td>48</td>\n",
              "      <td>28</td>\n",
              "      <td>11.1</td>\n",
              "      <td>4.4</td>\n",
              "      <td>1.1</td>\n",
              "      <td>18</td>\n",
              "      <td>0.1</td>\n",
              "    </tr>\n",
              "    <tr>\n",
              "      <th>4</th>\n",
              "      <td>2016-01-01T00:40:00+00:00</td>\n",
              "      <td>44</td>\n",
              "      <td>48</td>\n",
              "      <td>28</td>\n",
              "      <td>11.1</td>\n",
              "      <td>4.1</td>\n",
              "      <td>1.2</td>\n",
              "      <td>18</td>\n",
              "      <td>0.2</td>\n",
              "    </tr>\n",
              "  </tbody>\n",
              "</table>\n",
              "</div>"
            ],
            "text/plain": [
              "                   Timestamp  Gear_Oil_Temp_Avg  ...  Amb_Temp_Avg  Rtr_RPM_Std\n",
              "0  2016-01-01T00:00:00+00:00                 44  ...            18          0.1\n",
              "1  2016-01-01T00:10:00+00:00                 44  ...            18          4.0\n",
              "2  2016-01-01T00:20:00+00:00                 43  ...            18          4.3\n",
              "3  2016-01-01T00:30:00+00:00                 44  ...            18          0.1\n",
              "4  2016-01-01T00:40:00+00:00                 44  ...            18          0.2\n",
              "\n",
              "[5 rows x 9 columns]"
            ]
          },
          "metadata": {},
          "execution_count": 12
        }
      ]
    },
    {
      "cell_type": "code",
      "metadata": {
        "id": "w_K2QZsCjxLi"
      },
      "source": [
        "\"\"\"y=df['Gear_Oil_Temp_Avg']\n",
        "X=df.drop(columns=['Gear_Oil_Temp_Avg'])\"\"\""
      ],
      "execution_count": null,
      "outputs": []
    },
    {
      "cell_type": "code",
      "metadata": {
        "id": "yGQ19hQPRYQG"
      },
      "source": [
        "x=df.drop(columns=['Timestamp'])"
      ],
      "execution_count": null,
      "outputs": []
    },
    {
      "cell_type": "code",
      "metadata": {
        "id": "7poKnpr8R3rx"
      },
      "source": [
        "from sklearn.preprocessing import StandardScaler\n",
        "std=StandardScaler()"
      ],
      "execution_count": null,
      "outputs": []
    },
    {
      "cell_type": "code",
      "metadata": {
        "colab": {
          "base_uri": "https://localhost:8080/"
        },
        "id": "RWp7YWpTSGWW",
        "outputId": "c61d17bb-8cdb-4810-8fa7-76be9381381b"
      },
      "source": [
        "std.fit(x)"
      ],
      "execution_count": null,
      "outputs": [
        {
          "output_type": "execute_result",
          "data": {
            "text/plain": [
              "StandardScaler()"
            ]
          },
          "metadata": {},
          "execution_count": 18
        }
      ]
    },
    {
      "cell_type": "code",
      "metadata": {
        "id": "t2E03ULhTtoA"
      },
      "source": [
        "scaled_data=std.transform(x)"
      ],
      "execution_count": null,
      "outputs": []
    },
    {
      "cell_type": "code",
      "metadata": {
        "colab": {
          "base_uri": "https://localhost:8080/"
        },
        "id": "gUE4dFvlT0of",
        "outputId": "f747a42a-c6ab-4a04-e63a-641daa9b8aa9"
      },
      "source": [
        "scaled_data"
      ],
      "execution_count": null,
      "outputs": [
        {
          "output_type": "execute_result",
          "data": {
            "text/plain": [
              "array([[-0.46576468, -0.26865502, -0.35690866, ..., -0.38853195,\n",
              "        -0.35987899, -0.51050932],\n",
              "       [-0.46576468, -0.26865502, -0.35690866, ..., -0.38853195,\n",
              "        -0.35987899,  3.40142688],\n",
              "       [-0.61192159, -0.47912456, -0.17340918, ..., -0.26145743,\n",
              "        -0.35987899,  3.70234505],\n",
              "       ...,\n",
              "       [ 0.26501989,  0.15228405,  0.74408822, ..., -0.38853195,\n",
              "         1.04922228, -0.61081538],\n",
              "       [ 0.26501989,  0.25751882,  0.74408822, ..., -0.64268099,\n",
              "         1.04922228, -0.51050932],\n",
              "       [ 0.26501989,  0.25751882,  0.74408822, ..., -0.38853195,\n",
              "         1.04922228, -0.51050932]])"
            ]
          },
          "metadata": {},
          "execution_count": 21
        }
      ]
    },
    {
      "cell_type": "code",
      "metadata": {
        "id": "0eCJROiYVOaV"
      },
      "source": [
        "X=scaled_data[:, 1:]\n",
        "Y=scaled_data[:, 0]"
      ],
      "execution_count": null,
      "outputs": []
    },
    {
      "cell_type": "code",
      "metadata": {
        "colab": {
          "base_uri": "https://localhost:8080/"
        },
        "id": "VF-VskAkVYdy",
        "outputId": "b6b4f610-5a47-40c7-c9b2-61b40d499ce6"
      },
      "source": [
        "X, Y"
      ],
      "execution_count": null,
      "outputs": [
        {
          "output_type": "execute_result",
          "data": {
            "text/plain": [
              "(array([[-0.26865502, -0.35690866,  0.35683489, ..., -0.38853195,\n",
              "         -0.35987899, -0.51050932],\n",
              "        [-0.26865502, -0.35690866, -0.04708812, ..., -0.38853195,\n",
              "         -0.35987899,  3.40142688],\n",
              "        [-0.47912456, -0.17340918, -0.39832553, ..., -0.26145743,\n",
              "         -0.35987899,  3.70234505],\n",
              "        ...,\n",
              "        [ 0.15228405,  0.74408822,  0.35683489, ..., -0.38853195,\n",
              "          1.04922228, -0.61081538],\n",
              "        [ 0.25751882,  0.74408822,  0.35683489, ..., -0.64268099,\n",
              "          1.04922228, -0.51050932],\n",
              "        [ 0.25751882,  0.74408822,  0.35683489, ..., -0.38853195,\n",
              "          1.04922228, -0.51050932]]),\n",
              " array([-0.46576468, -0.46576468, -0.61192159, ...,  0.26501989,\n",
              "         0.26501989,  0.26501989]))"
            ]
          },
          "metadata": {},
          "execution_count": 23
        }
      ]
    },
    {
      "cell_type": "code",
      "metadata": {
        "id": "cQLyapOEW4Mc"
      },
      "source": [
        "from sklearn.model_selection import train_test_split\n",
        "from sklearn.decomposition import PCA\n",
        "from sklearn.discriminant_analysis import LinearDiscriminantAnalysis\n",
        "from sklearn.neighbors import (KNeighborsClassifier, NeighborhoodComponentsAnalysis)\n",
        "from sklearn.pipeline import make_pipeline\n",
        "from sklearn.preprocessing import StandardScaler"
      ],
      "execution_count": null,
      "outputs": []
    },
    {
      "cell_type": "code",
      "metadata": {
        "id": "iCEQMoFrXBy_"
      },
      "source": [
        "\"\"\"random_state=0\n",
        "# Split into train/test\n",
        "X_train, X_test, y_train, y_test = train_test_split(X, Y, test_size=0.5, \n",
        "                     random_state=random_state)\n",
        "\n",
        "# Reduce dimension to 2 with NeighborhoodComponentAnalysis\n",
        "nca = make_pipeline(StandardScaler(),\n",
        "                    NeighborhoodComponentsAnalysis(n_components=2,\n",
        "                                                   random_state=random_state))\n",
        "\"\"\""
      ],
      "execution_count": null,
      "outputs": []
    },
    {
      "cell_type": "markdown",
      "metadata": {
        "id": "-O9lo_PleMeB"
      },
      "source": [
        "#Linear regression"
      ]
    },
    {
      "cell_type": "code",
      "metadata": {
        "id": "t2rMYPpgat_w"
      },
      "source": [
        "random_state=0\n",
        "# Split into train/test\n",
        "X_train, X_test, y_train, y_test = train_test_split(X, Y, test_size=0.3, \n",
        "                     random_state=random_state)"
      ],
      "execution_count": null,
      "outputs": []
    },
    {
      "cell_type": "code",
      "metadata": {
        "id": "eIOP7ocFYrAi"
      },
      "source": [
        "import numpy as np\n",
        "from sklearn.linear_model import LinearRegression\n",
        "\n",
        "reg = LinearRegression()"
      ],
      "execution_count": null,
      "outputs": []
    },
    {
      "cell_type": "code",
      "metadata": {
        "id": "QVV1BxRgZCFo"
      },
      "source": [
        "lin=reg.fit(X_train, y_train)"
      ],
      "execution_count": null,
      "outputs": []
    },
    {
      "cell_type": "code",
      "metadata": {
        "colab": {
          "base_uri": "https://localhost:8080/"
        },
        "id": "yAOnKEw3ZO_b",
        "outputId": "fec38aeb-1f93-4e08-e717-f897d9e58c52"
      },
      "source": [
        "lin.score(X_test, y_test)"
      ],
      "execution_count": null,
      "outputs": [
        {
          "output_type": "execute_result",
          "data": {
            "text/plain": [
              "0.9499300425227943"
            ]
          },
          "metadata": {},
          "execution_count": 28
        }
      ]
    },
    {
      "cell_type": "code",
      "metadata": {
        "colab": {
          "base_uri": "https://localhost:8080/"
        },
        "id": "OLSIdfFfbA83",
        "outputId": "55256deb-9426-47fe-ab20-5a98eb534a5f"
      },
      "source": [
        "Y, lin.predict(X)"
      ],
      "execution_count": null,
      "outputs": [
        {
          "output_type": "execute_result",
          "data": {
            "text/plain": [
              "(array([-0.46576468, -0.46576468, -0.61192159, ...,  0.26501989,\n",
              "         0.26501989,  0.26501989]),\n",
              " array([-0.48729882, -0.39141887, -0.59173452, ...,  0.08001258,\n",
              "         0.23541851,  0.23043153]))"
            ]
          },
          "metadata": {},
          "execution_count": 29
        }
      ]
    },
    {
      "cell_type": "code",
      "metadata": {
        "id": "p0In19Smd7ex"
      },
      "source": [
        "import matplotlib.pyplot as plt"
      ],
      "execution_count": null,
      "outputs": []
    },
    {
      "cell_type": "code",
      "metadata": {
        "colab": {
          "base_uri": "https://localhost:8080/",
          "height": 533
        },
        "id": "BMNEcUXUdyue",
        "outputId": "d127343f-0480-4beb-a655-3c1c6cf6745d"
      },
      "source": [
        "y_pred=lin.predict(X)\n",
        "plt.figure(figsize=(20, 10))\n",
        "plt.plot(Y[:500], label='Y_true')\n",
        "plt.plot(y_pred[:500], label='Y_pred')\n",
        "plt.legend()"
      ],
      "execution_count": null,
      "outputs": [
        {
          "output_type": "execute_result",
          "data": {
            "text/plain": [
              "<matplotlib.legend.Legend at 0x7fe050b23290>"
            ]
          },
          "metadata": {},
          "execution_count": 31
        },
        {
          "output_type": "display_data",
          "data": {
            "image/png": "[encoded data removed]",
            "text/plain": [
              "<Figure size 1440x720 with 1 Axes>"
            ]
          },
          "metadata": {
            "needs_background": "light"
          }
        }
      ]
    },
    {
      "cell_type": "markdown",
      "metadata": {
        "id": "7ymeqoQceIk0"
      },
      "source": [
        "#ANN"
      ]
    },
    {
      "cell_type": "code",
      "metadata": {
        "colab": {
          "base_uri": "https://localhost:8080/"
        },
        "id": "AaVjfjVWbxlc",
        "outputId": "774b4c61-e046-4682-f3f0-ad1b0d96a09a"
      },
      "source": [
        "X_train.shape, y_test.shape"
      ],
      "execution_count": null,
      "outputs": [
        {
          "output_type": "execute_result",
          "data": {
            "text/plain": [
              "((61002, 7), (26144,))"
            ]
          },
          "metadata": {},
          "execution_count": 32
        }
      ]
    },
    {
      "cell_type": "code",
      "metadata": {
        "id": "eeaSzrmKbnvT"
      },
      "source": [
        "from keras.models import Sequential\n",
        "from keras.layers import Dense"
      ],
      "execution_count": null,
      "outputs": []
    },
    {
      "cell_type": "code",
      "metadata": {
        "id": "oeQRBKJCb6qw"
      },
      "source": [
        "model=Sequential()\n",
        "model.add(Dense(units=64, activation='relu', input_shape=(7,)))\n",
        "model.add(Dense(1))\n",
        "\n",
        "model.compile(optimizer='adam', loss='mse')"
      ],
      "execution_count": null,
      "outputs": []
    },
    {
      "cell_type": "code",
      "metadata": {
        "colab": {
          "base_uri": "https://localhost:8080/"
        },
        "id": "l2ZvYyelceeP",
        "outputId": "0ba1f2ea-9eae-4551-c494-22dd5f8ca3e5"
      },
      "source": [
        "model.fit(X_train, y_train, epochs=20, verbose=1, validation_split=0.3)"
      ],
      "execution_count": null,
      "outputs": [
        {
          "output_type": "stream",
          "name": "stdout",
          "text": [
            "Epoch 1/20\n",
            "1335/1335 [==============================] - 4s 2ms/step - loss: 0.0548 - val_loss: 0.0348\n",
            "Epoch 2/20\n",
            "1335/1335 [==============================] - 3s 2ms/step - loss: 0.0334 - val_loss: 0.0326\n",
            "Epoch 3/20\n",
            "1335/1335 [==============================] - 3s 2ms/step - loss: 0.0325 - val_loss: 0.0324\n",
            "Epoch 4/20\n",
            "1335/1335 [==============================] - 3s 2ms/step - loss: 0.0320 - val_loss: 0.0311\n",
            "Epoch 5/20\n",
            "1335/1335 [==============================] - 3s 2ms/step - loss: 0.0315 - val_loss: 0.0308\n",
            "Epoch 6/20\n",
            "1335/1335 [==============================] - 3s 2ms/step - loss: 0.0311 - val_loss: 0.0299\n",
            "Epoch 7/20\n",
            "1335/1335 [==============================] - 3s 2ms/step - loss: 0.0308 - val_loss: 0.0313\n",
            "Epoch 8/20\n",
            "1335/1335 [==============================] - 3s 2ms/step - loss: 0.0304 - val_loss: 0.0298\n",
            "Epoch 9/20\n",
            "1335/1335 [==============================] - 3s 2ms/step - loss: 0.0303 - val_loss: 0.0303\n",
            "Epoch 10/20\n",
            "1335/1335 [==============================] - 3s 2ms/step - loss: 0.0300 - val_loss: 0.0310\n",
            "Epoch 11/20\n",
            "1335/1335 [==============================] - 3s 2ms/step - loss: 0.0299 - val_loss: 0.0289\n",
            "Epoch 12/20\n",
            "1335/1335 [==============================] - 3s 2ms/step - loss: 0.0299 - val_loss: 0.0298\n",
            "Epoch 13/20\n",
            "1335/1335 [==============================] - 3s 2ms/step - loss: 0.0295 - val_loss: 0.0293\n",
            "Epoch 14/20\n",
            "1335/1335 [==============================] - 3s 2ms/step - loss: 0.0294 - val_loss: 0.0282\n",
            "Epoch 15/20\n",
            "1335/1335 [==============================] - 3s 2ms/step - loss: 0.0291 - val_loss: 0.0303\n",
            "Epoch 16/20\n",
            "1335/1335 [==============================] - 3s 2ms/step - loss: 0.0291 - val_loss: 0.0291\n",
            "Epoch 17/20\n",
            "1335/1335 [==============================] - 3s 2ms/step - loss: 0.0291 - val_loss: 0.0308\n",
            "Epoch 18/20\n",
            "1335/1335 [==============================] - 3s 2ms/step - loss: 0.0289 - val_loss: 0.0331\n",
            "Epoch 19/20\n",
            "1335/1335 [==============================] - 3s 2ms/step - loss: 0.0291 - val_loss: 0.0289\n",
            "Epoch 20/20\n",
            "1335/1335 [==============================] - 3s 2ms/step - loss: 0.0286 - val_loss: 0.0293\n"
          ]
        },
        {
          "output_type": "execute_result",
          "data": {
            "text/plain": [
              "<keras.callbacks.History at 0x7fdfe516ea90>"
            ]
          },
          "metadata": {},
          "execution_count": 35
        }
      ]
    },
    {
      "cell_type": "code",
      "metadata": {
        "colab": {
          "base_uri": "https://localhost:8080/"
        },
        "id": "Gma5UP0ncjgy",
        "outputId": "0003a312-8907-492f-cbde-336c5fcf56cb"
      },
      "source": [
        "model.evaluate(X_test, y_test)"
      ],
      "execution_count": null,
      "outputs": [
        {
          "output_type": "stream",
          "name": "stdout",
          "text": [
            "817/817 [==============================] - 1s 2ms/step - loss: 0.0294\n"
          ]
        },
        {
          "output_type": "execute_result",
          "data": {
            "text/plain": [
              "0.029350729659199715"
            ]
          },
          "metadata": {},
          "execution_count": 36
        }
      ]
    },
    {
      "cell_type": "code",
      "metadata": {
        "colab": {
          "base_uri": "https://localhost:8080/",
          "height": 533
        },
        "id": "MvhWw0lQc_Z-",
        "outputId": "0e6296ee-84d1-4495-9b23-711dcfd01ecf"
      },
      "source": [
        "y_pred=model.predict(X)\n",
        "plt.figure(figsize=(20, 10))\n",
        "plt.plot(Y[:500], label='Y_true')\n",
        "plt.plot(y_pred[:500], label='Y_pred')\n",
        "plt.legend()"
      ],
      "execution_count": null,
      "outputs": [
        {
          "output_type": "execute_result",
          "data": {
            "text/plain": [
              "<matplotlib.legend.Legend at 0x7fdfe1a0d790>"
            ]
          },
          "metadata": {},
          "execution_count": 37
        },
        {
          "output_type": "display_data",
          "data": {
            "image/png": "[encoded data removed]",
            "text/plain": [
              "<Figure size 1440x720 with 1 Axes>"
            ]
          },
          "metadata": {
            "needs_background": "light"
          }
        }
      ]
    },
    {
      "cell_type": "code",
      "source": [
        "model=Sequential()\n",
        "model.add(Dense(units=64, activation='relu', input_shape=(7,)))\n",
        "model.add(Dense(1))\n",
        "\n",
        "model.compile(optimizer='adam', loss='mae')"
      ],
      "metadata": {
        "id": "Nqac7lmXT2KQ"
      },
      "execution_count": null,
      "outputs": []
    },
    {
      "cell_type": "code",
      "source": [
        "model.fit(X_train, y_train, epochs=20, verbose=1, validation_split=0.3)"
      ],
      "metadata": {
        "colab": {
          "base_uri": "https://localhost:8080/"
        },
        "id": "GNPM562TT41_",
        "outputId": "9b154c23-21f4-470c-9b88-dfa49edff38c"
      },
      "execution_count": null,
      "outputs": [
        {
          "output_type": "stream",
          "name": "stdout",
          "text": [
            "Epoch 1/20\n",
            "1335/1335 [==============================] - 6s 4ms/step - loss: 0.1819 - val_loss: 0.1409\n",
            "Epoch 2/20\n",
            "1335/1335 [==============================] - 4s 3ms/step - loss: 0.1380 - val_loss: 0.1334\n",
            "Epoch 3/20\n",
            "1335/1335 [==============================] - 4s 3ms/step - loss: 0.1360 - val_loss: 0.1317\n",
            "Epoch 4/20\n",
            "1335/1335 [==============================] - 4s 3ms/step - loss: 0.1344 - val_loss: 0.1361\n",
            "Epoch 5/20\n",
            "1335/1335 [==============================] - 3s 2ms/step - loss: 0.1332 - val_loss: 0.1318\n",
            "Epoch 6/20\n",
            "1335/1335 [==============================] - 3s 2ms/step - loss: 0.1321 - val_loss: 0.1296\n",
            "Epoch 7/20\n",
            "1335/1335 [==============================] - 3s 2ms/step - loss: 0.1313 - val_loss: 0.1285\n",
            "Epoch 8/20\n",
            "1335/1335 [==============================] - 3s 2ms/step - loss: 0.1303 - val_loss: 0.1273\n",
            "Epoch 9/20\n",
            "1335/1335 [==============================] - 3s 2ms/step - loss: 0.1292 - val_loss: 0.1307\n",
            "Epoch 10/20\n",
            "1335/1335 [==============================] - 3s 2ms/step - loss: 0.1292 - val_loss: 0.1292\n",
            "Epoch 11/20\n",
            "1335/1335 [==============================] - 3s 2ms/step - loss: 0.1282 - val_loss: 0.1284\n",
            "Epoch 12/20\n",
            "1335/1335 [==============================] - 3s 2ms/step - loss: 0.1278 - val_loss: 0.1294\n",
            "Epoch 13/20\n",
            "1335/1335 [==============================] - 3s 2ms/step - loss: 0.1276 - val_loss: 0.1321\n",
            "Epoch 14/20\n",
            "1335/1335 [==============================] - 3s 2ms/step - loss: 0.1272 - val_loss: 0.1254\n",
            "Epoch 15/20\n",
            "1335/1335 [==============================] - 3s 2ms/step - loss: 0.1269 - val_loss: 0.1257\n",
            "Epoch 16/20\n",
            "1335/1335 [==============================] - 3s 2ms/step - loss: 0.1267 - val_loss: 0.1257\n",
            "Epoch 17/20\n",
            "1335/1335 [==============================] - 3s 2ms/step - loss: 0.1266 - val_loss: 0.1250\n",
            "Epoch 18/20\n",
            "1335/1335 [==============================] - 3s 2ms/step - loss: 0.1262 - val_loss: 0.1243\n",
            "Epoch 19/20\n",
            "1335/1335 [==============================] - 3s 2ms/step - loss: 0.1256 - val_loss: 0.1309\n",
            "Epoch 20/20\n",
            "1335/1335 [==============================] - 3s 2ms/step - loss: 0.1258 - val_loss: 0.1255\n"
          ]
        },
        {
          "output_type": "execute_result",
          "data": {
            "text/plain": [
              "<keras.callbacks.History at 0x7fdfe4f7acd0>"
            ]
          },
          "metadata": {},
          "execution_count": 39
        }
      ]
    },
    {
      "cell_type": "code",
      "source": [
        "model.evaluate(X_test, y_test)"
      ],
      "metadata": {
        "colab": {
          "base_uri": "https://localhost:8080/"
        },
        "id": "aKiJF4tpT7_h",
        "outputId": "08953cd1-6d84-4336-fc89-ef6d7c4b5c26"
      },
      "execution_count": null,
      "outputs": [
        {
          "output_type": "stream",
          "name": "stdout",
          "text": [
            "817/817 [==============================] - 1s 2ms/step - loss: 0.1251\n"
          ]
        },
        {
          "output_type": "execute_result",
          "data": {
            "text/plain": [
              "0.1251067966222763"
            ]
          },
          "metadata": {},
          "execution_count": 40
        }
      ]
    },
    {
      "cell_type": "code",
      "source": [
        "y_pred=model.predict(X)\n",
        "plt.figure(figsize=(20, 10))\n",
        "plt.plot(Y[:500], label='Y_true')\n",
        "plt.plot(y_pred[:500], label='Y_pred')\n",
        "plt.legend()"
      ],
      "metadata": {
        "colab": {
          "base_uri": "https://localhost:8080/",
          "height": 533
        },
        "id": "DaEGZAi1T-Oa",
        "outputId": "5be77fca-2bdd-4475-94dc-adc23737a7c9"
      },
      "execution_count": null,
      "outputs": [
        {
          "output_type": "execute_result",
          "data": {
            "text/plain": [
              "<matplotlib.legend.Legend at 0x7fdfe4e0e250>"
            ]
          },
          "metadata": {},
          "execution_count": 41
        },
        {
          "output_type": "display_data",
          "data": {
            "image/png": "[encoded data removed]",
            "text/plain": [
              "<Figure size 1440x720 with 1 Axes>"
            ]
          },
          "metadata": {
            "needs_background": "light"
          }
        }
      ]
    },
    {
      "cell_type": "markdown",
      "metadata": {
        "id": "HBSwKckfYr8Q"
      },
      "source": [
        "#errors below"
      ]
    },
    {
      "cell_type": "code",
      "metadata": {
        "id": "qc248JkDULUD",
        "colab": {
          "base_uri": "https://localhost:8080/"
        },
        "outputId": "f66151d5-6e19-4519-fee6-78a8eb73acfd"
      },
      "source": [
        "from google.colab import drive\n",
        "drive.mount('/content/drive')"
      ],
      "execution_count": null,
      "outputs": [
        {
          "output_type": "stream",
          "name": "stdout",
          "text": [
            "Drive already mounted at /content/drive; to attempt to forcibly remount, call drive.mount(\"/content/drive\", force_remount=True).\n"
          ]
        }
      ]
    },
    {
      "cell_type": "code",
      "metadata": {
        "colab": {
          "base_uri": "https://localhost:8080/",
          "height": 303
        },
        "id": "c5Vc930YYFU4",
        "outputId": "e0eca479-56ed-48dc-f585-a84142757ac4"
      },
      "source": [
        "nca.fit(X_train, y_train)"
      ],
      "execution_count": null,
      "outputs": [
        {
          "output_type": "error",
          "ename": "ValueError",
          "evalue": "ignored",
          "traceback": [
            "\u001b[0;31m---------------------------------------------------------------------------\u001b[0m",
            "\u001b[0;31mValueError\u001b[0m                                Traceback (most recent call last)",
            "\u001b[0;32m<ipython-input-57-d90f6a57ceb3>\u001b[0m in \u001b[0;36m<module>\u001b[0;34m()\u001b[0m\n\u001b[0;32m----> 1\u001b[0;31m \u001b[0mnca\u001b[0m\u001b[0;34m.\u001b[0m\u001b[0mfit\u001b[0m\u001b[0;34m(\u001b[0m\u001b[0mX_train\u001b[0m\u001b[0;34m,\u001b[0m \u001b[0my_train\u001b[0m\u001b[0;34m)\u001b[0m\u001b[0;34m\u001b[0m\u001b[0;34m\u001b[0m\u001b[0m\n\u001b[0m",
            "\u001b[0;32m/usr/local/lib/python3.7/dist-packages/sklearn/pipeline.py\u001b[0m in \u001b[0;36mfit\u001b[0;34m(self, X, y, **fit_params)\u001b[0m\n\u001b[1;32m    352\u001b[0m                                  self._log_message(len(self.steps) - 1)):\n\u001b[1;32m    353\u001b[0m             \u001b[0;32mif\u001b[0m \u001b[0mself\u001b[0m\u001b[0;34m.\u001b[0m\u001b[0m_final_estimator\u001b[0m \u001b[0;34m!=\u001b[0m \u001b[0;34m'passthrough'\u001b[0m\u001b[0;34m:\u001b[0m\u001b[0;34m\u001b[0m\u001b[0;34m\u001b[0m\u001b[0m\n\u001b[0;32m--> 354\u001b[0;31m                 \u001b[0mself\u001b[0m\u001b[0;34m.\u001b[0m\u001b[0m_final_estimator\u001b[0m\u001b[0;34m.\u001b[0m\u001b[0mfit\u001b[0m\u001b[0;34m(\u001b[0m\u001b[0mXt\u001b[0m\u001b[0;34m,\u001b[0m \u001b[0my\u001b[0m\u001b[0;34m,\u001b[0m \u001b[0;34m**\u001b[0m\u001b[0mfit_params\u001b[0m\u001b[0;34m)\u001b[0m\u001b[0;34m\u001b[0m\u001b[0;34m\u001b[0m\u001b[0m\n\u001b[0m\u001b[1;32m    355\u001b[0m         \u001b[0;32mreturn\u001b[0m \u001b[0mself\u001b[0m\u001b[0;34m\u001b[0m\u001b[0;34m\u001b[0m\u001b[0m\n\u001b[1;32m    356\u001b[0m \u001b[0;34m\u001b[0m\u001b[0m\n",
            "\u001b[0;32m/usr/local/lib/python3.7/dist-packages/sklearn/neighbors/_nca.py\u001b[0m in \u001b[0;36mfit\u001b[0;34m(self, X, y)\u001b[0m\n\u001b[1;32m    191\u001b[0m         \u001b[0;31m# Verify inputs X and y and NCA parameters, and transform a copy if\u001b[0m\u001b[0;34m\u001b[0m\u001b[0;34m\u001b[0m\u001b[0;34m\u001b[0m\u001b[0m\n\u001b[1;32m    192\u001b[0m         \u001b[0;31m# needed\u001b[0m\u001b[0;34m\u001b[0m\u001b[0;34m\u001b[0m\u001b[0;34m\u001b[0m\u001b[0m\n\u001b[0;32m--> 193\u001b[0;31m         \u001b[0mX\u001b[0m\u001b[0;34m,\u001b[0m \u001b[0my\u001b[0m\u001b[0;34m,\u001b[0m \u001b[0minit\u001b[0m \u001b[0;34m=\u001b[0m \u001b[0mself\u001b[0m\u001b[0;34m.\u001b[0m\u001b[0m_validate_params\u001b[0m\u001b[0;34m(\u001b[0m\u001b[0mX\u001b[0m\u001b[0;34m,\u001b[0m \u001b[0my\u001b[0m\u001b[0;34m)\u001b[0m\u001b[0;34m\u001b[0m\u001b[0;34m\u001b[0m\u001b[0m\n\u001b[0m\u001b[1;32m    194\u001b[0m \u001b[0;34m\u001b[0m\u001b[0m\n\u001b[1;32m    195\u001b[0m         \u001b[0;31m# Initialize the random generator\u001b[0m\u001b[0;34m\u001b[0m\u001b[0;34m\u001b[0m\u001b[0;34m\u001b[0m\u001b[0m\n",
            "\u001b[0;32m/usr/local/lib/python3.7/dist-packages/sklearn/neighbors/_nca.py\u001b[0m in \u001b[0;36m_validate_params\u001b[0;34m(self, X, y)\u001b[0m\n\u001b[1;32m    299\u001b[0m         \u001b[0;31m# Validate the inputs X and y, and converts y to numerical classes.\u001b[0m\u001b[0;34m\u001b[0m\u001b[0;34m\u001b[0m\u001b[0;34m\u001b[0m\u001b[0m\n\u001b[1;32m    300\u001b[0m         \u001b[0mX\u001b[0m\u001b[0;34m,\u001b[0m \u001b[0my\u001b[0m \u001b[0;34m=\u001b[0m \u001b[0mcheck_X_y\u001b[0m\u001b[0;34m(\u001b[0m\u001b[0mX\u001b[0m\u001b[0;34m,\u001b[0m \u001b[0my\u001b[0m\u001b[0;34m,\u001b[0m \u001b[0mensure_min_samples\u001b[0m\u001b[0;34m=\u001b[0m\u001b[0;36m2\u001b[0m\u001b[0;34m)\u001b[0m\u001b[0;34m\u001b[0m\u001b[0;34m\u001b[0m\u001b[0m\n\u001b[0;32m--> 301\u001b[0;31m         \u001b[0mcheck_classification_targets\u001b[0m\u001b[0;34m(\u001b[0m\u001b[0my\u001b[0m\u001b[0;34m)\u001b[0m\u001b[0;34m\u001b[0m\u001b[0;34m\u001b[0m\u001b[0m\n\u001b[0m\u001b[1;32m    302\u001b[0m         \u001b[0my\u001b[0m \u001b[0;34m=\u001b[0m \u001b[0mLabelEncoder\u001b[0m\u001b[0;34m(\u001b[0m\u001b[0;34m)\u001b[0m\u001b[0;34m.\u001b[0m\u001b[0mfit_transform\u001b[0m\u001b[0;34m(\u001b[0m\u001b[0my\u001b[0m\u001b[0;34m)\u001b[0m\u001b[0;34m\u001b[0m\u001b[0;34m\u001b[0m\u001b[0m\n\u001b[1;32m    303\u001b[0m \u001b[0;34m\u001b[0m\u001b[0m\n",
            "\u001b[0;32m/usr/local/lib/python3.7/dist-packages/sklearn/utils/multiclass.py\u001b[0m in \u001b[0;36mcheck_classification_targets\u001b[0;34m(y)\u001b[0m\n\u001b[1;32m    167\u001b[0m     if y_type not in ['binary', 'multiclass', 'multiclass-multioutput',\n\u001b[1;32m    168\u001b[0m                       'multilabel-indicator', 'multilabel-sequences']:\n\u001b[0;32m--> 169\u001b[0;31m         \u001b[0;32mraise\u001b[0m \u001b[0mValueError\u001b[0m\u001b[0;34m(\u001b[0m\u001b[0;34m\"Unknown label type: %r\"\u001b[0m \u001b[0;34m%\u001b[0m \u001b[0my_type\u001b[0m\u001b[0;34m)\u001b[0m\u001b[0;34m\u001b[0m\u001b[0;34m\u001b[0m\u001b[0m\n\u001b[0m\u001b[1;32m    170\u001b[0m \u001b[0;34m\u001b[0m\u001b[0m\n\u001b[1;32m    171\u001b[0m \u001b[0;34m\u001b[0m\u001b[0m\n",
            "\u001b[0;31mValueError\u001b[0m: Unknown label type: 'continuous'"
          ]
        }
      ]
    },
    {
      "cell_type": "code",
      "metadata": {
        "id": "RdmFGOR1fntn",
        "colab": {
          "base_uri": "https://localhost:8080/",
          "height": 354
        },
        "outputId": "07153c59-c829-4b6f-f45f-2cff058137be"
      },
      "source": [
        "from sklearn.neighbors import NeighborhoodComponentsAnalysis\n",
        "from sklearn.neighbors import KNeighborsClassifier\n",
        "from sklearn.datasets import load_iris\n",
        "from sklearn.model_selection import train_test_split\n",
        "#X, y = load_iris(return_X_y=True)\n",
        "X_train, X_test, y_train, y_test = train_test_split(X, Y, test_size=0.7, random_state=42)\n",
        "nca = NeighborhoodComponentsAnalysis(n_components=4)\n",
        "nca.fit(X_train, y_train)\n",
        "\n"
      ],
      "execution_count": null,
      "outputs": [
        {
          "output_type": "error",
          "ename": "ValueError",
          "evalue": "ignored",
          "traceback": [
            "\u001b[0;31m---------------------------------------------------------------------------\u001b[0m",
            "\u001b[0;31mValueError\u001b[0m                                Traceback (most recent call last)",
            "\u001b[0;32m<ipython-input-49-1fbaf06df2e1>\u001b[0m in \u001b[0;36m<module>\u001b[0;34m()\u001b[0m\n\u001b[1;32m      6\u001b[0m \u001b[0mX_train\u001b[0m\u001b[0;34m,\u001b[0m \u001b[0mX_test\u001b[0m\u001b[0;34m,\u001b[0m \u001b[0my_train\u001b[0m\u001b[0;34m,\u001b[0m \u001b[0my_test\u001b[0m \u001b[0;34m=\u001b[0m \u001b[0mtrain_test_split\u001b[0m\u001b[0;34m(\u001b[0m\u001b[0mX\u001b[0m\u001b[0;34m,\u001b[0m \u001b[0mY\u001b[0m\u001b[0;34m,\u001b[0m \u001b[0mtest_size\u001b[0m\u001b[0;34m=\u001b[0m\u001b[0;36m0.7\u001b[0m\u001b[0;34m,\u001b[0m \u001b[0mrandom_state\u001b[0m\u001b[0;34m=\u001b[0m\u001b[0;36m42\u001b[0m\u001b[0;34m)\u001b[0m\u001b[0;34m\u001b[0m\u001b[0;34m\u001b[0m\u001b[0m\n\u001b[1;32m      7\u001b[0m \u001b[0mnca\u001b[0m \u001b[0;34m=\u001b[0m \u001b[0mNeighborhoodComponentsAnalysis\u001b[0m\u001b[0;34m(\u001b[0m\u001b[0mn_components\u001b[0m\u001b[0;34m=\u001b[0m\u001b[0;36m4\u001b[0m\u001b[0;34m)\u001b[0m\u001b[0;34m\u001b[0m\u001b[0;34m\u001b[0m\u001b[0m\n\u001b[0;32m----> 8\u001b[0;31m \u001b[0mnca\u001b[0m\u001b[0;34m.\u001b[0m\u001b[0mfit\u001b[0m\u001b[0;34m(\u001b[0m\u001b[0mX_train\u001b[0m\u001b[0;34m,\u001b[0m \u001b[0my_train\u001b[0m\u001b[0;34m)\u001b[0m\u001b[0;34m\u001b[0m\u001b[0;34m\u001b[0m\u001b[0m\n\u001b[0m\u001b[1;32m      9\u001b[0m \u001b[0;34m\u001b[0m\u001b[0m\n",
            "\u001b[0;32m/usr/local/lib/python3.7/dist-packages/sklearn/neighbors/_nca.py\u001b[0m in \u001b[0;36mfit\u001b[0;34m(self, X, y)\u001b[0m\n\u001b[1;32m    191\u001b[0m         \u001b[0;31m# Verify inputs X and y and NCA parameters, and transform a copy if\u001b[0m\u001b[0;34m\u001b[0m\u001b[0;34m\u001b[0m\u001b[0;34m\u001b[0m\u001b[0m\n\u001b[1;32m    192\u001b[0m         \u001b[0;31m# needed\u001b[0m\u001b[0;34m\u001b[0m\u001b[0;34m\u001b[0m\u001b[0;34m\u001b[0m\u001b[0m\n\u001b[0;32m--> 193\u001b[0;31m         \u001b[0mX\u001b[0m\u001b[0;34m,\u001b[0m \u001b[0my\u001b[0m\u001b[0;34m,\u001b[0m \u001b[0minit\u001b[0m \u001b[0;34m=\u001b[0m \u001b[0mself\u001b[0m\u001b[0;34m.\u001b[0m\u001b[0m_validate_params\u001b[0m\u001b[0;34m(\u001b[0m\u001b[0mX\u001b[0m\u001b[0;34m,\u001b[0m \u001b[0my\u001b[0m\u001b[0;34m)\u001b[0m\u001b[0;34m\u001b[0m\u001b[0;34m\u001b[0m\u001b[0m\n\u001b[0m\u001b[1;32m    194\u001b[0m \u001b[0;34m\u001b[0m\u001b[0m\n\u001b[1;32m    195\u001b[0m         \u001b[0;31m# Initialize the random generator\u001b[0m\u001b[0;34m\u001b[0m\u001b[0;34m\u001b[0m\u001b[0;34m\u001b[0m\u001b[0m\n",
            "\u001b[0;32m/usr/local/lib/python3.7/dist-packages/sklearn/neighbors/_nca.py\u001b[0m in \u001b[0;36m_validate_params\u001b[0;34m(self, X, y)\u001b[0m\n\u001b[1;32m    299\u001b[0m         \u001b[0;31m# Validate the inputs X and y, and converts y to numerical classes.\u001b[0m\u001b[0;34m\u001b[0m\u001b[0;34m\u001b[0m\u001b[0;34m\u001b[0m\u001b[0m\n\u001b[1;32m    300\u001b[0m         \u001b[0mX\u001b[0m\u001b[0;34m,\u001b[0m \u001b[0my\u001b[0m \u001b[0;34m=\u001b[0m \u001b[0mcheck_X_y\u001b[0m\u001b[0;34m(\u001b[0m\u001b[0mX\u001b[0m\u001b[0;34m,\u001b[0m \u001b[0my\u001b[0m\u001b[0;34m,\u001b[0m \u001b[0mensure_min_samples\u001b[0m\u001b[0;34m=\u001b[0m\u001b[0;36m2\u001b[0m\u001b[0;34m)\u001b[0m\u001b[0;34m\u001b[0m\u001b[0;34m\u001b[0m\u001b[0m\n\u001b[0;32m--> 301\u001b[0;31m         \u001b[0mcheck_classification_targets\u001b[0m\u001b[0;34m(\u001b[0m\u001b[0my\u001b[0m\u001b[0;34m)\u001b[0m\u001b[0;34m\u001b[0m\u001b[0;34m\u001b[0m\u001b[0m\n\u001b[0m\u001b[1;32m    302\u001b[0m         \u001b[0my\u001b[0m \u001b[0;34m=\u001b[0m \u001b[0mLabelEncoder\u001b[0m\u001b[0;34m(\u001b[0m\u001b[0;34m)\u001b[0m\u001b[0;34m.\u001b[0m\u001b[0mfit_transform\u001b[0m\u001b[0;34m(\u001b[0m\u001b[0my\u001b[0m\u001b[0;34m)\u001b[0m\u001b[0;34m\u001b[0m\u001b[0;34m\u001b[0m\u001b[0m\n\u001b[1;32m    303\u001b[0m \u001b[0;34m\u001b[0m\u001b[0m\n",
            "\u001b[0;32m/usr/local/lib/python3.7/dist-packages/sklearn/utils/multiclass.py\u001b[0m in \u001b[0;36mcheck_classification_targets\u001b[0;34m(y)\u001b[0m\n\u001b[1;32m    167\u001b[0m     if y_type not in ['binary', 'multiclass', 'multiclass-multioutput',\n\u001b[1;32m    168\u001b[0m                       'multilabel-indicator', 'multilabel-sequences']:\n\u001b[0;32m--> 169\u001b[0;31m         \u001b[0;32mraise\u001b[0m \u001b[0mValueError\u001b[0m\u001b[0;34m(\u001b[0m\u001b[0;34m\"Unknown label type: %r\"\u001b[0m \u001b[0;34m%\u001b[0m \u001b[0my_type\u001b[0m\u001b[0;34m)\u001b[0m\u001b[0;34m\u001b[0m\u001b[0;34m\u001b[0m\u001b[0m\n\u001b[0m\u001b[1;32m    170\u001b[0m \u001b[0;34m\u001b[0m\u001b[0m\n\u001b[1;32m    171\u001b[0m \u001b[0;34m\u001b[0m\u001b[0m\n",
            "\u001b[0;31mValueError\u001b[0m: Unknown label type: 'continuous'"
          ]
        }
      ]
    },
    {
      "cell_type": "code",
      "metadata": {
        "id": "b6aYP6ePijQO"
      },
      "source": [
        "knn = KNeighborsClassifier(n_neighbors=3)\n",
        "knn.fit(X_train, y_train)"
      ],
      "execution_count": null,
      "outputs": []
    },
    {
      "cell_type": "markdown",
      "metadata": {
        "id": "672fjmy2Vepa"
      },
      "source": [
        "# REDUCE FEATURES:- "
      ]
    },
    {
      "cell_type": "code",
      "metadata": {
        "id": "wdeKIgiXVeI8"
      },
      "source": [
        "import pandas as pd"
      ],
      "execution_count": null,
      "outputs": []
    },
    {
      "cell_type": "code",
      "metadata": {
        "id": "6biV_-28Vjp1"
      },
      "source": [
        "data =  pd.read_csv('/content/drive/MyDrive/T01_1009.csv')\n",
        "dataw = pd.read_csv('/content/drive/MyDrive/T01(1).csv')"
      ],
      "execution_count": null,
      "outputs": []
    },
    {
      "cell_type": "code",
      "metadata": {
        "id": "2aPw4E1GwQIJ",
        "colab": {
          "base_uri": "https://localhost:8080/"
        },
        "outputId": "0b95bd3b-f5ec-424e-8c6a-666ca7920b90"
      },
      "source": [
        "data.shape"
      ],
      "execution_count": null,
      "outputs": [
        {
          "output_type": "execute_result",
          "data": {
            "text/plain": [
              "(1008, 80)"
            ]
          },
          "metadata": {},
          "execution_count": 8
        }
      ]
    },
    {
      "cell_type": "code",
      "metadata": {
        "id": "NcqYKEI5WlmZ",
        "colab": {
          "base_uri": "https://localhost:8080/",
          "height": 336
        },
        "outputId": "6bc786d6-5091-447c-f7c1-79c9fbc8c7df"
      },
      "source": [
        "data.head()"
      ],
      "execution_count": null,
      "outputs": [
        {
          "output_type": "execute_result",
          "data": {
            "text/html": [
              "<div>\n",
              "<style scoped>\n",
              "    .dataframe tbody tr th:only-of-type {\n",
              "        vertical-align: middle;\n",
              "    }\n",
              "\n",
              "    .dataframe tbody tr th {\n",
              "        vertical-align: top;\n",
              "    }\n",
              "\n",
              "    .dataframe thead th {\n",
              "        text-align: right;\n",
              "    }\n",
              "</style>\n",
              "<table border=\"1\" class=\"dataframe\">\n",
              "  <thead>\n",
              "    <tr style=\"text-align: right;\">\n",
              "      <th></th>\n",
              "      <th>Turbine_ID</th>\n",
              "      <th>Timestamp</th>\n",
              "      <th>Gen_RPM_Max</th>\n",
              "      <th>Gen_RPM_Min</th>\n",
              "      <th>Gen_RPM_Avg</th>\n",
              "      <th>Gen_RPM_Std</th>\n",
              "      <th>Gen_Bear_Temp_Avg</th>\n",
              "      <th>Gen_Phase1_Temp_Avg</th>\n",
              "      <th>Gen_Phase2_Temp_Avg</th>\n",
              "      <th>Gen_Phase3_Temp_Avg</th>\n",
              "      <th>Hyd_Oil_Temp_Avg</th>\n",
              "      <th>Gear_Oil_Temp_Avg</th>\n",
              "      <th>Gear_Bear_Temp_Avg</th>\n",
              "      <th>Nac_Temp_Avg</th>\n",
              "      <th>Rtr_RPM_Max</th>\n",
              "      <th>Rtr_RPM_Min</th>\n",
              "      <th>Rtr_RPM_Avg</th>\n",
              "      <th>Amb_WindSpeed_Max</th>\n",
              "      <th>Amb_WindSpeed_Min</th>\n",
              "      <th>Amb_WindSpeed_Avg</th>\n",
              "      <th>Amb_WindSpeed_Std</th>\n",
              "      <th>Amb_WindDir_Relative_Avg</th>\n",
              "      <th>Amb_WindDir_Abs_Avg</th>\n",
              "      <th>Amb_Temp_Avg</th>\n",
              "      <th>Prod_LatestAvg_ActPwrGen0</th>\n",
              "      <th>Prod_LatestAvg_ActPwrGen1</th>\n",
              "      <th>Prod_LatestAvg_ActPwrGen2</th>\n",
              "      <th>Prod_LatestAvg_TotActPwr</th>\n",
              "      <th>Prod_LatestAvg_ReactPwrGen0</th>\n",
              "      <th>Prod_LatestAvg_ReactPwrGen1</th>\n",
              "      <th>Prod_LatestAvg_ReactPwrGen2</th>\n",
              "      <th>Prod_LatestAvg_TotReactPwr</th>\n",
              "      <th>HVTrafo_Phase1_Temp_Avg</th>\n",
              "      <th>HVTrafo_Phase2_Temp_Avg</th>\n",
              "      <th>HVTrafo_Phase3_Temp_Avg</th>\n",
              "      <th>Grd_InverterPhase1_Temp_Avg</th>\n",
              "      <th>Cont_Top_Temp_Avg</th>\n",
              "      <th>Cont_Hub_Temp_Avg</th>\n",
              "      <th>Cont_VCP_Temp_Avg</th>\n",
              "      <th>Gen_SlipRing_Temp_Avg</th>\n",
              "      <th>...</th>\n",
              "      <th>Blds_PitchAngle_Avg</th>\n",
              "      <th>Blds_PitchAngle_Std</th>\n",
              "      <th>Cont_VCP_ChokcoilTemp_Avg</th>\n",
              "      <th>Grd_RtrInvPhase1_Temp_Avg</th>\n",
              "      <th>Grd_RtrInvPhase2_Temp_Avg</th>\n",
              "      <th>Grd_RtrInvPhase3_Temp_Avg</th>\n",
              "      <th>Cont_VCP_WtrTemp_Avg</th>\n",
              "      <th>Grd_Prod_Pwr_Avg</th>\n",
              "      <th>Grd_Prod_CosPhi_Avg</th>\n",
              "      <th>Grd_Prod_Freq_Avg</th>\n",
              "      <th>Grd_Prod_VoltPhse1_Avg</th>\n",
              "      <th>Grd_Prod_VoltPhse2_Avg</th>\n",
              "      <th>Grd_Prod_VoltPhse3_Avg</th>\n",
              "      <th>Grd_Prod_CurPhse1_Avg</th>\n",
              "      <th>Grd_Prod_CurPhse2_Avg</th>\n",
              "      <th>Grd_Prod_CurPhse3_Avg</th>\n",
              "      <th>Grd_Prod_Pwr_Max</th>\n",
              "      <th>Grd_Prod_Pwr_Min</th>\n",
              "      <th>Grd_Busbar_Temp_Avg</th>\n",
              "      <th>Rtr_RPM_Std</th>\n",
              "      <th>Amb_WindSpeed_Est_Avg</th>\n",
              "      <th>Grd_Prod_Pwr_Std</th>\n",
              "      <th>Grd_Prod_ReactPwr_Avg</th>\n",
              "      <th>Grd_Prod_ReactPwr_Max</th>\n",
              "      <th>Grd_Prod_ReactPwr_Min</th>\n",
              "      <th>Grd_Prod_ReactPwr_Std</th>\n",
              "      <th>Grd_Prod_PsblePwr_Avg</th>\n",
              "      <th>Grd_Prod_PsblePwr_Max</th>\n",
              "      <th>Grd_Prod_PsblePwr_Min</th>\n",
              "      <th>Grd_Prod_PsblePwr_Std</th>\n",
              "      <th>Grd_Prod_PsbleInd_Avg</th>\n",
              "      <th>Grd_Prod_PsbleInd_Max</th>\n",
              "      <th>Grd_Prod_PsbleInd_Min</th>\n",
              "      <th>Grd_Prod_PsbleInd_Std</th>\n",
              "      <th>Grd_Prod_PsbleCap_Avg</th>\n",
              "      <th>Grd_Prod_PsbleCap_Max</th>\n",
              "      <th>Grd_Prod_PsbleCap_Min</th>\n",
              "      <th>Grd_Prod_PsbleCap_Std</th>\n",
              "      <th>Gen_Bear2_Temp_Avg</th>\n",
              "      <th>Nac_Direction_Avg</th>\n",
              "    </tr>\n",
              "  </thead>\n",
              "  <tbody>\n",
              "    <tr>\n",
              "      <th>0</th>\n",
              "      <td>T01</td>\n",
              "      <td>2016-01-01T00:00:00+00:00</td>\n",
              "      <td>1277.4</td>\n",
              "      <td>1226.1</td>\n",
              "      <td>1249.0</td>\n",
              "      <td>9.0</td>\n",
              "      <td>41</td>\n",
              "      <td>58</td>\n",
              "      <td>59</td>\n",
              "      <td>58</td>\n",
              "      <td>30</td>\n",
              "      <td>44</td>\n",
              "      <td>48</td>\n",
              "      <td>28</td>\n",
              "      <td>11.3</td>\n",
              "      <td>10.9</td>\n",
              "      <td>11.1</td>\n",
              "      <td>11.6</td>\n",
              "      <td>0.5</td>\n",
              "      <td>3.3</td>\n",
              "      <td>0.9</td>\n",
              "      <td>-12.4</td>\n",
              "      <td>206.1</td>\n",
              "      <td>18</td>\n",
              "      <td>-107</td>\n",
              "      <td>4420</td>\n",
              "      <td>0</td>\n",
              "      <td>4313</td>\n",
              "      <td>-99</td>\n",
              "      <td>-5636</td>\n",
              "      <td>0</td>\n",
              "      <td>-5735</td>\n",
              "      <td>68</td>\n",
              "      <td>76</td>\n",
              "      <td>65</td>\n",
              "      <td>39</td>\n",
              "      <td>39</td>\n",
              "      <td>28</td>\n",
              "      <td>43</td>\n",
              "      <td>25</td>\n",
              "      <td>...</td>\n",
              "      <td>0.6</td>\n",
              "      <td>0.9</td>\n",
              "      <td>91</td>\n",
              "      <td>39</td>\n",
              "      <td>39</td>\n",
              "      <td>38</td>\n",
              "      <td>39</td>\n",
              "      <td>26.2</td>\n",
              "      <td>0.7</td>\n",
              "      <td>50.0</td>\n",
              "      <td>401.6</td>\n",
              "      <td>399.9</td>\n",
              "      <td>399.2</td>\n",
              "      <td>46.5</td>\n",
              "      <td>61.1</td>\n",
              "      <td>45.5</td>\n",
              "      <td>118.4</td>\n",
              "      <td>-33.5</td>\n",
              "      <td>38</td>\n",
              "      <td>0.1</td>\n",
              "      <td>3.6</td>\n",
              "      <td>35.3</td>\n",
              "      <td>-34.9</td>\n",
              "      <td>13.2</td>\n",
              "      <td>-100.0</td>\n",
              "      <td>36.2</td>\n",
              "      <td>29.4</td>\n",
              "      <td>119.3</td>\n",
              "      <td>0.0</td>\n",
              "      <td>31.9</td>\n",
              "      <td>-144.4</td>\n",
              "      <td>0.0</td>\n",
              "      <td>-584.5</td>\n",
              "      <td>157.1</td>\n",
              "      <td>144.4</td>\n",
              "      <td>584.5</td>\n",
              "      <td>0.0</td>\n",
              "      <td>157.1</td>\n",
              "      <td>37</td>\n",
              "      <td>218.5</td>\n",
              "    </tr>\n",
              "    <tr>\n",
              "      <th>1</th>\n",
              "      <td>T01</td>\n",
              "      <td>2016-01-01T00:10:00+00:00</td>\n",
              "      <td>1268.3</td>\n",
              "      <td>93.3</td>\n",
              "      <td>999.7</td>\n",
              "      <td>435.9</td>\n",
              "      <td>41</td>\n",
              "      <td>58</td>\n",
              "      <td>59</td>\n",
              "      <td>59</td>\n",
              "      <td>30</td>\n",
              "      <td>44</td>\n",
              "      <td>48</td>\n",
              "      <td>28</td>\n",
              "      <td>11.2</td>\n",
              "      <td>0.0</td>\n",
              "      <td>8.8</td>\n",
              "      <td>12.5</td>\n",
              "      <td>0.4</td>\n",
              "      <td>3.2</td>\n",
              "      <td>0.9</td>\n",
              "      <td>-1.1</td>\n",
              "      <td>217.4</td>\n",
              "      <td>18</td>\n",
              "      <td>-753</td>\n",
              "      <td>2488</td>\n",
              "      <td>0</td>\n",
              "      <td>1735</td>\n",
              "      <td>-867</td>\n",
              "      <td>-3871</td>\n",
              "      <td>0</td>\n",
              "      <td>-4738</td>\n",
              "      <td>68</td>\n",
              "      <td>76</td>\n",
              "      <td>65</td>\n",
              "      <td>38</td>\n",
              "      <td>39</td>\n",
              "      <td>28</td>\n",
              "      <td>42</td>\n",
              "      <td>25</td>\n",
              "      <td>...</td>\n",
              "      <td>8.1</td>\n",
              "      <td>14.7</td>\n",
              "      <td>91</td>\n",
              "      <td>37</td>\n",
              "      <td>36</td>\n",
              "      <td>37</td>\n",
              "      <td>37</td>\n",
              "      <td>10.1</td>\n",
              "      <td>0.7</td>\n",
              "      <td>50.0</td>\n",
              "      <td>401.9</td>\n",
              "      <td>400.7</td>\n",
              "      <td>399.5</td>\n",
              "      <td>34.3</td>\n",
              "      <td>41.9</td>\n",
              "      <td>33.6</td>\n",
              "      <td>101.5</td>\n",
              "      <td>-38.2</td>\n",
              "      <td>38</td>\n",
              "      <td>4.0</td>\n",
              "      <td>3.3</td>\n",
              "      <td>30.2</td>\n",
              "      <td>-28.0</td>\n",
              "      <td>1.8</td>\n",
              "      <td>-100.1</td>\n",
              "      <td>34.6</td>\n",
              "      <td>21.7</td>\n",
              "      <td>102.3</td>\n",
              "      <td>0.0</td>\n",
              "      <td>24.7</td>\n",
              "      <td>-79.6</td>\n",
              "      <td>0.0</td>\n",
              "      <td>-501.0</td>\n",
              "      <td>123.7</td>\n",
              "      <td>79.6</td>\n",
              "      <td>501.0</td>\n",
              "      <td>0.0</td>\n",
              "      <td>123.7</td>\n",
              "      <td>37</td>\n",
              "      <td>218.5</td>\n",
              "    </tr>\n",
              "    <tr>\n",
              "      <th>2</th>\n",
              "      <td>T01</td>\n",
              "      <td>2016-01-01T00:20:00+00:00</td>\n",
              "      <td>1394.4</td>\n",
              "      <td>220.3</td>\n",
              "      <td>774.0</td>\n",
              "      <td>486.1</td>\n",
              "      <td>41</td>\n",
              "      <td>57</td>\n",
              "      <td>57</td>\n",
              "      <td>57</td>\n",
              "      <td>30</td>\n",
              "      <td>43</td>\n",
              "      <td>46</td>\n",
              "      <td>29</td>\n",
              "      <td>12.3</td>\n",
              "      <td>1.9</td>\n",
              "      <td>6.8</td>\n",
              "      <td>8.8</td>\n",
              "      <td>0.7</td>\n",
              "      <td>4.3</td>\n",
              "      <td>1.0</td>\n",
              "      <td>-5.8</td>\n",
              "      <td>207.4</td>\n",
              "      <td>18</td>\n",
              "      <td>-784</td>\n",
              "      <td>10488</td>\n",
              "      <td>0</td>\n",
              "      <td>9704</td>\n",
              "      <td>-410</td>\n",
              "      <td>-1865</td>\n",
              "      <td>0</td>\n",
              "      <td>-2275</td>\n",
              "      <td>68</td>\n",
              "      <td>76</td>\n",
              "      <td>65</td>\n",
              "      <td>39</td>\n",
              "      <td>39</td>\n",
              "      <td>28</td>\n",
              "      <td>42</td>\n",
              "      <td>25</td>\n",
              "      <td>...</td>\n",
              "      <td>10.4</td>\n",
              "      <td>12.4</td>\n",
              "      <td>87</td>\n",
              "      <td>38</td>\n",
              "      <td>37</td>\n",
              "      <td>37</td>\n",
              "      <td>38</td>\n",
              "      <td>59.0</td>\n",
              "      <td>0.7</td>\n",
              "      <td>50.0</td>\n",
              "      <td>401.4</td>\n",
              "      <td>400.5</td>\n",
              "      <td>398.8</td>\n",
              "      <td>78.6</td>\n",
              "      <td>92.7</td>\n",
              "      <td>86.1</td>\n",
              "      <td>219.4</td>\n",
              "      <td>-34.1</td>\n",
              "      <td>38</td>\n",
              "      <td>4.3</td>\n",
              "      <td>4.1</td>\n",
              "      <td>77.5</td>\n",
              "      <td>-13.9</td>\n",
              "      <td>999.9</td>\n",
              "      <td>-108.1</td>\n",
              "      <td>154.8</td>\n",
              "      <td>88.9</td>\n",
              "      <td>224.9</td>\n",
              "      <td>0.0</td>\n",
              "      <td>54.3</td>\n",
              "      <td>-314.0</td>\n",
              "      <td>0.0</td>\n",
              "      <td>-1000.0</td>\n",
              "      <td>357.4</td>\n",
              "      <td>314.0</td>\n",
              "      <td>1000.0</td>\n",
              "      <td>0.0</td>\n",
              "      <td>357.4</td>\n",
              "      <td>37</td>\n",
              "      <td>213.3</td>\n",
              "    </tr>\n",
              "    <tr>\n",
              "      <th>3</th>\n",
              "      <td>T01</td>\n",
              "      <td>2016-01-01T00:30:00+00:00</td>\n",
              "      <td>1306.6</td>\n",
              "      <td>1212.4</td>\n",
              "      <td>1257.1</td>\n",
              "      <td>17.0</td>\n",
              "      <td>40</td>\n",
              "      <td>56</td>\n",
              "      <td>57</td>\n",
              "      <td>57</td>\n",
              "      <td>30</td>\n",
              "      <td>44</td>\n",
              "      <td>48</td>\n",
              "      <td>28</td>\n",
              "      <td>11.5</td>\n",
              "      <td>10.7</td>\n",
              "      <td>11.1</td>\n",
              "      <td>9.9</td>\n",
              "      <td>0.7</td>\n",
              "      <td>4.4</td>\n",
              "      <td>1.1</td>\n",
              "      <td>9.6</td>\n",
              "      <td>232.0</td>\n",
              "      <td>18</td>\n",
              "      <td>0</td>\n",
              "      <td>22673</td>\n",
              "      <td>0</td>\n",
              "      <td>22673</td>\n",
              "      <td>0</td>\n",
              "      <td>-15822</td>\n",
              "      <td>0</td>\n",
              "      <td>-15822</td>\n",
              "      <td>68</td>\n",
              "      <td>76</td>\n",
              "      <td>65</td>\n",
              "      <td>39</td>\n",
              "      <td>39</td>\n",
              "      <td>28</td>\n",
              "      <td>42</td>\n",
              "      <td>25</td>\n",
              "      <td>...</td>\n",
              "      <td>-0.5</td>\n",
              "      <td>0.8</td>\n",
              "      <td>87</td>\n",
              "      <td>38</td>\n",
              "      <td>38</td>\n",
              "      <td>38</td>\n",
              "      <td>38</td>\n",
              "      <td>135.7</td>\n",
              "      <td>0.8</td>\n",
              "      <td>50.0</td>\n",
              "      <td>399.7</td>\n",
              "      <td>398.1</td>\n",
              "      <td>396.9</td>\n",
              "      <td>128.1</td>\n",
              "      <td>160.8</td>\n",
              "      <td>136.8</td>\n",
              "      <td>250.3</td>\n",
              "      <td>-27.7</td>\n",
              "      <td>38</td>\n",
              "      <td>0.1</td>\n",
              "      <td>4.6</td>\n",
              "      <td>53.9</td>\n",
              "      <td>-94.9</td>\n",
              "      <td>0.0</td>\n",
              "      <td>-105.1</td>\n",
              "      <td>18.4</td>\n",
              "      <td>135.3</td>\n",
              "      <td>261.4</td>\n",
              "      <td>0.0</td>\n",
              "      <td>53.1</td>\n",
              "      <td>-654.0</td>\n",
              "      <td>0.0</td>\n",
              "      <td>-1000.0</td>\n",
              "      <td>245.8</td>\n",
              "      <td>654.0</td>\n",
              "      <td>1000.0</td>\n",
              "      <td>0.0</td>\n",
              "      <td>245.8</td>\n",
              "      <td>36</td>\n",
              "      <td>222.4</td>\n",
              "    </tr>\n",
              "    <tr>\n",
              "      <th>4</th>\n",
              "      <td>T01</td>\n",
              "      <td>2016-01-01T00:40:00+00:00</td>\n",
              "      <td>1320.9</td>\n",
              "      <td>1224.1</td>\n",
              "      <td>1257.7</td>\n",
              "      <td>18.0</td>\n",
              "      <td>40</td>\n",
              "      <td>57</td>\n",
              "      <td>58</td>\n",
              "      <td>57</td>\n",
              "      <td>30</td>\n",
              "      <td>44</td>\n",
              "      <td>48</td>\n",
              "      <td>28</td>\n",
              "      <td>11.7</td>\n",
              "      <td>10.8</td>\n",
              "      <td>11.1</td>\n",
              "      <td>9.9</td>\n",
              "      <td>0.8</td>\n",
              "      <td>4.1</td>\n",
              "      <td>1.2</td>\n",
              "      <td>23.3</td>\n",
              "      <td>245.6</td>\n",
              "      <td>18</td>\n",
              "      <td>-75</td>\n",
              "      <td>16581</td>\n",
              "      <td>0</td>\n",
              "      <td>16506</td>\n",
              "      <td>-79</td>\n",
              "      <td>-13314</td>\n",
              "      <td>0</td>\n",
              "      <td>-13394</td>\n",
              "      <td>68</td>\n",
              "      <td>76</td>\n",
              "      <td>65</td>\n",
              "      <td>39</td>\n",
              "      <td>39</td>\n",
              "      <td>28</td>\n",
              "      <td>42</td>\n",
              "      <td>25</td>\n",
              "      <td>...</td>\n",
              "      <td>-0.1</td>\n",
              "      <td>1.2</td>\n",
              "      <td>88</td>\n",
              "      <td>39</td>\n",
              "      <td>38</td>\n",
              "      <td>38</td>\n",
              "      <td>39</td>\n",
              "      <td>98.9</td>\n",
              "      <td>0.7</td>\n",
              "      <td>50.0</td>\n",
              "      <td>399.5</td>\n",
              "      <td>397.9</td>\n",
              "      <td>396.8</td>\n",
              "      <td>104.7</td>\n",
              "      <td>130.3</td>\n",
              "      <td>108.3</td>\n",
              "      <td>212.5</td>\n",
              "      <td>-50.2</td>\n",
              "      <td>38</td>\n",
              "      <td>0.2</td>\n",
              "      <td>4.3</td>\n",
              "      <td>65.9</td>\n",
              "      <td>-80.3</td>\n",
              "      <td>17.8</td>\n",
              "      <td>-107.1</td>\n",
              "      <td>35.8</td>\n",
              "      <td>102.7</td>\n",
              "      <td>221.8</td>\n",
              "      <td>0.0</td>\n",
              "      <td>60.2</td>\n",
              "      <td>-496.1</td>\n",
              "      <td>0.0</td>\n",
              "      <td>-1000.0</td>\n",
              "      <td>302.7</td>\n",
              "      <td>496.1</td>\n",
              "      <td>1000.0</td>\n",
              "      <td>0.0</td>\n",
              "      <td>302.7</td>\n",
              "      <td>36</td>\n",
              "      <td>222.4</td>\n",
              "    </tr>\n",
              "  </tbody>\n",
              "</table>\n",
              "<p>5 rows × 83 columns</p>\n",
              "</div>"
            ],
            "text/plain": [
              "  Turbine_ID                  Timestamp  ...  Gen_Bear2_Temp_Avg  Nac_Direction_Avg\n",
              "0        T01  2016-01-01T00:00:00+00:00  ...                  37              218.5\n",
              "1        T01  2016-01-01T00:10:00+00:00  ...                  37              218.5\n",
              "2        T01  2016-01-01T00:20:00+00:00  ...                  37              213.3\n",
              "3        T01  2016-01-01T00:30:00+00:00  ...                  36              222.4\n",
              "4        T01  2016-01-01T00:40:00+00:00  ...                  36              222.4\n",
              "\n",
              "[5 rows x 83 columns]"
            ]
          },
          "metadata": {},
          "execution_count": 5
        }
      ]
    },
    {
      "cell_type": "code",
      "metadata": {
        "id": "jlEkKiVYVrUN"
      },
      "source": [
        "from sklearn.decomposition import PCA\n",
        "import numpy as np\n",
        "import matplotlib.pyplot as plt\n",
        "from sklearn.neighbors import NeighborhoodComponentsAnalysis"
      ],
      "execution_count": null,
      "outputs": []
    },
    {
      "cell_type": "code",
      "metadata": {
        "id": "KWPur65yW9LF"
      },
      "source": [
        "timestamp = data['Timestamp']\n",
        "turbine_id = data['Turbine_ID']\n",
        "Y = data['Gear_Oil_Temp_Avg']\n",
        "data = data.drop(['Timestamp','Turbine_ID','Gear_Oil_Temp_Avg'], axis = 1)\n"
      ],
      "execution_count": null,
      "outputs": []
    },
    {
      "cell_type": "code",
      "metadata": {
        "id": "-gpHFQkcXLQI",
        "colab": {
          "base_uri": "https://localhost:8080/"
        },
        "outputId": "5266031a-e267-48d3-fde3-cbc13affadfe"
      },
      "source": [
        "data.shape"
      ],
      "execution_count": null,
      "outputs": [
        {
          "output_type": "execute_result",
          "data": {
            "text/plain": [
              "(1008, 80)"
            ]
          },
          "metadata": {},
          "execution_count": 8
        }
      ]
    },
    {
      "cell_type": "code",
      "metadata": {
        "id": "CZQoHlLWWG5I",
        "colab": {
          "base_uri": "https://localhost:8080/",
          "height": 296
        },
        "outputId": "ad229673-74b1-4670-91f6-d211b0f9997a"
      },
      "source": [
        "pca = PCA(5)\n",
        "pca.fit(data)\n",
        "plt.plot(np.cumsum(pca.explained_variance_ratio_)) \n",
        "plt.xlabel('variance') \n",
        "plt.ylabel('dimension') "
      ],
      "execution_count": null,
      "outputs": [
        {
          "output_type": "execute_result",
          "data": {
            "text/plain": [
              "Text(0, 0.5, 'dimension')"
            ]
          },
          "metadata": {},
          "execution_count": 9
        },
        {
          "output_type": "display_data",
          "data": {
            "image/png": "[encoded data removed]",
            "text/plain": [
              "<Figure size 432x288 with 1 Axes>"
            ]
          },
          "metadata": {
            "needs_background": "light"
          }
        }
      ]
    },
    {
      "cell_type": "markdown",
      "metadata": {
        "id": "8vNC_xuYzlI3"
      },
      "source": [
        ""
      ]
    },
    {
      "cell_type": "code",
      "metadata": {
        "id": "e6-JewCiX8KY",
        "colab": {
          "base_uri": "https://localhost:8080/"
        },
        "outputId": "d65fddd4-bda2-41ea-85f8-1dd5cda17b1d"
      },
      "source": [
        "nca = NeighborhoodComponentsAnalysis(random_state=42, n_components=54) \n",
        "nca.fit(data, Y) "
      ],
      "execution_count": null,
      "outputs": [
        {
          "output_type": "execute_result",
          "data": {
            "text/plain": [
              "NeighborhoodComponentsAnalysis(callback=None, init='auto', max_iter=50,\n",
              "                               n_components=54, random_state=42, tol=1e-05,\n",
              "                               verbose=0, warm_start=False)"
            ]
          },
          "metadata": {},
          "execution_count": 10
        }
      ]
    },
    {
      "cell_type": "code",
      "metadata": {
        "id": "259PLhB1WyRo"
      },
      "source": [
        "transform_data = nca.transform(data)"
      ],
      "execution_count": null,
      "outputs": []
    },
    {
      "cell_type": "code",
      "metadata": {
        "id": "i2NwHzIkzZRf",
        "colab": {
          "base_uri": "https://localhost:8080/"
        },
        "outputId": "3023a129-7f5a-4cfd-d9d4-a906cb948ae5"
      },
      "source": [
        "transform_data.shape"
      ],
      "execution_count": null,
      "outputs": [
        {
          "output_type": "execute_result",
          "data": {
            "text/plain": [
              "(1008, 54)"
            ]
          },
          "metadata": {},
          "execution_count": 12
        }
      ]
    },
    {
      "cell_type": "code",
      "metadata": {
        "id": "oOmyvXQyzayH"
      },
      "source": [
        "from sklearn.model_selection import train_test_split\n",
        "from sklearn.decomposition import PCA\n",
        "from sklearn.discriminant_analysis import LinearDiscriminantAnalysis\n",
        "from sklearn.neighbors import (KNeighborsClassifier, NeighborhoodComponentsAnalysis)\n",
        "from sklearn.pipeline import make_pipeline\n",
        "from sklearn.preprocessing import StandardScaler"
      ],
      "execution_count": null,
      "outputs": []
    },
    {
      "cell_type": "code",
      "metadata": {
        "id": "SHtRB5HL9zbG"
      },
      "source": [
        "X_train, X_test, y_train, y_test = train_test_split(transform_data, Y, test_size=0.3) "
      ],
      "execution_count": null,
      "outputs": []
    },
    {
      "cell_type": "markdown",
      "metadata": {
        "id": "VCLyHbPP94UT"
      },
      "source": [
        "## Decision Tree"
      ]
    },
    {
      "cell_type": "code",
      "metadata": {
        "id": "d1w1URJy92jh"
      },
      "source": [
        "from sklearn.tree import DecisionTreeRegressor\n",
        "from sklearn.metrics import mean_squared_error"
      ],
      "execution_count": null,
      "outputs": []
    },
    {
      "cell_type": "code",
      "metadata": {
        "colab": {
          "base_uri": "https://localhost:8080/"
        },
        "id": "C2QgHK0V-FyQ",
        "outputId": "c4de952d-fa5a-4509-fef0-370462713466"
      },
      "source": [
        "reg = DecisionTreeRegressor()\n",
        "reg.fit(X_train, y_train)\n",
        "pred_train = reg.predict(X_train)\n",
        "pred_test = reg.predict(X_test)\n",
        "print(\"Train Score : - \", mean_squared_error(y_train, pred_train))\n",
        "print(\"Test Score : - \", mean_squared_error(y_test, pred_test))"
      ],
      "execution_count": null,
      "outputs": [
        {
          "output_type": "stream",
          "name": "stdout",
          "text": [
            "Train Score : -  0.0\n",
            "Test Score : -  9.564356435643564\n"
          ]
        }
      ]
    },
    {
      "cell_type": "code",
      "metadata": {
        "id": "MlvzVt8S-L6u"
      },
      "source": [
        ""
      ],
      "execution_count": null,
      "outputs": []
    }
  ]
}