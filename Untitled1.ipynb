{
  "nbformat": 4,
  "nbformat_minor": 0,
  "metadata": {
    "colab": {
      "name": "Untitled1.ipynb",
      "provenance": [],
      "mount_file_id": "1_63m45EPArpnD4QdRWVltaMWrlX4BDXr",
      "authorship_tag": "ABX9TyNMtwB+QWMedHgYLb3utr8Y",
      "include_colab_link": true
    },
    "kernelspec": {
      "name": "python3",
      "display_name": "Python 3"
    },
    "language_info": {
      "name": "python"
    }
  },
  "cells": [
    {
      "cell_type": "markdown",
      "metadata": {
        "id": "view-in-github",
        "colab_type": "text"
      },
      "source": [
        "<a href=\"https://colab.research.google.com/github/adityab-28/WTurbine_FS_based_CM/blob/main/Untitled1.ipynb\" target=\"_parent\"><img src=\"https://colab.research.google.com/assets/colab-badge.svg\" alt=\"Open In Colab\"/></a>"
      ]
    },
    {
      "cell_type": "code",
      "metadata": {
        "id": "__HkqYk6JrFZ"
      },
      "source": [
        "import numpy as np\n",
        "import matplotlib.pyplot as plt\n",
        "import pandas as pd"
      ],
      "execution_count": 2,
      "outputs": []
    },
    {
      "cell_type": "code",
      "metadata": {
        "id": "lrfJ_g1SJ2es"
      },
      "source": [
        "dataset = pd.read_csv('drive/MyDrive/new/T01(1).csv')"
      ],
      "execution_count": 4,
      "outputs": []
    },
    {
      "cell_type": "code",
      "metadata": {
        "colab": {
          "base_uri": "https://localhost:8080/"
        },
        "id": "OMHIdUODKAgR",
        "outputId": "f7188557-9818-4449-f455-70f111c2a3ba"
      },
      "source": [
        "dataset.columns.size"
      ],
      "execution_count": 5,
      "outputs": [
        {
          "output_type": "execute_result",
          "data": {
            "text/plain": [
              "83"
            ]
          },
          "metadata": {
            "tags": []
          },
          "execution_count": 5
        }
      ]
    },
    {
      "cell_type": "code",
      "metadata": {
        "id": "kE2LZTEoKdsC"
      },
      "source": [
        "dataset.drop(columns=['Timestamp', 'Gen_RPM_Max', 'Gen_RPM_Min', 'Rtr_RPM_Max', 'Rtr_RPM_Min', 'Amb_WindSpeed_Max',\n",
        "       'Amb_WindSpeed_Min', 'Amb_WindDir_Abs_Avg', 'Prod_LatestAvg_TotActPwr', 'Prod_LatestAvg_TotReactPwr', 'Blds_PitchAngle_Min',\n",
        "       'Blds_PitchAngle_Max', 'Grd_Prod_Pwr_Max', 'Grd_Prod_Pwr_Min', 'Grd_Prod_ReactPwr_Max', 'Grd_Prod_ReactPwr_Min',\n",
        "       'Grd_Prod_PsblePwr_Max', 'Grd_Prod_PsblePwr_Min', 'Grd_Prod_PsbleInd_Max',\n",
        "       'Grd_Prod_PsbleInd_Min', 'Grd_Prod_PsbleCap_Max', 'Grd_Prod_PsbleCap_Min'], inplace=True)"
      ],
      "execution_count": 7,
      "outputs": []
    },
    {
      "cell_type": "code",
      "metadata": {
        "colab": {
          "base_uri": "https://localhost:8080/"
        },
        "id": "G9izYmgdKkZa",
        "outputId": "40d15f66-106b-4dee-88e0-073bba7b71f9"
      },
      "source": [
        "dataset.columns.shape"
      ],
      "execution_count": 8,
      "outputs": [
        {
          "output_type": "execute_result",
          "data": {
            "text/plain": [
              "(61,)"
            ]
          },
          "metadata": {
            "tags": []
          },
          "execution_count": 8
        }
      ]
    },
    {
      "cell_type": "code",
      "metadata": {
        "id": "4sa8TbT5KwXn"
      },
      "source": [
        ""
      ],
      "execution_count": null,
      "outputs": []
    }
  ]
}