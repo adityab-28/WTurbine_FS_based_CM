{
  "nbformat": 4,
  "nbformat_minor": 0,
  "metadata": {
    "colab": {
      "name": "Untitled1.ipynb",
      "provenance": [],
      "mount_file_id": "1_63m45EPArpnD4QdRWVltaMWrlX4BDXr",
      "authorship_tag": "ABX9TyPXWC6n/Fgmd5eIfKgymIwQ",
      "include_colab_link": true
    },
    "kernelspec": {
      "name": "python3",
      "display_name": "Python 3"
    },
    "language_info": {
      "name": "python"
    }
  },
  "cells": [
    {
      "cell_type": "markdown",
      "metadata": {
        "id": "view-in-github",
        "colab_type": "text"
      },
      "source": [
        "<a href=\"https://colab.research.google.com/github/adityab-28/WTurbine_FS_based_CM/blob/main/Untitled1.ipynb\" target=\"_parent\"><img src=\"https://colab.research.google.com/assets/colab-badge.svg\" alt=\"Open In Colab\"/></a>"
      ]
    },
    {
      "cell_type": "code",
      "metadata": {
        "id": "__HkqYk6JrFZ"
      },
      "source": [
        "import numpy as np\n",
        "import matplotlib.pyplot as plt\n",
        "import pandas as pd"
      ],
      "execution_count": null,
      "outputs": []
    },
    {
      "cell_type": "code",
      "metadata": {
        "id": "lrfJ_g1SJ2es"
      },
      "source": [
        "dataset = pd.read_csv('drive/MyDrive/new/T01(1).csv')"
      ],
      "execution_count": null,
      "outputs": []
    },
    {
      "cell_type": "code",
      "metadata": {
        "id": "OMHIdUODKAgR",
        "colab": {
          "base_uri": "https://localhost:8080/"
        },
        "outputId": "cf47cff4-c735-4cea-efc1-974cca4eef41"
      },
      "source": [
        "dataset.columns"
      ],
      "execution_count": null,
      "outputs": [
        {
          "output_type": "execute_result",
          "data": {
            "text/plain": [
              "Index(['Turbine_ID', 'Timestamp', 'Gen_RPM_Max', 'Gen_RPM_Min', 'Gen_RPM_Avg',\n",
              "       'Gen_RPM_Std', 'Gen_Bear_Temp_Avg', 'Gen_Phase1_Temp_Avg',\n",
              "       'Gen_Phase2_Temp_Avg', 'Gen_Phase3_Temp_Avg', 'Hyd_Oil_Temp_Avg',\n",
              "       'Gear_Oil_Temp_Avg', 'Gear_Bear_Temp_Avg', 'Nac_Temp_Avg',\n",
              "       'Rtr_RPM_Max', 'Rtr_RPM_Min', 'Rtr_RPM_Avg', 'Amb_WindSpeed_Max',\n",
              "       'Amb_WindSpeed_Min', 'Amb_WindSpeed_Avg', 'Amb_WindSpeed_Std',\n",
              "       'Amb_WindDir_Relative_Avg', 'Amb_WindDir_Abs_Avg', 'Amb_Temp_Avg',\n",
              "       'Prod_LatestAvg_ActPwrGen0', 'Prod_LatestAvg_ActPwrGen1',\n",
              "       'Prod_LatestAvg_ActPwrGen2', 'Prod_LatestAvg_TotActPwr',\n",
              "       'Prod_LatestAvg_ReactPwrGen0', 'Prod_LatestAvg_ReactPwrGen1',\n",
              "       'Prod_LatestAvg_ReactPwrGen2', 'Prod_LatestAvg_TotReactPwr',\n",
              "       'HVTrafo_Phase1_Temp_Avg', 'HVTrafo_Phase2_Temp_Avg',\n",
              "       'HVTrafo_Phase3_Temp_Avg', 'Grd_InverterPhase1_Temp_Avg',\n",
              "       'Cont_Top_Temp_Avg', 'Cont_Hub_Temp_Avg', 'Cont_VCP_Temp_Avg',\n",
              "       'Gen_SlipRing_Temp_Avg', 'Spin_Temp_Avg', 'Blds_PitchAngle_Min',\n",
              "       'Blds_PitchAngle_Max', 'Blds_PitchAngle_Avg', 'Blds_PitchAngle_Std',\n",
              "       'Cont_VCP_ChokcoilTemp_Avg', 'Grd_RtrInvPhase1_Temp_Avg',\n",
              "       'Grd_RtrInvPhase2_Temp_Avg', 'Grd_RtrInvPhase3_Temp_Avg',\n",
              "       'Cont_VCP_WtrTemp_Avg', 'Grd_Prod_Pwr_Avg', 'Grd_Prod_CosPhi_Avg',\n",
              "       'Grd_Prod_Freq_Avg', 'Grd_Prod_VoltPhse1_Avg', 'Grd_Prod_VoltPhse2_Avg',\n",
              "       'Grd_Prod_VoltPhse3_Avg', 'Grd_Prod_CurPhse1_Avg',\n",
              "       'Grd_Prod_CurPhse2_Avg', 'Grd_Prod_CurPhse3_Avg', 'Grd_Prod_Pwr_Max',\n",
              "       'Grd_Prod_Pwr_Min', 'Grd_Busbar_Temp_Avg', 'Rtr_RPM_Std',\n",
              "       'Amb_WindSpeed_Est_Avg', 'Grd_Prod_Pwr_Std', 'Grd_Prod_ReactPwr_Avg',\n",
              "       'Grd_Prod_ReactPwr_Max', 'Grd_Prod_ReactPwr_Min',\n",
              "       'Grd_Prod_ReactPwr_Std', 'Grd_Prod_PsblePwr_Avg',\n",
              "       'Grd_Prod_PsblePwr_Max', 'Grd_Prod_PsblePwr_Min',\n",
              "       'Grd_Prod_PsblePwr_Std', 'Grd_Prod_PsbleInd_Avg',\n",
              "       'Grd_Prod_PsbleInd_Max', 'Grd_Prod_PsbleInd_Min',\n",
              "       'Grd_Prod_PsbleInd_Std', 'Grd_Prod_PsbleCap_Avg',\n",
              "       'Grd_Prod_PsbleCap_Max', 'Grd_Prod_PsbleCap_Min',\n",
              "       'Grd_Prod_PsbleCap_Std', 'Gen_Bear2_Temp_Avg', 'Nac_Direction_Avg'],\n",
              "      dtype='object')"
            ]
          },
          "metadata": {},
          "execution_count": 11
        }
      ]
    },
    {
      "cell_type": "code",
      "metadata": {
        "id": "5VUJ9i4MUNjC"
      },
      "source": [
        "dataset.drop(columns=['Turbine_ID', 'Timestamp', 'Gen_RPM_Max', 'Gen_RPM_Min', 'Gen_Phase1_Temp_Avg',\n",
        "       'Gen_Phase2_Temp_Avg', 'Gen_Phase3_Temp_Avg', 'Hyd_Oil_Temp_Avg',\n",
        "       'Rtr_RPM_Max', 'Rtr_RPM_Min', 'Amb_WindSpeed_Max',\n",
        "       'Amb_WindSpeed_Min', 'Amb_WindDir_Relative_Avg', 'Amb_WindDir_Abs_Avg', 'Prod_LatestAvg_ActPwrGen1',\n",
        "       'Prod_LatestAvg_ActPwrGen2', 'Prod_LatestAvg_ReactPwrGen0', 'Prod_LatestAvg_ReactPwrGen1',\n",
        "       'Prod_LatestAvg_ReactPwrGen2', 'Prod_LatestAvg_TotReactPwr',\n",
        "       'HVTrafo_Phase1_Temp_Avg', 'HVTrafo_Phase2_Temp_Avg',\n",
        "       'HVTrafo_Phase3_Temp_Avg', 'Grd_InverterPhase1_Temp_Avg',\n",
        "       'Gen_SlipRing_Temp_Avg', 'Blds_PitchAngle_Min',\n",
        "       'Blds_PitchAngle_Max', 'Blds_PitchAngle_Avg', 'Blds_PitchAngle_Std',\n",
        "       'Cont_VCP_ChokcoilTemp_Avg', 'Grd_RtrInvPhase1_Temp_Avg',\n",
        "       'Grd_RtrInvPhase2_Temp_Avg', 'Grd_RtrInvPhase3_Temp_Avg',\n",
        "       'Cont_VCP_WtrTemp_Avg',  'Grd_Prod_CosPhi_Avg',\n",
        "       'Grd_Prod_Freq_Avg', 'Grd_Prod_VoltPhse1_Avg', 'Grd_Prod_VoltPhse2_Avg',\n",
        "       'Grd_Prod_VoltPhse3_Avg', 'Grd_Prod_CurPhse1_Avg',\n",
        "       'Grd_Prod_CurPhse2_Avg', 'Grd_Prod_CurPhse3_Avg', 'Grd_Prod_Pwr_Max',\n",
        "       'Grd_Prod_Pwr_Min', 'Grd_Busbar_Temp_Avg', 'Rtr_RPM_Std', \n",
        "       'Amb_WindSpeed_Est_Avg', 'Grd_Prod_Pwr_Std', 'Grd_Prod_ReactPwr_Avg',\n",
        "       'Grd_Prod_ReactPwr_Max', 'Grd_Prod_ReactPwr_Min',\n",
        "       'Grd_Prod_ReactPwr_Std', 'Grd_Prod_PsblePwr_Avg',\n",
        "       'Grd_Prod_PsblePwr_Max', 'Grd_Prod_PsblePwr_Min',\n",
        "       'Grd_Prod_PsblePwr_Std', 'Grd_Prod_PsbleInd_Avg',\n",
        "       'Grd_Prod_PsbleInd_Max', 'Grd_Prod_PsbleInd_Min',\n",
        "       'Grd_Prod_PsbleInd_Std', 'Grd_Prod_PsbleCap_Avg',\n",
        "       'Grd_Prod_PsbleCap_Max', 'Grd_Prod_PsbleCap_Min',\n",
        "       'Grd_Prod_PsbleCap_Std', 'Gen_Bear2_Temp_Avg'], inplace=True)"
      ],
      "execution_count": null,
      "outputs": []
    },
    {
      "cell_type": "code",
      "metadata": {
        "id": "kE2LZTEoKdsC"
      },
      "source": [
        "# dataset.drop(columns=['Turbine_ID', 'Timestamp', 'Gen_RPM_Max', 'Gen_RPM_Min', 'Rtr_RPM_Max', 'Rtr_RPM_Min', 'Amb_WindSpeed_Max',\n",
        "#        'Amb_WindSpeed_Min', 'Amb_WindDir_Abs_Avg', 'Prod_LatestAvg_TotActPwr', 'Prod_LatestAvg_TotReactPwr', 'Blds_PitchAngle_Min',\n",
        "#        'Blds_PitchAngle_Max', 'Grd_Prod_Pwr_Max', 'Grd_Prod_Pwr_Min', 'Grd_Prod_ReactPwr_Max', 'Grd_Prod_ReactPwr_Min',\n",
        "#        'Grd_Prod_PsblePwr_Max', 'Grd_Prod_PsblePwr_Min', 'Grd_Prod_PsbleInd_Max',\n",
        "#        'Grd_Prod_PsbleInd_Min', 'Grd_Prod_PsbleCap_Max', 'Grd_Prod_PsbleCap_Min'], inplace=True)"
      ],
      "execution_count": null,
      "outputs": []
    },
    {
      "cell_type": "code",
      "metadata": {
        "colab": {
          "base_uri": "https://localhost:8080/"
        },
        "id": "G9izYmgdKkZa",
        "outputId": "9b242845-d22c-4f09-9394-efe15ecca66b"
      },
      "source": [
        "print(dataset.columns)\n",
        "print('-----------')\n",
        "print(dataset.columns.shape)"
      ],
      "execution_count": null,
      "outputs": [
        {
          "output_type": "stream",
          "name": "stdout",
          "text": [
            "Index(['Gen_RPM_Avg', 'Gen_RPM_Std', 'Gen_Bear_Temp_Avg', 'Gear_Oil_Temp_Avg',\n",
            "       'Gear_Bear_Temp_Avg', 'Nac_Temp_Avg', 'Rtr_RPM_Avg',\n",
            "       'Amb_WindSpeed_Avg', 'Amb_WindSpeed_Std', 'Amb_Temp_Avg',\n",
            "       'Prod_LatestAvg_ActPwrGen0', 'Prod_LatestAvg_TotActPwr',\n",
            "       'Cont_Top_Temp_Avg', 'Cont_Hub_Temp_Avg', 'Cont_VCP_Temp_Avg',\n",
            "       'Spin_Temp_Avg', 'Grd_Prod_Pwr_Avg', 'Nac_Direction_Avg'],\n",
            "      dtype='object')\n",
            "-----------\n",
            "(18,)\n"
          ]
        }
      ]
    },
    {
      "cell_type": "code",
      "metadata": {
        "colab": {
          "base_uri": "https://localhost:8080/",
          "height": 226
        },
        "id": "2c5An8RUM-TH",
        "outputId": "3cce78c4-2b53-4f91-fa68-d407c2b165b4"
      },
      "source": [
        "dataset.head()"
      ],
      "execution_count": null,
      "outputs": [
        {
          "output_type": "execute_result",
          "data": {
            "text/html": [
              "<div>\n",
              "<style scoped>\n",
              "    .dataframe tbody tr th:only-of-type {\n",
              "        vertical-align: middle;\n",
              "    }\n",
              "\n",
              "    .dataframe tbody tr th {\n",
              "        vertical-align: top;\n",
              "    }\n",
              "\n",
              "    .dataframe thead th {\n",
              "        text-align: right;\n",
              "    }\n",
              "</style>\n",
              "<table border=\"1\" class=\"dataframe\">\n",
              "  <thead>\n",
              "    <tr style=\"text-align: right;\">\n",
              "      <th></th>\n",
              "      <th>Gen_RPM_Avg</th>\n",
              "      <th>Gen_RPM_Std</th>\n",
              "      <th>Gen_Bear_Temp_Avg</th>\n",
              "      <th>Gear_Oil_Temp_Avg</th>\n",
              "      <th>Gear_Bear_Temp_Avg</th>\n",
              "      <th>Nac_Temp_Avg</th>\n",
              "      <th>Rtr_RPM_Avg</th>\n",
              "      <th>Amb_WindSpeed_Avg</th>\n",
              "      <th>Amb_WindSpeed_Std</th>\n",
              "      <th>Amb_Temp_Avg</th>\n",
              "      <th>Prod_LatestAvg_ActPwrGen0</th>\n",
              "      <th>Prod_LatestAvg_TotActPwr</th>\n",
              "      <th>Cont_Top_Temp_Avg</th>\n",
              "      <th>Cont_Hub_Temp_Avg</th>\n",
              "      <th>Cont_VCP_Temp_Avg</th>\n",
              "      <th>Spin_Temp_Avg</th>\n",
              "      <th>Grd_Prod_Pwr_Avg</th>\n",
              "      <th>Nac_Direction_Avg</th>\n",
              "    </tr>\n",
              "  </thead>\n",
              "  <tbody>\n",
              "    <tr>\n",
              "      <th>0</th>\n",
              "      <td>1249.0</td>\n",
              "      <td>9.0</td>\n",
              "      <td>41.0</td>\n",
              "      <td>44</td>\n",
              "      <td>48</td>\n",
              "      <td>28</td>\n",
              "      <td>11.1</td>\n",
              "      <td>3.3</td>\n",
              "      <td>0.9</td>\n",
              "      <td>18</td>\n",
              "      <td>-107</td>\n",
              "      <td>4313</td>\n",
              "      <td>39</td>\n",
              "      <td>28</td>\n",
              "      <td>43</td>\n",
              "      <td>20</td>\n",
              "      <td>26.2</td>\n",
              "      <td>218.5</td>\n",
              "    </tr>\n",
              "    <tr>\n",
              "      <th>1</th>\n",
              "      <td>999.7</td>\n",
              "      <td>435.9</td>\n",
              "      <td>41.0</td>\n",
              "      <td>44</td>\n",
              "      <td>48</td>\n",
              "      <td>28</td>\n",
              "      <td>8.8</td>\n",
              "      <td>3.2</td>\n",
              "      <td>0.9</td>\n",
              "      <td>18</td>\n",
              "      <td>-753</td>\n",
              "      <td>1735</td>\n",
              "      <td>39</td>\n",
              "      <td>28</td>\n",
              "      <td>42</td>\n",
              "      <td>20</td>\n",
              "      <td>10.1</td>\n",
              "      <td>218.5</td>\n",
              "    </tr>\n",
              "    <tr>\n",
              "      <th>2</th>\n",
              "      <td>774.0</td>\n",
              "      <td>486.1</td>\n",
              "      <td>41.0</td>\n",
              "      <td>43</td>\n",
              "      <td>46</td>\n",
              "      <td>29</td>\n",
              "      <td>6.8</td>\n",
              "      <td>4.3</td>\n",
              "      <td>1.0</td>\n",
              "      <td>18</td>\n",
              "      <td>-784</td>\n",
              "      <td>9704</td>\n",
              "      <td>39</td>\n",
              "      <td>28</td>\n",
              "      <td>42</td>\n",
              "      <td>20</td>\n",
              "      <td>59.0</td>\n",
              "      <td>213.3</td>\n",
              "    </tr>\n",
              "    <tr>\n",
              "      <th>3</th>\n",
              "      <td>1257.1</td>\n",
              "      <td>17.0</td>\n",
              "      <td>40.0</td>\n",
              "      <td>44</td>\n",
              "      <td>48</td>\n",
              "      <td>28</td>\n",
              "      <td>11.1</td>\n",
              "      <td>4.4</td>\n",
              "      <td>1.1</td>\n",
              "      <td>18</td>\n",
              "      <td>0</td>\n",
              "      <td>22673</td>\n",
              "      <td>39</td>\n",
              "      <td>28</td>\n",
              "      <td>42</td>\n",
              "      <td>20</td>\n",
              "      <td>135.7</td>\n",
              "      <td>222.4</td>\n",
              "    </tr>\n",
              "    <tr>\n",
              "      <th>4</th>\n",
              "      <td>1257.7</td>\n",
              "      <td>18.0</td>\n",
              "      <td>40.0</td>\n",
              "      <td>44</td>\n",
              "      <td>48</td>\n",
              "      <td>28</td>\n",
              "      <td>11.1</td>\n",
              "      <td>4.1</td>\n",
              "      <td>1.2</td>\n",
              "      <td>18</td>\n",
              "      <td>-75</td>\n",
              "      <td>16506</td>\n",
              "      <td>39</td>\n",
              "      <td>28</td>\n",
              "      <td>42</td>\n",
              "      <td>20</td>\n",
              "      <td>98.9</td>\n",
              "      <td>222.4</td>\n",
              "    </tr>\n",
              "  </tbody>\n",
              "</table>\n",
              "</div>"
            ],
            "text/plain": [
              "   Gen_RPM_Avg  Gen_RPM_Std  ...  Grd_Prod_Pwr_Avg  Nac_Direction_Avg\n",
              "0       1249.0          9.0  ...              26.2              218.5\n",
              "1        999.7        435.9  ...              10.1              218.5\n",
              "2        774.0        486.1  ...              59.0              213.3\n",
              "3       1257.1         17.0  ...             135.7              222.4\n",
              "4       1257.7         18.0  ...              98.9              222.4\n",
              "\n",
              "[5 rows x 18 columns]"
            ]
          },
          "metadata": {},
          "execution_count": 14
        }
      ]
    },
    {
      "cell_type": "code",
      "metadata": {
        "colab": {
          "base_uri": "https://localhost:8080/",
          "height": 443
        },
        "id": "U9oPAuba0Sbx",
        "outputId": "15e3e11b-5c02-495e-8def-e06869d70f48"
      },
      "source": [
        "dataset"
      ],
      "execution_count": null,
      "outputs": [
        {
          "output_type": "execute_result",
          "data": {
            "text/html": [
              "<div>\n",
              "<style scoped>\n",
              "    .dataframe tbody tr th:only-of-type {\n",
              "        vertical-align: middle;\n",
              "    }\n",
              "\n",
              "    .dataframe tbody tr th {\n",
              "        vertical-align: top;\n",
              "    }\n",
              "\n",
              "    .dataframe thead th {\n",
              "        text-align: right;\n",
              "    }\n",
              "</style>\n",
              "<table border=\"1\" class=\"dataframe\">\n",
              "  <thead>\n",
              "    <tr style=\"text-align: right;\">\n",
              "      <th></th>\n",
              "      <th>Gen_RPM_Avg</th>\n",
              "      <th>Gen_RPM_Std</th>\n",
              "      <th>Gen_Bear_Temp_Avg</th>\n",
              "      <th>Gear_Oil_Temp_Avg</th>\n",
              "      <th>Gear_Bear_Temp_Avg</th>\n",
              "      <th>Nac_Temp_Avg</th>\n",
              "      <th>Rtr_RPM_Avg</th>\n",
              "      <th>Amb_WindSpeed_Avg</th>\n",
              "      <th>Amb_WindSpeed_Std</th>\n",
              "      <th>Amb_Temp_Avg</th>\n",
              "      <th>Prod_LatestAvg_ActPwrGen0</th>\n",
              "      <th>Prod_LatestAvg_TotActPwr</th>\n",
              "      <th>Cont_Top_Temp_Avg</th>\n",
              "      <th>Cont_Hub_Temp_Avg</th>\n",
              "      <th>Cont_VCP_Temp_Avg</th>\n",
              "      <th>Spin_Temp_Avg</th>\n",
              "      <th>Grd_Prod_Pwr_Avg</th>\n",
              "      <th>Nac_Direction_Avg</th>\n",
              "    </tr>\n",
              "  </thead>\n",
              "  <tbody>\n",
              "    <tr>\n",
              "      <th>0</th>\n",
              "      <td>1249.0</td>\n",
              "      <td>9.0</td>\n",
              "      <td>41.0</td>\n",
              "      <td>44</td>\n",
              "      <td>48</td>\n",
              "      <td>28</td>\n",
              "      <td>11.1</td>\n",
              "      <td>3.3</td>\n",
              "      <td>0.9</td>\n",
              "      <td>18</td>\n",
              "      <td>-107</td>\n",
              "      <td>4313</td>\n",
              "      <td>39</td>\n",
              "      <td>28</td>\n",
              "      <td>43</td>\n",
              "      <td>20</td>\n",
              "      <td>26.2</td>\n",
              "      <td>218.5</td>\n",
              "    </tr>\n",
              "    <tr>\n",
              "      <th>1</th>\n",
              "      <td>999.7</td>\n",
              "      <td>435.9</td>\n",
              "      <td>41.0</td>\n",
              "      <td>44</td>\n",
              "      <td>48</td>\n",
              "      <td>28</td>\n",
              "      <td>8.8</td>\n",
              "      <td>3.2</td>\n",
              "      <td>0.9</td>\n",
              "      <td>18</td>\n",
              "      <td>-753</td>\n",
              "      <td>1735</td>\n",
              "      <td>39</td>\n",
              "      <td>28</td>\n",
              "      <td>42</td>\n",
              "      <td>20</td>\n",
              "      <td>10.1</td>\n",
              "      <td>218.5</td>\n",
              "    </tr>\n",
              "    <tr>\n",
              "      <th>2</th>\n",
              "      <td>774.0</td>\n",
              "      <td>486.1</td>\n",
              "      <td>41.0</td>\n",
              "      <td>43</td>\n",
              "      <td>46</td>\n",
              "      <td>29</td>\n",
              "      <td>6.8</td>\n",
              "      <td>4.3</td>\n",
              "      <td>1.0</td>\n",
              "      <td>18</td>\n",
              "      <td>-784</td>\n",
              "      <td>9704</td>\n",
              "      <td>39</td>\n",
              "      <td>28</td>\n",
              "      <td>42</td>\n",
              "      <td>20</td>\n",
              "      <td>59.0</td>\n",
              "      <td>213.3</td>\n",
              "    </tr>\n",
              "    <tr>\n",
              "      <th>3</th>\n",
              "      <td>1257.1</td>\n",
              "      <td>17.0</td>\n",
              "      <td>40.0</td>\n",
              "      <td>44</td>\n",
              "      <td>48</td>\n",
              "      <td>28</td>\n",
              "      <td>11.1</td>\n",
              "      <td>4.4</td>\n",
              "      <td>1.1</td>\n",
              "      <td>18</td>\n",
              "      <td>0</td>\n",
              "      <td>22673</td>\n",
              "      <td>39</td>\n",
              "      <td>28</td>\n",
              "      <td>42</td>\n",
              "      <td>20</td>\n",
              "      <td>135.7</td>\n",
              "      <td>222.4</td>\n",
              "    </tr>\n",
              "    <tr>\n",
              "      <th>4</th>\n",
              "      <td>1257.7</td>\n",
              "      <td>18.0</td>\n",
              "      <td>40.0</td>\n",
              "      <td>44</td>\n",
              "      <td>48</td>\n",
              "      <td>28</td>\n",
              "      <td>11.1</td>\n",
              "      <td>4.1</td>\n",
              "      <td>1.2</td>\n",
              "      <td>18</td>\n",
              "      <td>-75</td>\n",
              "      <td>16506</td>\n",
              "      <td>39</td>\n",
              "      <td>28</td>\n",
              "      <td>42</td>\n",
              "      <td>20</td>\n",
              "      <td>98.9</td>\n",
              "      <td>222.4</td>\n",
              "    </tr>\n",
              "    <tr>\n",
              "      <th>...</th>\n",
              "      <td>...</td>\n",
              "      <td>...</td>\n",
              "      <td>...</td>\n",
              "      <td>...</td>\n",
              "      <td>...</td>\n",
              "      <td>...</td>\n",
              "      <td>...</td>\n",
              "      <td>...</td>\n",
              "      <td>...</td>\n",
              "      <td>...</td>\n",
              "      <td>...</td>\n",
              "      <td>...</td>\n",
              "      <td>...</td>\n",
              "      <td>...</td>\n",
              "      <td>...</td>\n",
              "      <td>...</td>\n",
              "      <td>...</td>\n",
              "      <td>...</td>\n",
              "    </tr>\n",
              "    <tr>\n",
              "      <th>87141</th>\n",
              "      <td>1249.4</td>\n",
              "      <td>9.5</td>\n",
              "      <td>43.0</td>\n",
              "      <td>50</td>\n",
              "      <td>53</td>\n",
              "      <td>34</td>\n",
              "      <td>11.1</td>\n",
              "      <td>4.3</td>\n",
              "      <td>0.9</td>\n",
              "      <td>26</td>\n",
              "      <td>0</td>\n",
              "      <td>18436</td>\n",
              "      <td>42</td>\n",
              "      <td>34</td>\n",
              "      <td>44</td>\n",
              "      <td>27</td>\n",
              "      <td>110.5</td>\n",
              "      <td>120.9</td>\n",
              "    </tr>\n",
              "    <tr>\n",
              "      <th>87142</th>\n",
              "      <td>1249.2</td>\n",
              "      <td>10.1</td>\n",
              "      <td>43.0</td>\n",
              "      <td>50</td>\n",
              "      <td>53</td>\n",
              "      <td>34</td>\n",
              "      <td>11.1</td>\n",
              "      <td>4.1</td>\n",
              "      <td>0.8</td>\n",
              "      <td>26</td>\n",
              "      <td>0</td>\n",
              "      <td>15328</td>\n",
              "      <td>42</td>\n",
              "      <td>34</td>\n",
              "      <td>44</td>\n",
              "      <td>27</td>\n",
              "      <td>91.8</td>\n",
              "      <td>115.7</td>\n",
              "    </tr>\n",
              "    <tr>\n",
              "      <th>87143</th>\n",
              "      <td>1249.2</td>\n",
              "      <td>5.2</td>\n",
              "      <td>44.0</td>\n",
              "      <td>49</td>\n",
              "      <td>52</td>\n",
              "      <td>34</td>\n",
              "      <td>11.1</td>\n",
              "      <td>4.0</td>\n",
              "      <td>0.9</td>\n",
              "      <td>26</td>\n",
              "      <td>-116</td>\n",
              "      <td>11245</td>\n",
              "      <td>42</td>\n",
              "      <td>34</td>\n",
              "      <td>44</td>\n",
              "      <td>27</td>\n",
              "      <td>67.5</td>\n",
              "      <td>112.8</td>\n",
              "    </tr>\n",
              "    <tr>\n",
              "      <th>87144</th>\n",
              "      <td>1249.7</td>\n",
              "      <td>7.5</td>\n",
              "      <td>45.0</td>\n",
              "      <td>49</td>\n",
              "      <td>53</td>\n",
              "      <td>34</td>\n",
              "      <td>11.1</td>\n",
              "      <td>4.4</td>\n",
              "      <td>0.7</td>\n",
              "      <td>26</td>\n",
              "      <td>0</td>\n",
              "      <td>14818</td>\n",
              "      <td>42</td>\n",
              "      <td>34</td>\n",
              "      <td>44</td>\n",
              "      <td>26</td>\n",
              "      <td>88.9</td>\n",
              "      <td>107.6</td>\n",
              "    </tr>\n",
              "    <tr>\n",
              "      <th>87145</th>\n",
              "      <td>1255.3</td>\n",
              "      <td>12.4</td>\n",
              "      <td>45.0</td>\n",
              "      <td>49</td>\n",
              "      <td>53</td>\n",
              "      <td>34</td>\n",
              "      <td>11.1</td>\n",
              "      <td>5.1</td>\n",
              "      <td>0.9</td>\n",
              "      <td>26</td>\n",
              "      <td>0</td>\n",
              "      <td>30541</td>\n",
              "      <td>42</td>\n",
              "      <td>34</td>\n",
              "      <td>45</td>\n",
              "      <td>26</td>\n",
              "      <td>183.9</td>\n",
              "      <td>109.5</td>\n",
              "    </tr>\n",
              "  </tbody>\n",
              "</table>\n",
              "<p>87146 rows × 18 columns</p>\n",
              "</div>"
            ],
            "text/plain": [
              "       Gen_RPM_Avg  Gen_RPM_Std  ...  Grd_Prod_Pwr_Avg  Nac_Direction_Avg\n",
              "0           1249.0          9.0  ...              26.2              218.5\n",
              "1            999.7        435.9  ...              10.1              218.5\n",
              "2            774.0        486.1  ...              59.0              213.3\n",
              "3           1257.1         17.0  ...             135.7              222.4\n",
              "4           1257.7         18.0  ...              98.9              222.4\n",
              "...            ...          ...  ...               ...                ...\n",
              "87141       1249.4          9.5  ...             110.5              120.9\n",
              "87142       1249.2         10.1  ...              91.8              115.7\n",
              "87143       1249.2          5.2  ...              67.5              112.8\n",
              "87144       1249.7          7.5  ...              88.9              107.6\n",
              "87145       1255.3         12.4  ...             183.9              109.5\n",
              "\n",
              "[87146 rows x 18 columns]"
            ]
          },
          "metadata": {},
          "execution_count": 15
        }
      ]
    },
    {
      "cell_type": "code",
      "metadata": {
        "colab": {
          "base_uri": "https://localhost:8080/"
        },
        "id": "UBvfNrxPNFYg",
        "outputId": "a51a75a6-3034-49ca-b104-398bb3de5f19"
      },
      "source": [
        "dataset.shape\n",
        "p = dataset['Gear_Oil_Temp_Avg']\n",
        "p"
      ],
      "execution_count": null,
      "outputs": [
        {
          "output_type": "execute_result",
          "data": {
            "text/plain": [
              "0        44\n",
              "1        44\n",
              "2        43\n",
              "3        44\n",
              "4        44\n",
              "         ..\n",
              "87141    50\n",
              "87142    50\n",
              "87143    49\n",
              "87144    49\n",
              "87145    49\n",
              "Name: Gear_Oil_Temp_Avg, Length: 87146, dtype: int64"
            ]
          },
          "metadata": {},
          "execution_count": 16
        }
      ]
    },
    {
      "cell_type": "code",
      "metadata": {
        "id": "YenrWJSJIveG"
      },
      "source": [
        "y=dataset['Prod_LatestAvg_TotActPwr']\n",
        "#y = (y - y.mean())/y.std()\n",
        "X=dataset['Amb_WindSpeed_Avg']\n",
        "#X = (X-X.mean())/X.std()\n",
        "z=dataset['Rtr_RPM_Avg']\n",
        "g = dataset['Gear_Oil_Temp_Avg']\n",
        "#g = (g-g.mean())/g.std()\n",
        "gb = dataset['Gear_Bear_Temp_Avg']"
      ],
      "execution_count": null,
      "outputs": []
    },
    {
      "cell_type": "markdown",
      "metadata": {
        "id": "2YEbku94HtIA"
      },
      "source": [
        "#NCA"
      ]
    },
    {
      "cell_type": "code",
      "metadata": {
        "id": "jFHYGI5-HWp0"
      },
      "source": [
        "from sklearn.neighbors import NeighborhoodComponentsAnalysis\n",
        "from sklearn.neighbors import KNeighborsClassifier\n",
        "#from sklearn.datasets import load_iris\n",
        "from sklearn.model_selection import train_test_split\n",
        "#X, y = load_iris(return_X_y=True)\n",
        "X_train, X_test, y_train, y_test = train_test_split(X, y,  test_size=0.7, random_state=42)\n",
        "g_train, g_test, y_train, y_test = train_test_split(g, y,  test_size=0.7, random_state=42)\n",
        "gb_train, gb_test, y_train, y_test = train_test_split(gb, y,  test_size=0.7, random_state=42)"
      ],
      "execution_count": null,
      "outputs": []
    },
    {
      "cell_type": "code",
      "metadata": {
        "id": "aOA5g7RFIdkZ",
        "colab": {
          "base_uri": "https://localhost:8080/",
          "height": 432
        },
        "outputId": "62fa276d-dbcb-4a48-ec21-0eb1fbd9de52"
      },
      "source": [
        "#NeighborhoodComponentsAnalysis(...)\n",
        "knn = KNeighborsClassifier(n_neighbors=3)\n",
        "knn.fit(X_train, y_train)\n",
        "\n",
        "#KNeighborsClassifier(...)\n",
        "print(knn.score(X_test, y_test))\n",
        "\n",
        "knn.fit(nca.transform(X_train), y_train)\n",
        "#KNeighborsClassifier(...)\n",
        "print(knn.score(nca.transform(X_test), y_test))"
      ],
      "execution_count": null,
      "outputs": [
        {
          "output_type": "error",
          "ename": "ValueError",
          "evalue": "ignored",
          "traceback": [
            "\u001b[0;31m---------------------------------------------------------------------------\u001b[0m",
            "\u001b[0;31mValueError\u001b[0m                                Traceback (most recent call last)",
            "\u001b[0;32m<ipython-input-24-9a544c71275d>\u001b[0m in \u001b[0;36m<module>\u001b[0;34m()\u001b[0m\n\u001b[1;32m      1\u001b[0m \u001b[0;31m#NeighborhoodComponentsAnalysis(...)\u001b[0m\u001b[0;34m\u001b[0m\u001b[0;34m\u001b[0m\u001b[0;34m\u001b[0m\u001b[0m\n\u001b[1;32m      2\u001b[0m \u001b[0mknn\u001b[0m \u001b[0;34m=\u001b[0m \u001b[0mKNeighborsClassifier\u001b[0m\u001b[0;34m(\u001b[0m\u001b[0mn_neighbors\u001b[0m\u001b[0;34m=\u001b[0m\u001b[0;36m3\u001b[0m\u001b[0;34m)\u001b[0m\u001b[0;34m\u001b[0m\u001b[0;34m\u001b[0m\u001b[0m\n\u001b[0;32m----> 3\u001b[0;31m \u001b[0mknn\u001b[0m\u001b[0;34m.\u001b[0m\u001b[0mfit\u001b[0m\u001b[0;34m(\u001b[0m\u001b[0mX_train\u001b[0m\u001b[0;34m,\u001b[0m \u001b[0my_train\u001b[0m\u001b[0;34m)\u001b[0m\u001b[0;34m\u001b[0m\u001b[0;34m\u001b[0m\u001b[0m\n\u001b[0m\u001b[1;32m      4\u001b[0m \u001b[0;34m\u001b[0m\u001b[0m\n\u001b[1;32m      5\u001b[0m \u001b[0;31m#KNeighborsClassifier(...)\u001b[0m\u001b[0;34m\u001b[0m\u001b[0;34m\u001b[0m\u001b[0;34m\u001b[0m\u001b[0m\n",
            "\u001b[0;32m/usr/local/lib/python3.7/dist-packages/sklearn/neighbors/_classification.py\u001b[0m in \u001b[0;36mfit\u001b[0;34m(self, X, y)\u001b[0m\n\u001b[1;32m    196\u001b[0m         \u001b[0mself\u001b[0m\u001b[0;34m.\u001b[0m\u001b[0mweights\u001b[0m \u001b[0;34m=\u001b[0m \u001b[0m_check_weights\u001b[0m\u001b[0;34m(\u001b[0m\u001b[0mself\u001b[0m\u001b[0;34m.\u001b[0m\u001b[0mweights\u001b[0m\u001b[0;34m)\u001b[0m\u001b[0;34m\u001b[0m\u001b[0;34m\u001b[0m\u001b[0m\n\u001b[1;32m    197\u001b[0m \u001b[0;34m\u001b[0m\u001b[0m\n\u001b[0;32m--> 198\u001b[0;31m         \u001b[0;32mreturn\u001b[0m \u001b[0mself\u001b[0m\u001b[0;34m.\u001b[0m\u001b[0m_fit\u001b[0m\u001b[0;34m(\u001b[0m\u001b[0mX\u001b[0m\u001b[0;34m,\u001b[0m \u001b[0my\u001b[0m\u001b[0;34m)\u001b[0m\u001b[0;34m\u001b[0m\u001b[0;34m\u001b[0m\u001b[0m\n\u001b[0m\u001b[1;32m    199\u001b[0m \u001b[0;34m\u001b[0m\u001b[0m\n\u001b[1;32m    200\u001b[0m     \u001b[0;32mdef\u001b[0m \u001b[0mpredict\u001b[0m\u001b[0;34m(\u001b[0m\u001b[0mself\u001b[0m\u001b[0;34m,\u001b[0m \u001b[0mX\u001b[0m\u001b[0;34m)\u001b[0m\u001b[0;34m:\u001b[0m\u001b[0;34m\u001b[0m\u001b[0;34m\u001b[0m\u001b[0m\n",
            "\u001b[0;32m/usr/local/lib/python3.7/dist-packages/sklearn/neighbors/_base.py\u001b[0m in \u001b[0;36m_fit\u001b[0;34m(self, X, y)\u001b[0m\n\u001b[1;32m    398\u001b[0m         \u001b[0;32mif\u001b[0m \u001b[0mself\u001b[0m\u001b[0;34m.\u001b[0m\u001b[0m_get_tags\u001b[0m\u001b[0;34m(\u001b[0m\u001b[0;34m)\u001b[0m\u001b[0;34m[\u001b[0m\u001b[0;34m\"requires_y\"\u001b[0m\u001b[0;34m]\u001b[0m\u001b[0;34m:\u001b[0m\u001b[0;34m\u001b[0m\u001b[0;34m\u001b[0m\u001b[0m\n\u001b[1;32m    399\u001b[0m             \u001b[0;32mif\u001b[0m \u001b[0;32mnot\u001b[0m \u001b[0misinstance\u001b[0m\u001b[0;34m(\u001b[0m\u001b[0mX\u001b[0m\u001b[0;34m,\u001b[0m \u001b[0;34m(\u001b[0m\u001b[0mKDTree\u001b[0m\u001b[0;34m,\u001b[0m \u001b[0mBallTree\u001b[0m\u001b[0;34m,\u001b[0m \u001b[0mNeighborsBase\u001b[0m\u001b[0;34m)\u001b[0m\u001b[0;34m)\u001b[0m\u001b[0;34m:\u001b[0m\u001b[0;34m\u001b[0m\u001b[0;34m\u001b[0m\u001b[0m\n\u001b[0;32m--> 400\u001b[0;31m                 \u001b[0mX\u001b[0m\u001b[0;34m,\u001b[0m \u001b[0my\u001b[0m \u001b[0;34m=\u001b[0m \u001b[0mself\u001b[0m\u001b[0;34m.\u001b[0m\u001b[0m_validate_data\u001b[0m\u001b[0;34m(\u001b[0m\u001b[0mX\u001b[0m\u001b[0;34m,\u001b[0m \u001b[0my\u001b[0m\u001b[0;34m,\u001b[0m \u001b[0maccept_sparse\u001b[0m\u001b[0;34m=\u001b[0m\u001b[0;34m\"csr\"\u001b[0m\u001b[0;34m,\u001b[0m \u001b[0mmulti_output\u001b[0m\u001b[0;34m=\u001b[0m\u001b[0;32mTrue\u001b[0m\u001b[0;34m)\u001b[0m\u001b[0;34m\u001b[0m\u001b[0;34m\u001b[0m\u001b[0m\n\u001b[0m\u001b[1;32m    401\u001b[0m \u001b[0;34m\u001b[0m\u001b[0m\n\u001b[1;32m    402\u001b[0m             \u001b[0;32mif\u001b[0m \u001b[0mis_classifier\u001b[0m\u001b[0;34m(\u001b[0m\u001b[0mself\u001b[0m\u001b[0;34m)\u001b[0m\u001b[0;34m:\u001b[0m\u001b[0;34m\u001b[0m\u001b[0;34m\u001b[0m\u001b[0m\n",
            "\u001b[0;32m/usr/local/lib/python3.7/dist-packages/sklearn/base.py\u001b[0m in \u001b[0;36m_validate_data\u001b[0;34m(self, X, y, reset, validate_separately, **check_params)\u001b[0m\n\u001b[1;32m    574\u001b[0m                 \u001b[0my\u001b[0m \u001b[0;34m=\u001b[0m \u001b[0mcheck_array\u001b[0m\u001b[0;34m(\u001b[0m\u001b[0my\u001b[0m\u001b[0;34m,\u001b[0m \u001b[0;34m**\u001b[0m\u001b[0mcheck_y_params\u001b[0m\u001b[0;34m)\u001b[0m\u001b[0;34m\u001b[0m\u001b[0;34m\u001b[0m\u001b[0m\n\u001b[1;32m    575\u001b[0m             \u001b[0;32melse\u001b[0m\u001b[0;34m:\u001b[0m\u001b[0;34m\u001b[0m\u001b[0;34m\u001b[0m\u001b[0m\n\u001b[0;32m--> 576\u001b[0;31m                 \u001b[0mX\u001b[0m\u001b[0;34m,\u001b[0m \u001b[0my\u001b[0m \u001b[0;34m=\u001b[0m \u001b[0mcheck_X_y\u001b[0m\u001b[0;34m(\u001b[0m\u001b[0mX\u001b[0m\u001b[0;34m,\u001b[0m \u001b[0my\u001b[0m\u001b[0;34m,\u001b[0m \u001b[0;34m**\u001b[0m\u001b[0mcheck_params\u001b[0m\u001b[0;34m)\u001b[0m\u001b[0;34m\u001b[0m\u001b[0;34m\u001b[0m\u001b[0m\n\u001b[0m\u001b[1;32m    577\u001b[0m             \u001b[0mout\u001b[0m \u001b[0;34m=\u001b[0m \u001b[0mX\u001b[0m\u001b[0;34m,\u001b[0m \u001b[0my\u001b[0m\u001b[0;34m\u001b[0m\u001b[0;34m\u001b[0m\u001b[0m\n\u001b[1;32m    578\u001b[0m \u001b[0;34m\u001b[0m\u001b[0m\n",
            "\u001b[0;32m/usr/local/lib/python3.7/dist-packages/sklearn/utils/validation.py\u001b[0m in \u001b[0;36mcheck_X_y\u001b[0;34m(X, y, accept_sparse, accept_large_sparse, dtype, order, copy, force_all_finite, ensure_2d, allow_nd, multi_output, ensure_min_samples, ensure_min_features, y_numeric, estimator)\u001b[0m\n\u001b[1;32m    966\u001b[0m         \u001b[0mensure_min_samples\u001b[0m\u001b[0;34m=\u001b[0m\u001b[0mensure_min_samples\u001b[0m\u001b[0;34m,\u001b[0m\u001b[0;34m\u001b[0m\u001b[0;34m\u001b[0m\u001b[0m\n\u001b[1;32m    967\u001b[0m         \u001b[0mensure_min_features\u001b[0m\u001b[0;34m=\u001b[0m\u001b[0mensure_min_features\u001b[0m\u001b[0;34m,\u001b[0m\u001b[0;34m\u001b[0m\u001b[0;34m\u001b[0m\u001b[0m\n\u001b[0;32m--> 968\u001b[0;31m         \u001b[0mestimator\u001b[0m\u001b[0;34m=\u001b[0m\u001b[0mestimator\u001b[0m\u001b[0;34m,\u001b[0m\u001b[0;34m\u001b[0m\u001b[0;34m\u001b[0m\u001b[0m\n\u001b[0m\u001b[1;32m    969\u001b[0m     )\n\u001b[1;32m    970\u001b[0m \u001b[0;34m\u001b[0m\u001b[0m\n",
            "\u001b[0;32m/usr/local/lib/python3.7/dist-packages/sklearn/utils/validation.py\u001b[0m in \u001b[0;36mcheck_array\u001b[0;34m(array, accept_sparse, accept_large_sparse, dtype, order, copy, force_all_finite, ensure_2d, allow_nd, ensure_min_samples, ensure_min_features, estimator)\u001b[0m\n\u001b[1;32m    763\u001b[0m                     \u001b[0;34m\"Reshape your data either using array.reshape(-1, 1) if \"\u001b[0m\u001b[0;34m\u001b[0m\u001b[0;34m\u001b[0m\u001b[0m\n\u001b[1;32m    764\u001b[0m                     \u001b[0;34m\"your data has a single feature or array.reshape(1, -1) \"\u001b[0m\u001b[0;34m\u001b[0m\u001b[0;34m\u001b[0m\u001b[0m\n\u001b[0;32m--> 765\u001b[0;31m                     \u001b[0;34m\"if it contains a single sample.\"\u001b[0m\u001b[0;34m.\u001b[0m\u001b[0mformat\u001b[0m\u001b[0;34m(\u001b[0m\u001b[0marray\u001b[0m\u001b[0;34m)\u001b[0m\u001b[0;34m\u001b[0m\u001b[0;34m\u001b[0m\u001b[0m\n\u001b[0m\u001b[1;32m    766\u001b[0m                 )\n\u001b[1;32m    767\u001b[0m \u001b[0;34m\u001b[0m\u001b[0m\n",
            "\u001b[0;31mValueError\u001b[0m: Expected 2D array, got 1D array instead:\narray=[10.9  7.7  3.1 ... 12.7  2.8  2.6].\nReshape your data either using array.reshape(-1, 1) if your data has a single feature or array.reshape(1, -1) if it contains a single sample."
          ]
        }
      ]
    },
    {
      "cell_type": "code",
      "metadata": {
        "id": "xIwT7fswJlXB",
        "colab": {
          "base_uri": "https://localhost:8080/"
        },
        "outputId": "d68f12e4-9af0-4c98-c03a-0bfdf33a7f05"
      },
      "source": [
        "print(X_train.size)\n",
        "print(y_train.size)\n",
        "print(X)"
      ],
      "execution_count": null,
      "outputs": [
        {
          "output_type": "stream",
          "name": "stdout",
          "text": [
            "26143\n",
            "26143\n",
            "0        3.3\n",
            "1        3.2\n",
            "2        4.3\n",
            "3        4.4\n",
            "4        4.1\n",
            "        ... \n",
            "87141    4.3\n",
            "87142    4.1\n",
            "87143    4.0\n",
            "87144    4.4\n",
            "87145    5.1\n",
            "Name: Amb_WindSpeed_Avg, Length: 87146, dtype: float64\n"
          ]
        }
      ]
    },
    {
      "cell_type": "markdown",
      "metadata": {
        "id": "JtbqRl5hP1op"
      },
      "source": [
        "#scatter plots"
      ]
    },
    {
      "cell_type": "code",
      "metadata": {
        "colab": {
          "base_uri": "https://localhost:8080/",
          "height": 378
        },
        "id": "1sI2V79TS8s8",
        "outputId": "e1e25633-0404-4513-b8cb-becf3b794f2a"
      },
      "source": [
        "plt.scatter(y_train,g_train, c='#17becf')\n",
        "plt.xlabel('Prod_LatestAvg_TotalActivePower(W)')\n",
        "plt.ylabel('Gear_Oil_Temperature_Avg(deg. C)')"
      ],
      "execution_count": null,
      "outputs": [
        {
          "output_type": "execute_result",
          "data": {
            "text/plain": [
              "Text(0, 0.5, 'Gear_Oil_Temperature_Avg(deg. C)')"
            ]
          },
          "metadata": {},
          "execution_count": 40
        },
        {
          "output_type": "display_data",
          "data": {
            "image/png": "[encoded data removed]",
            "text/plain": [
              "<Figure size 576x396 with 1 Axes>"
            ]
          },
          "metadata": {}
        }
      ]
    },
    {
      "cell_type": "code",
      "metadata": {
        "colab": {
          "base_uri": "https://localhost:8080/",
          "height": 382
        },
        "id": "xCeVsDin-2pq",
        "outputId": "47654fad-2513-4d86-a3da-48759e5ee992"
      },
      "source": [
        "plt.scatter(y_train,gb_train, c='#4ef80f')\n",
        "plt.xlabel('Prod_LatestAvg_TotalActivePower(W)')\n",
        "plt.ylabel('Gear_Bearing_Temperature_Avg(deg. C)')"
      ],
      "execution_count": null,
      "outputs": [
        {
          "output_type": "execute_result",
          "data": {
            "text/plain": [
              "Text(0, 0.5, 'Gear_Bearing_Temperature_Avg(deg. C)')"
            ]
          },
          "metadata": {},
          "execution_count": 49
        },
        {
          "output_type": "display_data",
          "data": {
            "image/png": "[encoded data removed]",
            "text/plain": [
              "<Figure size 576x396 with 1 Axes>"
            ]
          },
          "metadata": {}
        }
      ]
    },
    {
      "cell_type": "code",
      "metadata": {
        "id": "tH_1PbobRhfk"
      },
      "source": [
        "from sklearn.model_selection import train_test_split\n",
        "X_train, X_test, y_train, y_test = train_test_split(X, y, test_size = 0.9, random_state = 0)\n",
        "z_train, z_test = train_test_split(z, test_size = 0.9, random_state = 0)"
      ],
      "execution_count": null,
      "outputs": []
    },
    {
      "cell_type": "code",
      "metadata": {
        "colab": {
          "base_uri": "https://localhost:8080/"
        },
        "id": "kLjk71rxR-hh",
        "outputId": "99e54106-70c8-407a-f0d4-048d71ebd231"
      },
      "source": [
        "print(X_train.size)\n",
        "print(y_train.size)\n",
        "print(z_train.size)"
      ],
      "execution_count": null,
      "outputs": [
        {
          "output_type": "stream",
          "text": [
            "8714\n",
            "8714\n",
            "8714\n"
          ],
          "name": "stdout"
        }
      ]
    },
    {
      "cell_type": "code",
      "metadata": {
        "colab": {
          "base_uri": "https://localhost:8080/",
          "height": 361
        },
        "id": "p3jzUaNa6GUj",
        "outputId": "f8500357-7416-4b5c-957a-8d96fe24b304"
      },
      "source": [
        "# plt.scatter(X, z)\n",
        "#plt.plot(X_train, y_train)\n",
        "#plt.plot(X_train,y_train, 'k.')\n",
        "#plt.plot(X_train, z_train)\n",
        "\n",
        "# adding style theme in scatter plot\n",
        "plt.style.use('seaborn')\n",
        "\n",
        "#plt.scatter(z_train, y_train)\n",
        "\n",
        "plt.scatter(X_train, y_train, c=y_train, cmap='plasma')\n",
        "\n",
        "# adding vertical line in data co-ordinates\n",
        "plt.axvline(0, c='black', ls='--')\n",
        "  \n",
        "# adding horizontal line in data co-ordinates\n",
        "plt.axhline(0, c='black', ls='--')\n",
        "plt.xlabel('Power')\n",
        "plt.ylabel('Rotor Speed')\n",
        "# giving title to the plot\n",
        "plt.title(\"\")\n",
        "  \n",
        "# visualizing the mapping from values to colors\n",
        "plt.colorbar()\n",
        "plt.show()  "
      ],
      "execution_count": null,
      "outputs": [
        {
          "output_type": "display_data",
          "data": {
            "image/png": "[encoded data removed]",
            "text/plain": [
              "<Figure size 576x396 with 2 Axes>"
            ]
          },
          "metadata": {}
        }
      ]
    },
    {
      "cell_type": "code",
      "metadata": {
        "id": "Y4_lZYa8Uw5_"
      },
      "source": [
        "#fig, ax = plt.subplots()\n",
        "plt.scatter(X_train, y_train)\n",
        "#plt.plot(y_train,X_train, label='wind speed')\n",
        "#ax.holdon()\n",
        "#ax.scatter(y_train,z_train, label='RPM_Avg')\n",
        "plt.legend(loc='upper left')\n",
        "plt.xlabel('x')\n",
        "plt.ylabel('Amb_WindSpeed_Avg')\n",
        "plt.show()"
      ],
      "execution_count": null,
      "outputs": []
    }
  ]
}