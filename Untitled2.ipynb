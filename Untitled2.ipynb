{
  "nbformat": 4,
  "nbformat_minor": 0,
  "metadata": {
    "colab": {
      "name": "Untitled2.ipynb",
      "provenance": [],
      "mount_file_id": "1SyjdjKcpdNOkt3F89ZmaXwCB2avCHZla",
      "authorship_tag": "ABX9TyPLTzxwl9trHKfz5Y9DVSN8",
      "include_colab_link": true
    },
    "kernelspec": {
      "name": "python3",
      "display_name": "Python 3"
    },
    "language_info": {
      "name": "python"
    }
  },
  "cells": [
    {
      "cell_type": "markdown",
      "metadata": {
        "id": "view-in-github",
        "colab_type": "text"
      },
      "source": [
        "<a href=\"https://colab.research.google.com/github/adityab-28/WTurbine_FS_based_CM/blob/main/Untitled2.ipynb\" target=\"_parent\"><img src=\"https://colab.research.google.com/assets/colab-badge.svg\" alt=\"Open In Colab\"/></a>"
      ]
    },
    {
      "cell_type": "code",
      "metadata": {
        "id": "bDiooXhVUpfy"
      },
      "source": [
        "import numpy as np\n",
        "import pandas as pd\n",
        "import matplotlib.pyplot as plt"
      ],
      "execution_count": null,
      "outputs": []
    },
    {
      "cell_type": "code",
      "metadata": {
        "id": "IRjWGI6UU-9u"
      },
      "source": [
        "data = pd.read_csv('drive/MyDrive/new/T01(1).csv')\n",
        "data0 = pd.read_csv('drive/MyDrive/new/T01_1009.csv')"
      ],
      "execution_count": null,
      "outputs": []
    },
    {
      "cell_type": "code",
      "metadata": {
        "id": "BAf9G7SCWCIP",
        "colab": {
          "base_uri": "https://localhost:8080/",
          "height": 342
        },
        "outputId": "3c23a1e7-38c7-46b4-b094-bbaa00a13917"
      },
      "source": [
        "data.head()"
      ],
      "execution_count": null,
      "outputs": [
        {
          "output_type": "execute_result",
          "data": {
            "text/html": [
              "<div>\n",
              "<style scoped>\n",
              "    .dataframe tbody tr th:only-of-type {\n",
              "        vertical-align: middle;\n",
              "    }\n",
              "\n",
              "    .dataframe tbody tr th {\n",
              "        vertical-align: top;\n",
              "    }\n",
              "\n",
              "    .dataframe thead th {\n",
              "        text-align: right;\n",
              "    }\n",
              "</style>\n",
              "<table border=\"1\" class=\"dataframe\">\n",
              "  <thead>\n",
              "    <tr style=\"text-align: right;\">\n",
              "      <th></th>\n",
              "      <th>Turbine_ID</th>\n",
              "      <th>Timestamp</th>\n",
              "      <th>Gen_RPM_Max</th>\n",
              "      <th>Gen_RPM_Min</th>\n",
              "      <th>Gen_RPM_Avg</th>\n",
              "      <th>Gen_RPM_Std</th>\n",
              "      <th>Gen_Bear_Temp_Avg</th>\n",
              "      <th>Gen_Phase1_Temp_Avg</th>\n",
              "      <th>Gen_Phase2_Temp_Avg</th>\n",
              "      <th>Gen_Phase3_Temp_Avg</th>\n",
              "      <th>Hyd_Oil_Temp_Avg</th>\n",
              "      <th>Gear_Oil_Temp_Avg</th>\n",
              "      <th>Gear_Bear_Temp_Avg</th>\n",
              "      <th>Nac_Temp_Avg</th>\n",
              "      <th>Rtr_RPM_Max</th>\n",
              "      <th>Rtr_RPM_Min</th>\n",
              "      <th>Rtr_RPM_Avg</th>\n",
              "      <th>Amb_WindSpeed_Max</th>\n",
              "      <th>Amb_WindSpeed_Min</th>\n",
              "      <th>Amb_WindSpeed_Avg</th>\n",
              "      <th>Amb_WindSpeed_Std</th>\n",
              "      <th>Amb_WindDir_Relative_Avg</th>\n",
              "      <th>Amb_WindDir_Abs_Avg</th>\n",
              "      <th>Amb_Temp_Avg</th>\n",
              "      <th>Prod_LatestAvg_ActPwrGen0</th>\n",
              "      <th>Prod_LatestAvg_ActPwrGen1</th>\n",
              "      <th>Prod_LatestAvg_ActPwrGen2</th>\n",
              "      <th>Prod_LatestAvg_TotActPwr</th>\n",
              "      <th>Prod_LatestAvg_ReactPwrGen0</th>\n",
              "      <th>Prod_LatestAvg_ReactPwrGen1</th>\n",
              "      <th>Prod_LatestAvg_ReactPwrGen2</th>\n",
              "      <th>Prod_LatestAvg_TotReactPwr</th>\n",
              "      <th>HVTrafo_Phase1_Temp_Avg</th>\n",
              "      <th>HVTrafo_Phase2_Temp_Avg</th>\n",
              "      <th>HVTrafo_Phase3_Temp_Avg</th>\n",
              "      <th>Grd_InverterPhase1_Temp_Avg</th>\n",
              "      <th>Cont_Top_Temp_Avg</th>\n",
              "      <th>Cont_Hub_Temp_Avg</th>\n",
              "      <th>Cont_VCP_Temp_Avg</th>\n",
              "      <th>Gen_SlipRing_Temp_Avg</th>\n",
              "      <th>...</th>\n",
              "      <th>Blds_PitchAngle_Avg</th>\n",
              "      <th>Blds_PitchAngle_Std</th>\n",
              "      <th>Cont_VCP_ChokcoilTemp_Avg</th>\n",
              "      <th>Grd_RtrInvPhase1_Temp_Avg</th>\n",
              "      <th>Grd_RtrInvPhase2_Temp_Avg</th>\n",
              "      <th>Grd_RtrInvPhase3_Temp_Avg</th>\n",
              "      <th>Cont_VCP_WtrTemp_Avg</th>\n",
              "      <th>Grd_Prod_Pwr_Avg</th>\n",
              "      <th>Grd_Prod_CosPhi_Avg</th>\n",
              "      <th>Grd_Prod_Freq_Avg</th>\n",
              "      <th>Grd_Prod_VoltPhse1_Avg</th>\n",
              "      <th>Grd_Prod_VoltPhse2_Avg</th>\n",
              "      <th>Grd_Prod_VoltPhse3_Avg</th>\n",
              "      <th>Grd_Prod_CurPhse1_Avg</th>\n",
              "      <th>Grd_Prod_CurPhse2_Avg</th>\n",
              "      <th>Grd_Prod_CurPhse3_Avg</th>\n",
              "      <th>Grd_Prod_Pwr_Max</th>\n",
              "      <th>Grd_Prod_Pwr_Min</th>\n",
              "      <th>Grd_Busbar_Temp_Avg</th>\n",
              "      <th>Rtr_RPM_Std</th>\n",
              "      <th>Amb_WindSpeed_Est_Avg</th>\n",
              "      <th>Grd_Prod_Pwr_Std</th>\n",
              "      <th>Grd_Prod_ReactPwr_Avg</th>\n",
              "      <th>Grd_Prod_ReactPwr_Max</th>\n",
              "      <th>Grd_Prod_ReactPwr_Min</th>\n",
              "      <th>Grd_Prod_ReactPwr_Std</th>\n",
              "      <th>Grd_Prod_PsblePwr_Avg</th>\n",
              "      <th>Grd_Prod_PsblePwr_Max</th>\n",
              "      <th>Grd_Prod_PsblePwr_Min</th>\n",
              "      <th>Grd_Prod_PsblePwr_Std</th>\n",
              "      <th>Grd_Prod_PsbleInd_Avg</th>\n",
              "      <th>Grd_Prod_PsbleInd_Max</th>\n",
              "      <th>Grd_Prod_PsbleInd_Min</th>\n",
              "      <th>Grd_Prod_PsbleInd_Std</th>\n",
              "      <th>Grd_Prod_PsbleCap_Avg</th>\n",
              "      <th>Grd_Prod_PsbleCap_Max</th>\n",
              "      <th>Grd_Prod_PsbleCap_Min</th>\n",
              "      <th>Grd_Prod_PsbleCap_Std</th>\n",
              "      <th>Gen_Bear2_Temp_Avg</th>\n",
              "      <th>Nac_Direction_Avg</th>\n",
              "    </tr>\n",
              "  </thead>\n",
              "  <tbody>\n",
              "    <tr>\n",
              "      <th>0</th>\n",
              "      <td>T01</td>\n",
              "      <td>2016-01-01T00:00:00+00:00</td>\n",
              "      <td>1277.4</td>\n",
              "      <td>1226.1</td>\n",
              "      <td>1249.0</td>\n",
              "      <td>9.0</td>\n",
              "      <td>41.0</td>\n",
              "      <td>58</td>\n",
              "      <td>59</td>\n",
              "      <td>58</td>\n",
              "      <td>30</td>\n",
              "      <td>44</td>\n",
              "      <td>48</td>\n",
              "      <td>28</td>\n",
              "      <td>11.3</td>\n",
              "      <td>10.9</td>\n",
              "      <td>11.1</td>\n",
              "      <td>11.6</td>\n",
              "      <td>0.5</td>\n",
              "      <td>3.3</td>\n",
              "      <td>0.9</td>\n",
              "      <td>-12.4</td>\n",
              "      <td>206.1</td>\n",
              "      <td>18</td>\n",
              "      <td>-107</td>\n",
              "      <td>4420</td>\n",
              "      <td>0</td>\n",
              "      <td>4313</td>\n",
              "      <td>-99</td>\n",
              "      <td>-5636</td>\n",
              "      <td>0</td>\n",
              "      <td>-5735</td>\n",
              "      <td>68</td>\n",
              "      <td>76</td>\n",
              "      <td>65</td>\n",
              "      <td>39</td>\n",
              "      <td>39</td>\n",
              "      <td>28</td>\n",
              "      <td>43</td>\n",
              "      <td>25</td>\n",
              "      <td>...</td>\n",
              "      <td>0.6</td>\n",
              "      <td>0.9</td>\n",
              "      <td>91</td>\n",
              "      <td>39</td>\n",
              "      <td>39</td>\n",
              "      <td>38</td>\n",
              "      <td>39</td>\n",
              "      <td>26.2</td>\n",
              "      <td>0.7</td>\n",
              "      <td>50.0</td>\n",
              "      <td>401.6</td>\n",
              "      <td>399.9</td>\n",
              "      <td>399.2</td>\n",
              "      <td>46.5</td>\n",
              "      <td>61.1</td>\n",
              "      <td>45.5</td>\n",
              "      <td>118.4</td>\n",
              "      <td>-33.5</td>\n",
              "      <td>38</td>\n",
              "      <td>0.1</td>\n",
              "      <td>3.6</td>\n",
              "      <td>35.3</td>\n",
              "      <td>-34.9</td>\n",
              "      <td>13.2</td>\n",
              "      <td>-100.0</td>\n",
              "      <td>36.2</td>\n",
              "      <td>29.4</td>\n",
              "      <td>119.3</td>\n",
              "      <td>0.0</td>\n",
              "      <td>31.9</td>\n",
              "      <td>-144.4</td>\n",
              "      <td>0.0</td>\n",
              "      <td>-584.5</td>\n",
              "      <td>157.1</td>\n",
              "      <td>144.4</td>\n",
              "      <td>584.5</td>\n",
              "      <td>0.0</td>\n",
              "      <td>157.1</td>\n",
              "      <td>37</td>\n",
              "      <td>218.5</td>\n",
              "    </tr>\n",
              "    <tr>\n",
              "      <th>1</th>\n",
              "      <td>T01</td>\n",
              "      <td>2016-01-01T00:10:00+00:00</td>\n",
              "      <td>1268.3</td>\n",
              "      <td>93.3</td>\n",
              "      <td>999.7</td>\n",
              "      <td>435.9</td>\n",
              "      <td>41.0</td>\n",
              "      <td>58</td>\n",
              "      <td>59</td>\n",
              "      <td>59</td>\n",
              "      <td>30</td>\n",
              "      <td>44</td>\n",
              "      <td>48</td>\n",
              "      <td>28</td>\n",
              "      <td>11.2</td>\n",
              "      <td>0.0</td>\n",
              "      <td>8.8</td>\n",
              "      <td>12.5</td>\n",
              "      <td>0.4</td>\n",
              "      <td>3.2</td>\n",
              "      <td>0.9</td>\n",
              "      <td>-1.1</td>\n",
              "      <td>217.4</td>\n",
              "      <td>18</td>\n",
              "      <td>-753</td>\n",
              "      <td>2488</td>\n",
              "      <td>0</td>\n",
              "      <td>1735</td>\n",
              "      <td>-867</td>\n",
              "      <td>-3871</td>\n",
              "      <td>0</td>\n",
              "      <td>-4738</td>\n",
              "      <td>68</td>\n",
              "      <td>76</td>\n",
              "      <td>65</td>\n",
              "      <td>38</td>\n",
              "      <td>39</td>\n",
              "      <td>28</td>\n",
              "      <td>42</td>\n",
              "      <td>25</td>\n",
              "      <td>...</td>\n",
              "      <td>8.1</td>\n",
              "      <td>14.7</td>\n",
              "      <td>91</td>\n",
              "      <td>37</td>\n",
              "      <td>36</td>\n",
              "      <td>37</td>\n",
              "      <td>37</td>\n",
              "      <td>10.1</td>\n",
              "      <td>0.7</td>\n",
              "      <td>50.0</td>\n",
              "      <td>401.9</td>\n",
              "      <td>400.7</td>\n",
              "      <td>399.5</td>\n",
              "      <td>34.3</td>\n",
              "      <td>41.9</td>\n",
              "      <td>33.6</td>\n",
              "      <td>101.5</td>\n",
              "      <td>-38.2</td>\n",
              "      <td>38</td>\n",
              "      <td>4.0</td>\n",
              "      <td>3.3</td>\n",
              "      <td>30.2</td>\n",
              "      <td>-28.0</td>\n",
              "      <td>1.8</td>\n",
              "      <td>-100.1</td>\n",
              "      <td>34.6</td>\n",
              "      <td>21.7</td>\n",
              "      <td>102.3</td>\n",
              "      <td>0.0</td>\n",
              "      <td>24.7</td>\n",
              "      <td>-79.6</td>\n",
              "      <td>0.0</td>\n",
              "      <td>-501.0</td>\n",
              "      <td>123.7</td>\n",
              "      <td>79.6</td>\n",
              "      <td>501.0</td>\n",
              "      <td>0.0</td>\n",
              "      <td>123.7</td>\n",
              "      <td>37</td>\n",
              "      <td>218.5</td>\n",
              "    </tr>\n",
              "    <tr>\n",
              "      <th>2</th>\n",
              "      <td>T01</td>\n",
              "      <td>2016-01-01T00:20:00+00:00</td>\n",
              "      <td>1394.4</td>\n",
              "      <td>220.3</td>\n",
              "      <td>774.0</td>\n",
              "      <td>486.1</td>\n",
              "      <td>41.0</td>\n",
              "      <td>57</td>\n",
              "      <td>57</td>\n",
              "      <td>57</td>\n",
              "      <td>30</td>\n",
              "      <td>43</td>\n",
              "      <td>46</td>\n",
              "      <td>29</td>\n",
              "      <td>12.3</td>\n",
              "      <td>1.9</td>\n",
              "      <td>6.8</td>\n",
              "      <td>8.8</td>\n",
              "      <td>0.7</td>\n",
              "      <td>4.3</td>\n",
              "      <td>1.0</td>\n",
              "      <td>-5.8</td>\n",
              "      <td>207.4</td>\n",
              "      <td>18</td>\n",
              "      <td>-784</td>\n",
              "      <td>10488</td>\n",
              "      <td>0</td>\n",
              "      <td>9704</td>\n",
              "      <td>-410</td>\n",
              "      <td>-1865</td>\n",
              "      <td>0</td>\n",
              "      <td>-2275</td>\n",
              "      <td>68</td>\n",
              "      <td>76</td>\n",
              "      <td>65</td>\n",
              "      <td>39</td>\n",
              "      <td>39</td>\n",
              "      <td>28</td>\n",
              "      <td>42</td>\n",
              "      <td>25</td>\n",
              "      <td>...</td>\n",
              "      <td>10.4</td>\n",
              "      <td>12.4</td>\n",
              "      <td>87</td>\n",
              "      <td>38</td>\n",
              "      <td>37</td>\n",
              "      <td>37</td>\n",
              "      <td>38</td>\n",
              "      <td>59.0</td>\n",
              "      <td>0.7</td>\n",
              "      <td>50.0</td>\n",
              "      <td>401.4</td>\n",
              "      <td>400.5</td>\n",
              "      <td>398.8</td>\n",
              "      <td>78.6</td>\n",
              "      <td>92.7</td>\n",
              "      <td>86.1</td>\n",
              "      <td>219.4</td>\n",
              "      <td>-34.1</td>\n",
              "      <td>38</td>\n",
              "      <td>4.3</td>\n",
              "      <td>4.1</td>\n",
              "      <td>77.5</td>\n",
              "      <td>-13.9</td>\n",
              "      <td>999.9</td>\n",
              "      <td>-108.1</td>\n",
              "      <td>154.8</td>\n",
              "      <td>88.9</td>\n",
              "      <td>224.9</td>\n",
              "      <td>0.0</td>\n",
              "      <td>54.3</td>\n",
              "      <td>-314.0</td>\n",
              "      <td>0.0</td>\n",
              "      <td>-1000.0</td>\n",
              "      <td>357.4</td>\n",
              "      <td>314.0</td>\n",
              "      <td>1000.0</td>\n",
              "      <td>0.0</td>\n",
              "      <td>357.4</td>\n",
              "      <td>37</td>\n",
              "      <td>213.3</td>\n",
              "    </tr>\n",
              "    <tr>\n",
              "      <th>3</th>\n",
              "      <td>T01</td>\n",
              "      <td>2016-01-01T00:30:00+00:00</td>\n",
              "      <td>1306.6</td>\n",
              "      <td>1212.4</td>\n",
              "      <td>1257.1</td>\n",
              "      <td>17.0</td>\n",
              "      <td>40.0</td>\n",
              "      <td>56</td>\n",
              "      <td>57</td>\n",
              "      <td>57</td>\n",
              "      <td>30</td>\n",
              "      <td>44</td>\n",
              "      <td>48</td>\n",
              "      <td>28</td>\n",
              "      <td>11.5</td>\n",
              "      <td>10.7</td>\n",
              "      <td>11.1</td>\n",
              "      <td>9.9</td>\n",
              "      <td>0.7</td>\n",
              "      <td>4.4</td>\n",
              "      <td>1.1</td>\n",
              "      <td>9.6</td>\n",
              "      <td>232.0</td>\n",
              "      <td>18</td>\n",
              "      <td>0</td>\n",
              "      <td>22673</td>\n",
              "      <td>0</td>\n",
              "      <td>22673</td>\n",
              "      <td>0</td>\n",
              "      <td>-15822</td>\n",
              "      <td>0</td>\n",
              "      <td>-15822</td>\n",
              "      <td>68</td>\n",
              "      <td>76</td>\n",
              "      <td>65</td>\n",
              "      <td>39</td>\n",
              "      <td>39</td>\n",
              "      <td>28</td>\n",
              "      <td>42</td>\n",
              "      <td>25</td>\n",
              "      <td>...</td>\n",
              "      <td>-0.5</td>\n",
              "      <td>0.8</td>\n",
              "      <td>87</td>\n",
              "      <td>38</td>\n",
              "      <td>38</td>\n",
              "      <td>38</td>\n",
              "      <td>38</td>\n",
              "      <td>135.7</td>\n",
              "      <td>0.8</td>\n",
              "      <td>50.0</td>\n",
              "      <td>399.7</td>\n",
              "      <td>398.1</td>\n",
              "      <td>396.9</td>\n",
              "      <td>128.1</td>\n",
              "      <td>160.8</td>\n",
              "      <td>136.8</td>\n",
              "      <td>250.3</td>\n",
              "      <td>-27.7</td>\n",
              "      <td>38</td>\n",
              "      <td>0.1</td>\n",
              "      <td>4.6</td>\n",
              "      <td>53.9</td>\n",
              "      <td>-94.9</td>\n",
              "      <td>0.0</td>\n",
              "      <td>-105.1</td>\n",
              "      <td>18.4</td>\n",
              "      <td>135.3</td>\n",
              "      <td>261.4</td>\n",
              "      <td>0.0</td>\n",
              "      <td>53.1</td>\n",
              "      <td>-654.0</td>\n",
              "      <td>0.0</td>\n",
              "      <td>-1000.0</td>\n",
              "      <td>245.8</td>\n",
              "      <td>654.0</td>\n",
              "      <td>1000.0</td>\n",
              "      <td>0.0</td>\n",
              "      <td>245.8</td>\n",
              "      <td>36</td>\n",
              "      <td>222.4</td>\n",
              "    </tr>\n",
              "    <tr>\n",
              "      <th>4</th>\n",
              "      <td>T01</td>\n",
              "      <td>2016-01-01T00:40:00+00:00</td>\n",
              "      <td>1320.9</td>\n",
              "      <td>1224.1</td>\n",
              "      <td>1257.7</td>\n",
              "      <td>18.0</td>\n",
              "      <td>40.0</td>\n",
              "      <td>57</td>\n",
              "      <td>58</td>\n",
              "      <td>57</td>\n",
              "      <td>30</td>\n",
              "      <td>44</td>\n",
              "      <td>48</td>\n",
              "      <td>28</td>\n",
              "      <td>11.7</td>\n",
              "      <td>10.8</td>\n",
              "      <td>11.1</td>\n",
              "      <td>9.9</td>\n",
              "      <td>0.8</td>\n",
              "      <td>4.1</td>\n",
              "      <td>1.2</td>\n",
              "      <td>23.3</td>\n",
              "      <td>245.6</td>\n",
              "      <td>18</td>\n",
              "      <td>-75</td>\n",
              "      <td>16581</td>\n",
              "      <td>0</td>\n",
              "      <td>16506</td>\n",
              "      <td>-79</td>\n",
              "      <td>-13314</td>\n",
              "      <td>0</td>\n",
              "      <td>-13394</td>\n",
              "      <td>68</td>\n",
              "      <td>76</td>\n",
              "      <td>65</td>\n",
              "      <td>39</td>\n",
              "      <td>39</td>\n",
              "      <td>28</td>\n",
              "      <td>42</td>\n",
              "      <td>25</td>\n",
              "      <td>...</td>\n",
              "      <td>-0.1</td>\n",
              "      <td>1.2</td>\n",
              "      <td>88</td>\n",
              "      <td>39</td>\n",
              "      <td>38</td>\n",
              "      <td>38</td>\n",
              "      <td>39</td>\n",
              "      <td>98.9</td>\n",
              "      <td>0.7</td>\n",
              "      <td>50.0</td>\n",
              "      <td>399.5</td>\n",
              "      <td>397.9</td>\n",
              "      <td>396.8</td>\n",
              "      <td>104.7</td>\n",
              "      <td>130.3</td>\n",
              "      <td>108.3</td>\n",
              "      <td>212.5</td>\n",
              "      <td>-50.2</td>\n",
              "      <td>38</td>\n",
              "      <td>0.2</td>\n",
              "      <td>4.3</td>\n",
              "      <td>65.9</td>\n",
              "      <td>-80.3</td>\n",
              "      <td>17.8</td>\n",
              "      <td>-107.1</td>\n",
              "      <td>35.8</td>\n",
              "      <td>102.7</td>\n",
              "      <td>221.8</td>\n",
              "      <td>0.0</td>\n",
              "      <td>60.2</td>\n",
              "      <td>-496.1</td>\n",
              "      <td>0.0</td>\n",
              "      <td>-1000.0</td>\n",
              "      <td>302.7</td>\n",
              "      <td>496.1</td>\n",
              "      <td>1000.0</td>\n",
              "      <td>0.0</td>\n",
              "      <td>302.7</td>\n",
              "      <td>36</td>\n",
              "      <td>222.4</td>\n",
              "    </tr>\n",
              "  </tbody>\n",
              "</table>\n",
              "<p>5 rows × 83 columns</p>\n",
              "</div>"
            ],
            "text/plain": [
              "  Turbine_ID                  Timestamp  ...  Gen_Bear2_Temp_Avg  Nac_Direction_Avg\n",
              "0        T01  2016-01-01T00:00:00+00:00  ...                  37              218.5\n",
              "1        T01  2016-01-01T00:10:00+00:00  ...                  37              218.5\n",
              "2        T01  2016-01-01T00:20:00+00:00  ...                  37              213.3\n",
              "3        T01  2016-01-01T00:30:00+00:00  ...                  36              222.4\n",
              "4        T01  2016-01-01T00:40:00+00:00  ...                  36              222.4\n",
              "\n",
              "[5 rows x 83 columns]"
            ]
          },
          "metadata": {},
          "execution_count": 3
        }
      ]
    },
    {
      "cell_type": "code",
      "metadata": {
        "id": "F88qEZCfWsit"
      },
      "source": [
        "timestamp = data['Timestamp']\n",
        "turbine_id = data['Turbine_ID']\n",
        "Y = data['Gear_Oil_Temp_Avg']\n",
        "data = data.drop(['Timestamp','Turbine_ID','Gear_Oil_Temp_Avg'], axis = 1)"
      ],
      "execution_count": null,
      "outputs": []
    },
    {
      "cell_type": "markdown",
      "metadata": {
        "id": "fiCysP6KqE7a"
      },
      "source": [
        "**PCA**"
      ]
    },
    {
      "cell_type": "code",
      "metadata": {
        "id": "bd3th5liWWVt"
      },
      "source": [
        "from sklearn.decomposition import KernelPCA"
      ],
      "execution_count": null,
      "outputs": []
    },
    {
      "cell_type": "code",
      "metadata": {
        "colab": {
          "base_uri": "https://localhost:8080/",
          "height": 346
        },
        "id": "-wYvcaubuJY9",
        "outputId": "bb71cc6b-9515-45dd-b275-a59fc99ce3d9"
      },
      "source": [
        "mtransformer = KernelPCA(n_components=7, kernel='linear')\n",
        "x_transformed = transformer.fit_transform(data)\n",
        "x_transformed.shape"
      ],
      "execution_count": null,
      "outputs": [
        {
          "output_type": "error",
          "ename": "ValueError",
          "evalue": "ignored",
          "traceback": [
            "\u001b[0;31m---------------------------------------------------------------------------\u001b[0m",
            "\u001b[0;31mValueError\u001b[0m                                Traceback (most recent call last)",
            "\u001b[0;32m<ipython-input-6-c172a098a9bb>\u001b[0m in \u001b[0;36m<module>\u001b[0;34m()\u001b[0m\n\u001b[1;32m      1\u001b[0m \u001b[0mtransformer\u001b[0m \u001b[0;34m=\u001b[0m \u001b[0mKernelPCA\u001b[0m\u001b[0;34m(\u001b[0m\u001b[0mn_components\u001b[0m\u001b[0;34m=\u001b[0m\u001b[0;36m7\u001b[0m\u001b[0;34m,\u001b[0m \u001b[0mkernel\u001b[0m\u001b[0;34m=\u001b[0m\u001b[0;34m'linear'\u001b[0m\u001b[0;34m)\u001b[0m\u001b[0;34m\u001b[0m\u001b[0;34m\u001b[0m\u001b[0m\n\u001b[0;32m----> 2\u001b[0;31m \u001b[0mx_transformed\u001b[0m \u001b[0;34m=\u001b[0m \u001b[0mtransformer\u001b[0m\u001b[0;34m.\u001b[0m\u001b[0mfit_transform\u001b[0m\u001b[0;34m(\u001b[0m\u001b[0mdata\u001b[0m\u001b[0;34m)\u001b[0m\u001b[0;34m\u001b[0m\u001b[0;34m\u001b[0m\u001b[0m\n\u001b[0m\u001b[1;32m      3\u001b[0m \u001b[0mx_transformed\u001b[0m\u001b[0;34m.\u001b[0m\u001b[0mshape\u001b[0m\u001b[0;34m\u001b[0m\u001b[0;34m\u001b[0m\u001b[0m\n",
            "\u001b[0;32m/usr/local/lib/python3.7/dist-packages/sklearn/decomposition/_kernel_pca.py\u001b[0m in \u001b[0;36mfit_transform\u001b[0;34m(self, X, y, **params)\u001b[0m\n\u001b[1;32m    454\u001b[0m             \u001b[0mReturns\u001b[0m \u001b[0mthe\u001b[0m \u001b[0minstance\u001b[0m \u001b[0mitself\u001b[0m\u001b[0;34m.\u001b[0m\u001b[0;34m\u001b[0m\u001b[0;34m\u001b[0m\u001b[0m\n\u001b[1;32m    455\u001b[0m         \"\"\"\n\u001b[0;32m--> 456\u001b[0;31m         \u001b[0mself\u001b[0m\u001b[0;34m.\u001b[0m\u001b[0mfit\u001b[0m\u001b[0;34m(\u001b[0m\u001b[0mX\u001b[0m\u001b[0;34m,\u001b[0m \u001b[0;34m**\u001b[0m\u001b[0mparams\u001b[0m\u001b[0;34m)\u001b[0m\u001b[0;34m\u001b[0m\u001b[0;34m\u001b[0m\u001b[0m\n\u001b[0m\u001b[1;32m    457\u001b[0m \u001b[0;34m\u001b[0m\u001b[0m\n\u001b[1;32m    458\u001b[0m         \u001b[0;31m# no need to use the kernel to transform X, use shortcut expression\u001b[0m\u001b[0;34m\u001b[0m\u001b[0;34m\u001b[0m\u001b[0;34m\u001b[0m\u001b[0m\n",
            "\u001b[0;32m/usr/local/lib/python3.7/dist-packages/sklearn/decomposition/_kernel_pca.py\u001b[0m in \u001b[0;36mfit\u001b[0;34m(self, X, y)\u001b[0m\n\u001b[1;32m    419\u001b[0m             \u001b[0mReturns\u001b[0m \u001b[0mthe\u001b[0m \u001b[0minstance\u001b[0m \u001b[0mitself\u001b[0m\u001b[0;34m.\u001b[0m\u001b[0;34m\u001b[0m\u001b[0;34m\u001b[0m\u001b[0m\n\u001b[1;32m    420\u001b[0m         \"\"\"\n\u001b[0;32m--> 421\u001b[0;31m         \u001b[0mX\u001b[0m \u001b[0;34m=\u001b[0m \u001b[0mself\u001b[0m\u001b[0;34m.\u001b[0m\u001b[0m_validate_data\u001b[0m\u001b[0;34m(\u001b[0m\u001b[0mX\u001b[0m\u001b[0;34m,\u001b[0m \u001b[0maccept_sparse\u001b[0m\u001b[0;34m=\u001b[0m\u001b[0;34m\"csr\"\u001b[0m\u001b[0;34m,\u001b[0m \u001b[0mcopy\u001b[0m\u001b[0;34m=\u001b[0m\u001b[0mself\u001b[0m\u001b[0;34m.\u001b[0m\u001b[0mcopy_X\u001b[0m\u001b[0;34m)\u001b[0m\u001b[0;34m\u001b[0m\u001b[0;34m\u001b[0m\u001b[0m\n\u001b[0m\u001b[1;32m    422\u001b[0m         \u001b[0mself\u001b[0m\u001b[0;34m.\u001b[0m\u001b[0m_centerer\u001b[0m \u001b[0;34m=\u001b[0m \u001b[0mKernelCenterer\u001b[0m\u001b[0;34m(\u001b[0m\u001b[0;34m)\u001b[0m\u001b[0;34m\u001b[0m\u001b[0;34m\u001b[0m\u001b[0m\n\u001b[1;32m    423\u001b[0m         \u001b[0mK\u001b[0m \u001b[0;34m=\u001b[0m \u001b[0mself\u001b[0m\u001b[0;34m.\u001b[0m\u001b[0m_get_kernel\u001b[0m\u001b[0;34m(\u001b[0m\u001b[0mX\u001b[0m\u001b[0;34m)\u001b[0m\u001b[0;34m\u001b[0m\u001b[0;34m\u001b[0m\u001b[0m\n",
            "\u001b[0;32m/usr/local/lib/python3.7/dist-packages/sklearn/base.py\u001b[0m in \u001b[0;36m_validate_data\u001b[0;34m(self, X, y, reset, validate_separately, **check_params)\u001b[0m\n\u001b[1;32m    559\u001b[0m             \u001b[0;32mraise\u001b[0m \u001b[0mValueError\u001b[0m\u001b[0;34m(\u001b[0m\u001b[0;34m\"Validation should be done on X, y or both.\"\u001b[0m\u001b[0;34m)\u001b[0m\u001b[0;34m\u001b[0m\u001b[0;34m\u001b[0m\u001b[0m\n\u001b[1;32m    560\u001b[0m         \u001b[0;32melif\u001b[0m \u001b[0;32mnot\u001b[0m \u001b[0mno_val_X\u001b[0m \u001b[0;32mand\u001b[0m \u001b[0mno_val_y\u001b[0m\u001b[0;34m:\u001b[0m\u001b[0;34m\u001b[0m\u001b[0;34m\u001b[0m\u001b[0m\n\u001b[0;32m--> 561\u001b[0;31m             \u001b[0mX\u001b[0m \u001b[0;34m=\u001b[0m \u001b[0mcheck_array\u001b[0m\u001b[0;34m(\u001b[0m\u001b[0mX\u001b[0m\u001b[0;34m,\u001b[0m \u001b[0;34m**\u001b[0m\u001b[0mcheck_params\u001b[0m\u001b[0;34m)\u001b[0m\u001b[0;34m\u001b[0m\u001b[0;34m\u001b[0m\u001b[0m\n\u001b[0m\u001b[1;32m    562\u001b[0m             \u001b[0mout\u001b[0m \u001b[0;34m=\u001b[0m \u001b[0mX\u001b[0m\u001b[0;34m\u001b[0m\u001b[0;34m\u001b[0m\u001b[0m\n\u001b[1;32m    563\u001b[0m         \u001b[0;32melif\u001b[0m \u001b[0mno_val_X\u001b[0m \u001b[0;32mand\u001b[0m \u001b[0;32mnot\u001b[0m \u001b[0mno_val_y\u001b[0m\u001b[0;34m:\u001b[0m\u001b[0;34m\u001b[0m\u001b[0;34m\u001b[0m\u001b[0m\n",
            "\u001b[0;32m/usr/local/lib/python3.7/dist-packages/sklearn/utils/validation.py\u001b[0m in \u001b[0;36mcheck_array\u001b[0;34m(array, accept_sparse, accept_large_sparse, dtype, order, copy, force_all_finite, ensure_2d, allow_nd, ensure_min_samples, ensure_min_features, estimator)\u001b[0m\n\u001b[1;32m    790\u001b[0m \u001b[0;34m\u001b[0m\u001b[0m\n\u001b[1;32m    791\u001b[0m         \u001b[0;32mif\u001b[0m \u001b[0mforce_all_finite\u001b[0m\u001b[0;34m:\u001b[0m\u001b[0;34m\u001b[0m\u001b[0;34m\u001b[0m\u001b[0m\n\u001b[0;32m--> 792\u001b[0;31m             \u001b[0m_assert_all_finite\u001b[0m\u001b[0;34m(\u001b[0m\u001b[0marray\u001b[0m\u001b[0;34m,\u001b[0m \u001b[0mallow_nan\u001b[0m\u001b[0;34m=\u001b[0m\u001b[0mforce_all_finite\u001b[0m \u001b[0;34m==\u001b[0m \u001b[0;34m\"allow-nan\"\u001b[0m\u001b[0;34m)\u001b[0m\u001b[0;34m\u001b[0m\u001b[0;34m\u001b[0m\u001b[0m\n\u001b[0m\u001b[1;32m    793\u001b[0m \u001b[0;34m\u001b[0m\u001b[0m\n\u001b[1;32m    794\u001b[0m     \u001b[0;32mif\u001b[0m \u001b[0mensure_min_samples\u001b[0m \u001b[0;34m>\u001b[0m \u001b[0;36m0\u001b[0m\u001b[0;34m:\u001b[0m\u001b[0;34m\u001b[0m\u001b[0;34m\u001b[0m\u001b[0m\n",
            "\u001b[0;32m/usr/local/lib/python3.7/dist-packages/sklearn/utils/validation.py\u001b[0m in \u001b[0;36m_assert_all_finite\u001b[0;34m(X, allow_nan, msg_dtype)\u001b[0m\n\u001b[1;32m    114\u001b[0m             raise ValueError(\n\u001b[1;32m    115\u001b[0m                 msg_err.format(\n\u001b[0;32m--> 116\u001b[0;31m                     \u001b[0mtype_err\u001b[0m\u001b[0;34m,\u001b[0m \u001b[0mmsg_dtype\u001b[0m \u001b[0;32mif\u001b[0m \u001b[0mmsg_dtype\u001b[0m \u001b[0;32mis\u001b[0m \u001b[0;32mnot\u001b[0m \u001b[0;32mNone\u001b[0m \u001b[0;32melse\u001b[0m \u001b[0mX\u001b[0m\u001b[0;34m.\u001b[0m\u001b[0mdtype\u001b[0m\u001b[0;34m\u001b[0m\u001b[0;34m\u001b[0m\u001b[0m\n\u001b[0m\u001b[1;32m    117\u001b[0m                 )\n\u001b[1;32m    118\u001b[0m             )\n",
            "\u001b[0;31mValueError\u001b[0m: Input contains NaN, infinity or a value too large for dtype('float64')."
          ]
        }
      ]
    },
    {
      "cell_type": "code",
      "metadata": {
        "id": "j_D7Gl4yqEdc"
      },
      "source": [
        "mpca = PCA(n_components=2)\n",
        "pca.fit(data)\n",
        "plt.plot(np.cumsum(pca.explained_variance_ratio_)) \n",
        "plt.xlabel('variance') \n",
        "plt.ylabel('dimension') "
      ],
      "execution_count": null,
      "outputs": []
    },
    {
      "cell_type": "code",
      "metadata": {
        "id": "MQ3uoISfX0k6"
      },
      "source": [
        "data0.shape"
      ],
      "execution_count": null,
      "outputs": []
    },
    {
      "cell_type": "markdown",
      "metadata": {
        "id": "xJOEKCzwYKLC"
      },
      "source": [
        "**NCA(Neighbourhood Component Analysis**"
      ]
    },
    {
      "cell_type": "code",
      "metadata": {
        "id": "Wnrqrt_QYCPC"
      },
      "source": [
        "nca = NeighborhoodComponentsAnalysis(random_state=42, n_components=1) \n",
        "nca.fit(data0, Y)"
      ],
      "execution_count": null,
      "outputs": []
    },
    {
      "cell_type": "code",
      "metadata": {
        "id": "Q104WuDdY-wV"
      },
      "source": [
        "transform_data0 = nca.transform(data0)"
      ],
      "execution_count": null,
      "outputs": []
    },
    {
      "cell_type": "code",
      "metadata": {
        "id": "oopwILw1ZEDF"
      },
      "source": [
        "transform_data0.shape"
      ],
      "execution_count": null,
      "outputs": []
    },
    {
      "cell_type": "code",
      "metadata": {
        "id": "3PF74ujnYnc0"
      },
      "source": [
        "from sklearn.model_selection import train_test_split\n",
        "from sklearn.decomposition import PCA\n",
        "from sklearn.discriminant_analysis import LinearDiscriminantAnalysis\n",
        "from sklearn.neighbors import (KNeighborsClassifier, NeighborhoodComponentsAnalysis)\n",
        "from sklearn.pipeline import make_pipeline\n",
        "from sklearn.preprocessing import StandardScaler"
      ],
      "execution_count": null,
      "outputs": []
    },
    {
      "cell_type": "code",
      "metadata": {
        "id": "WA8LAPI0YqE1"
      },
      "source": [
        "X_train, X_test, y_train, y_test = train_test_split(transform_data0, Y, test_size=0.3)"
      ],
      "execution_count": null,
      "outputs": []
    },
    {
      "cell_type": "markdown",
      "metadata": {
        "id": "tWmrRB5Nak6Q"
      },
      "source": [
        "##Linear Regression"
      ]
    },
    {
      "cell_type": "markdown",
      "metadata": {
        "id": "LZVfO6lDcDCe"
      },
      "source": [
        "**Training the linear regression model on training set**\n"
      ]
    },
    {
      "cell_type": "code",
      "metadata": {
        "id": "EniAK0FEaic_"
      },
      "source": [
        "from sklearn.linear_model import LinearRegression\n",
        "regressor = LinearRegression()\n",
        "regressor.fit(X_train, y_train)"
      ],
      "execution_count": null,
      "outputs": []
    },
    {
      "cell_type": "markdown",
      "metadata": {
        "id": "MhqC1NfNdClJ"
      },
      "source": [
        "**Predicting the test set results**"
      ]
    },
    {
      "cell_type": "code",
      "metadata": {
        "id": "U4himumJbAPL"
      },
      "source": [
        "y_pred = regressor.predict(X_test)"
      ],
      "execution_count": null,
      "outputs": []
    },
    {
      "cell_type": "code",
      "metadata": {
        "id": "ZywJ5oX3eiMd"
      },
      "source": [
        "# adding style theme in scatter plot\n",
        "plt.style.use('seaborn')\n",
        "\n",
        "plt.scatter(X_train, y_train, color = 'red')\n",
        "plt.plot(X_train, regressor.predict(X_train), color = 'blue')"
      ],
      "execution_count": null,
      "outputs": []
    },
    {
      "cell_type": "code",
      "metadata": {
        "id": "DvsOwBvre57r"
      },
      "source": [
        "print(X_train.size)\n",
        "print(y_train.size)\n",
        "print(X_train.shape)\n",
        "print(y_train.shape)"
      ],
      "execution_count": null,
      "outputs": []
    },
    {
      "cell_type": "code",
      "metadata": {
        "id": "aGhZlMczf4Np"
      },
      "source": [
        "# y' = m.x' + c\n",
        "print(regressor.coef_)\n",
        "print(regressor.intercept_)"
      ],
      "execution_count": null,
      "outputs": []
    },
    {
      "cell_type": "code",
      "metadata": {
        "id": "b1jrRps-bnL3"
      },
      "source": [
        "# X_train_norm = (X_train - X_train.mean())/X_train.std()\n",
        "# y_train_norm = (y_train - y_train.mean())/y_train.std()\n",
        "# plt.scatter(X_train_norm, y_train_norm, color = 'red')\n",
        "# plt.plot(X_train_norm, regressor.predict(X_train_norm), color = 'blue')\n"
      ],
      "execution_count": null,
      "outputs": []
    }
  ]
}